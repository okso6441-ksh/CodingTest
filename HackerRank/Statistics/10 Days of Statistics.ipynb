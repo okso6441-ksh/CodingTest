{
 "cells": [
  {
   "cell_type": "markdown",
   "metadata": {},
   "source": [
    "[Day 0: Mean, Median, and Mode](https://www.hackerrank.com/challenges/s10-basic-statistics/problem)"
   ]
  },
  {
   "cell_type": "code",
   "execution_count": 13,
   "metadata": {},
   "outputs": [
    {
     "name": "stdout",
     "output_type": "stream",
     "text": [
      "43900.6\n",
      "44627.5\n",
      "4978\n"
     ]
    }
   ],
   "source": [
    "import numpy as np\n",
    "from scipy import stats\n",
    "\n",
    "#n = int(input())\n",
    "#X = list(map(int, input().split()))\n",
    "\n",
    "n = 10\n",
    "X = [64630, 11735, 14216, 99233, 14470, 4978, 73429, 38120, 51135, 67060]\n",
    "\n",
    "print(np.mean(X))\n",
    "print(np.median(X))\n",
    "print(int(stats.mode(X)[0]))"
   ]
  },
  {
   "cell_type": "markdown",
   "metadata": {},
   "source": [
    "[Day 0: Weighted Mean](https://www.hackerrank.com/challenges/s10-weighted-mean/problem)"
   ]
  },
  {
   "cell_type": "code",
   "execution_count": 21,
   "metadata": {},
   "outputs": [
    {
     "name": "stdout",
     "output_type": "stream",
     "text": [
      "[ 10  80  90 200 100] [10, 80, 90, 200, 100]\n"
     ]
    },
    {
     "data": {
      "text/plain": [
       "32.0"
      ]
     },
     "execution_count": 21,
     "metadata": {},
     "output_type": "execute_result"
    }
   ],
   "source": [
    "import numpy as np\n",
    "X = [10, 40, 30, 50, 20]\n",
    "W = [1, 2, 3, 4, 5]\n",
    "\n",
    "print(np.multiply(X,W), [a*b for a,b in zip(X, W)])\n",
    "\n",
    "round(sum(np.multiply(X,W)) / sum(W), 1)"
   ]
  },
  {
   "cell_type": "markdown",
   "metadata": {},
   "source": [
    "[Day 1: Standard Deviation](https://www.hackerrank.com/challenges/s10-standard-deviation/problem)"
   ]
  },
  {
   "cell_type": "code",
   "execution_count": 37,
   "metadata": {},
   "outputs": [
    {
     "name": "stdout",
     "output_type": "stream",
     "text": [
      "14.1\n"
     ]
    },
    {
     "data": {
      "text/plain": [
       "14.1"
      ]
     },
     "execution_count": 37,
     "metadata": {},
     "output_type": "execute_result"
    }
   ],
   "source": [
    "n = 5\n",
    "arr =[10, 40, 30, 50, 20]\n",
    "print(round(np.std(arr),1))\n",
    "\n",
    "mean = sum(arr)/n\n",
    "round((sum([(a-mean)**2 for a in arr])/n)**(1/2),1)"
   ]
  },
  {
   "cell_type": "markdown",
   "metadata": {},
   "source": [
    "[Day 1: Quartiles](https://www.hackerrank.com/challenges/s10-quartiles/problem)"
   ]
  },
  {
   "cell_type": "code",
   "execution_count": 85,
   "metadata": {},
   "outputs": [
    {
     "data": {
      "text/plain": [
       "(7, 10.5, 14)"
      ]
     },
     "execution_count": 85,
     "metadata": {},
     "output_type": "execute_result"
    }
   ],
   "source": [
    "from statistics import median\n",
    "n = 10\n",
    "#arr = [3, 5, 7, 8    , 12     , 13,14, 18, 21]\n",
    "arr = [3, 5, 7, 8,    9, 12     , 13,14, 18, 21]\n",
    "arr.sort()\n",
    "np.quantile(arr, 0.25), np.quantile(arr, 0.5), np.quantile(arr, 0.75)\n",
    "\n",
    "if n%2==0:\n",
    "    Q2 = (arr[n//2-1]+arr[n//2])/2\n",
    "    left = arr[:n//2] \n",
    "    right = arr[n//2:]\n",
    "    \n",
    "else:\n",
    "    Q2 = arr[n//2]\n",
    "    left = arr[:n//2] \n",
    "    right = arr[n//2+1:]\n",
    "    \n",
    "if len(left)%2==0:\n",
    "    Q1 = (left[len(left)//2-1]+left[len(left)//2])/2\n",
    "    Q3 = (right[len(right)//2-1]+right[len(right)//2])/2\n",
    "else:\n",
    "    Q1 = left[len(left)//2]\n",
    "    Q3 = right[len(right)//2]\n",
    "    \n",
    "Q1, Q2, Q3    "
   ]
  },
  {
   "cell_type": "markdown",
   "metadata": {},
   "source": [
    "[Day 1: Interquartile Range](https://www.hackerrank.com/challenges/s10-interquartile-range/problem)"
   ]
  },
  {
   "cell_type": "code",
   "execution_count": 100,
   "metadata": {},
   "outputs": [
    {
     "name": "stdout",
     "output_type": "stream",
     "text": [
      "[6, 6, 6, 6, 6, 8, 8, 8, 10, 10] 11.0 [12, 12, 12, 12, 16, 16, 16, 16, 16, 20]\n"
     ]
    },
    {
     "data": {
      "text/plain": [
       "(7.0, 11.0, 16.0)"
      ]
     },
     "execution_count": 100,
     "metadata": {},
     "output_type": "execute_result"
    }
   ],
   "source": [
    "n = 6\n",
    "values = [6, 12, 8, 10, 20, 16]\n",
    "freqs = [5, 4, 3, 2, 1, 5]\n",
    "arr = []\n",
    "for a, b in zip(values, freqs):\n",
    "    for i in range(b):\n",
    "        arr.append(a)\n",
    "        \n",
    "arr.sort()\n",
    "n = len(arr)\n",
    "\n",
    "if n%2==0:\n",
    "    Q2 = (arr[n//2-1]+arr[n//2])/2\n",
    "    left = arr[:n//2] \n",
    "    right = arr[n//2:]\n",
    "    \n",
    "else:\n",
    "    Q2 = arr[n//2]\n",
    "    left = arr[:n//2] \n",
    "    right = arr[n//2+1:]\n",
    "print(left, Q2, right)    \n",
    "if len(left)%2==0:\n",
    "    Q1 = (left[len(left)//2-1]+left[len(left)//2])/2\n",
    "    Q3 = (right[len(right)//2-1]+right[len(right)//2])/2\n",
    "else:\n",
    "    Q1 = left[len(left)//2]\n",
    "    Q3 = right[len(right)//2]\n",
    "    \n",
    "round(float(Q3-Q1),1)"
   ]
  },
  {
   "cell_type": "markdown",
   "metadata": {},
   "source": [
    "123456\n",
    "4/36\n",
    "8/36\n",
    "4 2\n",
    "2 4\n",
    "1 5\n",
    "5 1"
   ]
  },
  {
   "cell_type": "code",
   "execution_count": null,
   "metadata": {},
   "outputs": [],
   "source": []
  },
  {
   "cell_type": "code",
   "execution_count": null,
   "metadata": {},
   "outputs": [],
   "source": []
  },
  {
   "cell_type": "code",
   "execution_count": null,
   "metadata": {},
   "outputs": [],
   "source": []
  },
  {
   "cell_type": "code",
   "execution_count": null,
   "metadata": {},
   "outputs": [],
   "source": []
  }
 ],
 "metadata": {
  "kernelspec": {
   "display_name": "Python 3",
   "language": "python",
   "name": "python3"
  },
  "language_info": {
   "codemirror_mode": {
    "name": "ipython",
    "version": 3
   },
   "file_extension": ".py",
   "mimetype": "text/x-python",
   "name": "python",
   "nbconvert_exporter": "python",
   "pygments_lexer": "ipython3",
   "version": "3.7.6"
  }
 },
 "nbformat": 4,
 "nbformat_minor": 4
}
