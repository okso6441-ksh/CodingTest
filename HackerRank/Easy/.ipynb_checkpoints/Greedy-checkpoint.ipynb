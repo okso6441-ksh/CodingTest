{
 "cells": [
  {
   "cell_type": "markdown",
   "metadata": {},
   "source": [
    "[Minimum Absolute Difference in an Array](https://www.hackerrank.com/challenges/minimum-absolute-difference-in-an-array/problem?h_l=interview&playlist_slugs%5B%5D=interview-preparation-kit&playlist_slugs%5B%5D=greedy-algorithms)\n",
    "\n",
    "arr에서 최소 절대 차이를 구하시오."
   ]
  },
  {
   "cell_type": "code",
   "execution_count": 1,
   "metadata": {},
   "outputs": [
    {
     "data": {
      "text/plain": [
       "3"
      ]
     },
     "execution_count": 1,
     "metadata": {},
     "output_type": "execute_result"
    }
   ],
   "source": [
    "# Minimum Absolute Difference in an Array\n",
    "n=3\n",
    "arr = [3, -7, 0]\n",
    "arr.sort()\n",
    "arr.extend([arr[0]])\n",
    "\n",
    "result = []\n",
    "for i in range(n):\n",
    "    result.append(abs(arr[i]-arr[i+1]))\n",
    "    \n",
    "min(result)    "
   ]
  },
  {
   "cell_type": "code",
   "execution_count": 2,
   "metadata": {},
   "outputs": [
    {
     "data": {
      "text/plain": [
       "1"
      ]
     },
     "execution_count": 2,
     "metadata": {},
     "output_type": "execute_result"
    }
   ],
   "source": [
    "# Minimum Absolute Difference in an Array\n",
    "n=10\n",
    "arr = [-59, -36, -13, 1, -53, -92, -2, -96, -54, 75]\n",
    "arr.sort()\n",
    "arr.extend([arr[0]])\n",
    "\n",
    "result = []\n",
    "for i in range(n):\n",
    "    result.append(abs(arr[i]-arr[i+1]))\n",
    "    \n",
    "min(result)   "
   ]
  },
  {
   "cell_type": "markdown",
   "metadata": {},
   "source": [
    "[Luck Balance](https://www.hackerrank.com/challenges/luck-balance/problem?h_l=interview&playlist_slugs%5B%5D=interview-preparation-kit&playlist_slugs%5B%5D=greedy-algorithms)\n",
    "\n",
    "행운이 배열 L: 대회에서 이기면 행운이 감소, 이면 행운이 증가하며 균형을 맞춘다.  \n",
    "대회 중요도가 배열 T: 1이면 중요하고 0이면 중요하지 않은 대회이다.  \n",
    "k번째 대회가 중요하다고 했을 때, 모든 대회에 참가 후 가질 수 있는 최대 행은은?  "
   ]
  },
  {
   "cell_type": "code",
   "execution_count": 3,
   "metadata": {},
   "outputs": [
    {
     "name": "stdout",
     "output_type": "stream",
     "text": [
      "4 [5, 1]\n",
      "5 2\n",
      "1 1\n",
      "total 10\n"
     ]
    }
   ],
   "source": [
    "# Luck Balance\n",
    "\n",
    "n = 3\n",
    "k = 2\n",
    "contests = [[5,1],[1,1],[4,0]]\n",
    "\n",
    "total = 0\n",
    "result = []\n",
    "\n",
    "for x, y in contests:\n",
    "    #print(x, y)\n",
    "    if y == 0:\n",
    "        total += x\n",
    "    else:\n",
    "        result.append(x)\n",
    "        \n",
    "print(total, sorted(result, reverse=True))\n",
    "\n",
    "for i in sorted(result, reverse=True):\n",
    "    print(i, k)\n",
    "    if k > 0:\n",
    "        total += i\n",
    "        k -= 1\n",
    "    else:\n",
    "        total -= i\n",
    "        \n",
    "print('total',total)    "
   ]
  }
 ],
 "metadata": {
  "kernelspec": {
   "display_name": "Python 3",
   "language": "python",
   "name": "python3"
  },
  "language_info": {
   "codemirror_mode": {
    "name": "ipython",
    "version": 3
   },
   "file_extension": ".py",
   "mimetype": "text/x-python",
   "name": "python",
   "nbconvert_exporter": "python",
   "pygments_lexer": "ipython3",
   "version": "3.7.6"
  }
 },
 "nbformat": 4,
 "nbformat_minor": 4
}
