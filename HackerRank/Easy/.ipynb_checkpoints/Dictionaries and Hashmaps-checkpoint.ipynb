{
 "cells": [
  {
   "cell_type": "markdown",
   "metadata": {},
   "source": [
    "[Hash Tables: Ransom Note](https://www.hackerrank.com/challenges/ctci-ransom-note/problem?h_l=interview&playlist_slugs%5B%5D=interview-preparation-kit&playlist_slugs%5B%5D=dictionaries-hashmaps)\n",
    "\n",
    "배열 magazine 의 단어를 조합하여 note를 만들 수 있으면 YES 없으면 NO 출력  \n",
    "(단, 대소문자 구분)"
   ]
  },
  {
   "cell_type": "code",
   "execution_count": 1,
   "metadata": {},
   "outputs": [
    {
     "name": "stdout",
     "output_type": "stream",
     "text": [
      "No\n"
     ]
    }
   ],
   "source": [
    "# Hash Tables: Ransom Note\n",
    "import numpy as np\n",
    "magazine = [\"give\", \"me\", \"one\", \"grand\", \"today\", \"night\"]\n",
    "note = [\"give\", \"one\",\"grand\", \"today\", \"today\"]\n",
    "\n",
    "for m in magazine:\n",
    "    try:\n",
    "        note.remove(m)\n",
    "    except:\n",
    "        pass\n",
    "    \n",
    "if len(note) == 0:\n",
    "    print('Yes')\n",
    "else:\n",
    "    print('No')"
   ]
  },
  {
   "cell_type": "code",
   "execution_count": 2,
   "metadata": {},
   "outputs": [
    {
     "data": {
      "text/plain": [
       "1"
      ]
     },
     "execution_count": 2,
     "metadata": {},
     "output_type": "execute_result"
    }
   ],
   "source": [
    "# Hash Tables: Ransom Note\n",
    "from collections import Counter\n",
    "magazine = [\"give\", \"me\", \"one\", \"grand\", \"today\", \"night\"]\n",
    "note = [\"give\", \"one\",\"grand\", \"today\", \"today\"]\n",
    "\n",
    "len(Counter(note) - Counter(magazine))"
   ]
  },
  {
   "cell_type": "markdown",
   "metadata": {},
   "source": [
    "[Two Strings](https://www.hackerrank.com/challenges/two-strings/problem?h_l=interview&playlist_slugs%5B%5D=interview-preparation-kit&playlist_slugs%5B%5D=dictionaries-hashmaps)\n",
    "\n",
    "두 문자(s1, s2)가 공통된 부분이 존재하면 YES, 없으면 NO  "
   ]
  },
  {
   "cell_type": "code",
   "execution_count": 3,
   "metadata": {},
   "outputs": [
    {
     "name": "stdout",
     "output_type": "stream",
     "text": [
      "Yes\n",
      "No\n"
     ]
    }
   ],
   "source": [
    "# Two Strings\n",
    "\n",
    "def twoStrings(s1, s2):\n",
    "    s1 = set(list(s1))\n",
    "    s2 = set(list(s2))\n",
    "    if len(s1 & s2) == 0:\n",
    "        print('No')\n",
    "    else:\n",
    "        print('Yes')\n",
    "    \n",
    "twoStrings('hello', 'wolrd')    \n",
    "twoStrings('hi', 'wolrd')    "
   ]
  },
  {
   "cell_type": "code",
   "execution_count": null,
   "metadata": {},
   "outputs": [],
   "source": []
  }
 ],
 "metadata": {
  "kernelspec": {
   "display_name": "Python 3",
   "language": "python",
   "name": "python3"
  },
  "language_info": {
   "codemirror_mode": {
    "name": "ipython",
    "version": 3
   },
   "file_extension": ".py",
   "mimetype": "text/x-python",
   "name": "python",
   "nbconvert_exporter": "python",
   "pygments_lexer": "ipython3",
   "version": "3.7.6"
  }
 },
 "nbformat": 4,
 "nbformat_minor": 4
}
