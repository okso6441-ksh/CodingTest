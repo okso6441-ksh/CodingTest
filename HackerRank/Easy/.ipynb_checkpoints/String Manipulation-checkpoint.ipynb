{
 "cells": [
  {
   "cell_type": "code",
   "execution_count": 1,
   "metadata": {},
   "outputs": [
    {
     "data": {
      "text/plain": [
       "6"
      ]
     },
     "execution_count": 1,
     "metadata": {},
     "output_type": "execute_result"
    }
   ],
   "source": [
    "# Making Anagrams\n",
    "\n",
    "a =    'cde'\n",
    "b = 'abccc'\n",
    "\n",
    "a = list(a)\n",
    "b = list(b)\n",
    "\n",
    "from collections import Counter\n",
    "ca = Counter(a)\n",
    "cb = Counter(b)\n",
    "\n",
    "cab = ca - cb\n",
    "cba = cb - ca\n",
    "sum(cab.values())+sum(cba.values())"
   ]
  },
  {
   "cell_type": "code",
   "execution_count": 2,
   "metadata": {},
   "outputs": [
    {
     "data": {
      "text/plain": [
       "4"
      ]
     },
     "execution_count": 2,
     "metadata": {},
     "output_type": "execute_result"
    }
   ],
   "source": [
    "# Alternating Characters\n",
    "\n",
    "s = 'AAABBB'\n",
    "old = s[0]\n",
    "cnt = 0\n",
    "for i in s[1:]:\n",
    "    if i == old:\n",
    "        cnt += 1\n",
    "    else:\n",
    "        old = i\n",
    "cnt        "
   ]
  }
 ],
 "metadata": {
  "kernelspec": {
   "display_name": "Python 3",
   "language": "python",
   "name": "python3"
  },
  "language_info": {
   "codemirror_mode": {
    "name": "ipython",
    "version": 3
   },
   "file_extension": ".py",
   "mimetype": "text/x-python",
   "name": "python",
   "nbconvert_exporter": "python",
   "pygments_lexer": "ipython3",
   "version": "3.7.6"
  }
 },
 "nbformat": 4,
 "nbformat_minor": 4
}
