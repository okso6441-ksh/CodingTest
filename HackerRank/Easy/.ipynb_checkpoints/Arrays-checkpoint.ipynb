{
 "cells": [
  {
   "cell_type": "markdown",
   "metadata": {},
   "source": [
    "[2D Array - DS](https://www.hackerrank.com/challenges/2d-array/problem?h_l=interview&playlist_slugs%5B%5D=interview-preparation-kit&playlist_slugs%5B%5D=arrays)  \n",
    "\n",
    "6X6 arr가 주어졌을 때, 모래시계모양의 조합이 4X4개 나올 수 있다.  \n",
    "모래시계의 합을 4X4로 출력하시오.  "
   ]
  },
  {
   "cell_type": "code",
   "execution_count": 1,
   "metadata": {},
   "outputs": [
    {
     "name": "stdout",
     "output_type": "stream",
     "text": [
      "28\n"
     ]
    }
   ],
   "source": [
    "# 2D Array - DS\n",
    "\n",
    "arr = [\n",
    "    [-9,-9,-9,1,1,1],\n",
    "    [0,-9,0,4,3,2],\n",
    "    [-9,-9,-9,1,2,3],\n",
    "    [0,0,8,6,6,0],\n",
    "    [0,0,0,-2,0,0],\n",
    "    [0,0,1,2,4,0]\n",
    "]\n",
    "sum=[]\n",
    "for i in range(4):\n",
    "    for j in range(4):\n",
    "        sum.append(arr[i][j]+arr[i][j+1]+arr[i][j+2]+arr[i+1][j+1]+arr[i+2][j]+arr[i+2][j+1]+arr[i+2][j+2])\n",
    "        \n",
    "print(max(sum))        "
   ]
  },
  {
   "cell_type": "markdown",
   "metadata": {},
   "source": [
    "[Arrays: Left Rotation](https://www.hackerrank.com/challenges/ctci-array-left-rotation/problem?h_l=interview&playlist_slugs%5B%5D=interview-preparation-kit&playlist_slugs%5B%5D=arrays)\n",
    "\n",
    "배열 a를 d번 로테이트 시킨 결과를 출력하시오."
   ]
  },
  {
   "cell_type": "code",
   "execution_count": 2,
   "metadata": {},
   "outputs": [
    {
     "name": "stdout",
     "output_type": "stream",
     "text": [
      "5 1 2 3 4\n"
     ]
    }
   ],
   "source": [
    "# Arrays: Left Rotation\n",
    "\n",
    "a = [1,2,3,4,5]\n",
    "d = 4\n",
    "result = ''\n",
    "a = list(map(str, a))\n",
    "result += ' '.join(a[d:])+' '\n",
    "result += ' '.join(a[:d])\n",
    "print(result)"
   ]
  },
  {
   "cell_type": "code",
   "execution_count": 3,
   "metadata": {},
   "outputs": [
    {
     "name": "stdout",
     "output_type": "stream",
     "text": [
      "87 97 33 47 70 37 8 53 13 93 71 72 51 100 60\n"
     ]
    }
   ],
   "source": [
    "# Arrays: Left Rotation\n",
    "\n",
    "a = [33, 47, 70, 37, 8, 53, 13, 93, 71, 72, 51, 100, 60, 87, 97]\n",
    "d = 13\n",
    "b = []\n",
    "for i in a[d:]:\n",
    "    b.append(i)\n",
    "for i in a[:d]:\n",
    "    b.append(i)\n",
    "    \n",
    "print(' '.join([str(x) for x in b]))    "
   ]
  },
  {
   "cell_type": "code",
   "execution_count": null,
   "metadata": {},
   "outputs": [],
   "source": []
  }
 ],
 "metadata": {
  "kernelspec": {
   "display_name": "Python 3",
   "language": "python",
   "name": "python3"
  },
  "language_info": {
   "codemirror_mode": {
    "name": "ipython",
    "version": 3
   },
   "file_extension": ".py",
   "mimetype": "text/x-python",
   "name": "python",
   "nbconvert_exporter": "python",
   "pygments_lexer": "ipython3",
   "version": "3.7.6"
  }
 },
 "nbformat": 4,
 "nbformat_minor": 4
}
