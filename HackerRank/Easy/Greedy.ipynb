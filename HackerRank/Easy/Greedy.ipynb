{
 "cells": [
  {
   "cell_type": "code",
   "execution_count": 1,
   "metadata": {},
   "outputs": [],
   "source": [
    "# Minimum Absolute Difference in an Array\n",
    "n=3\n",
    "arr = [3, -7, 0]\n",
    "arr.sort()\n",
    "arr.extend([arr[0]])\n",
    "\n",
    "result = []\n",
    "for i in range(n):\n",
    "    result.append(abs(arr[i]-arr[i+1]))\n",
    "    \n",
    "min(result)    "
   ]
  },
  {
   "cell_type": "code",
   "execution_count": 2,
   "metadata": {},
   "outputs": [],
   "source": [
    "# Minimum Absolute Difference in an Array\n",
    "n=10\n",
    "arr = [-59, -36, -13, 1, -53, -92, -2, -96, -54, 75]\n",
    "arr.sort()\n",
    "arr.sort()\n",
    "arr.extend([arr[0]])\n",
    "\n",
    "result = []\n",
    "for i in range(n):\n",
    "    result.append(abs(arr[i]-arr[i+1]))\n",
    "    \n",
    "min(result)   "
   ]
  },
  {
   "cell_type": "code",
   "execution_count": 3,
   "metadata": {},
   "outputs": [],
   "source": [
    "# Luck Balance\n",
    "\n",
    "n = 3\n",
    "k = 2\n",
    "contests = [[5,1],[1,1],[4,0]]\n",
    "\n",
    "total = 0\n",
    "result = []\n",
    "\n",
    "for x, y in contests:\n",
    "    #print(x, y)\n",
    "    if y == 0:\n",
    "        total += x\n",
    "    else:\n",
    "        result.append(x)\n",
    "        \n",
    "print(total, sorted(result, reverse=True))\n",
    "\n",
    "for i in sorted(result, reverse=True):\n",
    "    print(i, k)\n",
    "    if k > 0:\n",
    "        total += i\n",
    "        k -= 1\n",
    "    else:\n",
    "        total -= i\n",
    "        \n",
    "print('total',total)    "
   ]
  }
 ],
 "metadata": {
  "kernelspec": {
   "display_name": "Python 3",
   "language": "python",
   "name": "python3"
  },
  "language_info": {
   "codemirror_mode": {
    "name": "ipython",
    "version": 3
   },
   "file_extension": ".py",
   "mimetype": "text/x-python",
   "name": "python",
   "nbconvert_exporter": "python",
   "pygments_lexer": "ipython3",
   "version": "3.7.6"
  }
 },
 "nbformat": 4,
 "nbformat_minor": 4
}
