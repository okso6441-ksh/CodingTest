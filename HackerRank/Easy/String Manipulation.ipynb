{
 "cells": [
  {
   "cell_type": "markdown",
   "metadata": {},
   "source": [
    "[Making Anagrams](https://www.hackerrank.com/challenges/ctci-making-anagrams/problem?h_l=interview&playlist_slugs%5B%5D=interview-preparation-kit&playlist_slugs%5B%5D=strings)\n",
    "\n",
    "a, b가 아나그램이 되기 위해 삭제해야 하는 문자열은 몇개인지 출력하시오.  \n",
    "(동일 문자, 동일 횟수)"
   ]
  },
  {
   "cell_type": "code",
   "execution_count": 1,
   "metadata": {},
   "outputs": [
    {
     "data": {
      "text/plain": [
       "6"
      ]
     },
     "execution_count": 1,
     "metadata": {},
     "output_type": "execute_result"
    }
   ],
   "source": [
    "# Making Anagrams\n",
    "\n",
    "a =    'cde'\n",
    "b = 'abccc'\n",
    "\n",
    "a = list(a)\n",
    "b = list(b)\n",
    "\n",
    "from collections import Counter\n",
    "ca = Counter(a)\n",
    "cb = Counter(b)\n",
    "\n",
    "cab = ca - cb\n",
    "cba = cb - ca\n",
    "sum(cab.values())+sum(cba.values())"
   ]
  },
  {
   "cell_type": "markdown",
   "metadata": {},
   "source": [
    "[Alternating Characters](https://www.hackerrank.com/challenges/alternating-characters/problem?h_l=interview&playlist_slugs%5B%5D=interview-preparation-kit&playlist_slugs%5B%5D=strings)\n",
    "\n",
    "s 문자열은 A/B로 구성되는데 인접한 문자열은 삭제하려고 할때 몇개를 삭제해야하는가?  "
   ]
  },
  {
   "cell_type": "code",
   "execution_count": 2,
   "metadata": {},
   "outputs": [
    {
     "data": {
      "text/plain": [
       "4"
      ]
     },
     "execution_count": 2,
     "metadata": {},
     "output_type": "execute_result"
    }
   ],
   "source": [
    "# Alternating Characters\n",
    "\n",
    "s = 'AAABBB'\n",
    "old = s[0]\n",
    "cnt = 0\n",
    "for i in s[1:]:\n",
    "    if i == old:\n",
    "        cnt += 1\n",
    "    else:\n",
    "        old = i\n",
    "cnt        "
   ]
  }
 ],
 "metadata": {
  "kernelspec": {
   "display_name": "Python 3",
   "language": "python",
   "name": "python3"
  },
  "language_info": {
   "codemirror_mode": {
    "name": "ipython",
    "version": 3
   },
   "file_extension": ".py",
   "mimetype": "text/x-python",
   "name": "python",
   "nbconvert_exporter": "python",
   "pygments_lexer": "ipython3",
   "version": "3.7.6"
  }
 },
 "nbformat": 4,
 "nbformat_minor": 4
}
