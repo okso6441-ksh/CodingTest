{
 "cells": [
  {
   "cell_type": "code",
   "execution_count": 1,
   "metadata": {},
   "outputs": [
    {
     "name": "stdout",
     "output_type": "stream",
     "text": [
      "4294967286\n"
     ]
    }
   ],
   "source": [
    "# Flipping bits\n",
    "\n",
    "n=9\n",
    "\n",
    "print(n^4294967295) # bitwise xor (discussion)"
   ]
  },
  {
   "cell_type": "code",
   "execution_count": 2,
   "metadata": {},
   "outputs": [
    {
     "name": "stdout",
     "output_type": "stream",
     "text": [
      "s0 1001\n",
      "t {48: 49, 49: 48}\n",
      "s1 0110\n"
     ]
    },
    {
     "data": {
      "text/plain": [
       "('11111111111111111111111111110110', 4294967286)"
      ]
     },
     "execution_count": 2,
     "metadata": {},
     "output_type": "execute_result"
    }
   ],
   "source": [
    "s = bin(n)[2:]\n",
    "print('s0', s)\n",
    "t = (bin(n)[2:]).maketrans(\"01\",\"10\") # maketrans 대응 문자 치환  \n",
    "print('t', t)\n",
    "s = s.translate(t)\n",
    "print('s1', s)\n",
    "\n",
    "s = (32-len(s))*\"1\"+s\n",
    "s, int(s, 2)"
   ]
  }
 ],
 "metadata": {
  "kernelspec": {
   "display_name": "Python 3",
   "language": "python",
   "name": "python3"
  },
  "language_info": {
   "codemirror_mode": {
    "name": "ipython",
    "version": 3
   },
   "file_extension": ".py",
   "mimetype": "text/x-python",
   "name": "python",
   "nbconvert_exporter": "python",
   "pygments_lexer": "ipython3",
   "version": "3.7.6"
  }
 },
 "nbformat": 4,
 "nbformat_minor": 4
}
