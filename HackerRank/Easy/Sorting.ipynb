{
 "cells": [
  {
   "cell_type": "code",
   "execution_count": 1,
   "metadata": {},
   "outputs": [
    {
     "name": "stdout",
     "output_type": "stream",
     "text": [
      "Array 3 swaps.\n",
      "1\n",
      "3\n"
     ]
    }
   ],
   "source": [
    "# Bubble Sort\n",
    "\n",
    "n = 3\n",
    "a = [3, 2, 1]\n",
    "\n",
    "cnt = 0\n",
    "for i in range(n):\n",
    "    for j in range(n-1):\n",
    "        if a[j] > a[j+1]:\n",
    "            cnt += 1\n",
    "            a[j], a[j+1] = a[j+1], a[j]\n",
    "            \n",
    "print('Array {} swaps.'.format(cnt))\n",
    "print(a[0])            \n",
    "print(a[-1])            "
   ]
  },
  {
   "cell_type": "code",
   "execution_count": 2,
   "metadata": {},
   "outputs": [
    {
     "name": "stdout",
     "output_type": "stream",
     "text": [
      "4\n"
     ]
    }
   ],
   "source": [
    "# Mark and Toys\n",
    "\n",
    "n, k = 7, 50\n",
    "prices = [1, 12, 5, 111, 200, 1000, 10]\n",
    "\n",
    "prices.sort()\n",
    "total = 0\n",
    "cnt = 0\n",
    "for i, p in enumerate(prices):\n",
    "    total += p\n",
    "    if k <= total and cnt == 0:\n",
    "        cnt = i\n",
    "\n",
    "print(cnt)"
   ]
  },
  {
   "cell_type": "code",
   "execution_count": 3,
   "metadata": {},
   "outputs": [
    {
     "name": "stdout",
     "output_type": "stream",
     "text": [
      "3\n"
     ]
    }
   ],
   "source": [
    "# Mark and Toys\n",
    "\n",
    "n, k = 4,7\n",
    "prices = [1, 2,3,4]\n",
    "\n",
    "prices.sort()\n",
    "total = 0\n",
    "cnt = 0\n",
    "for i, p in enumerate(prices):\n",
    "    total += p\n",
    "    if k <= total and cnt == 0:\n",
    "        cnt = i\n",
    "\n",
    "print(cnt)"
   ]
  }
 ],
 "metadata": {
  "kernelspec": {
   "display_name": "Python 3",
   "language": "python",
   "name": "python3"
  },
  "language_info": {
   "codemirror_mode": {
    "name": "ipython",
    "version": 3
   },
   "file_extension": ".py",
   "mimetype": "text/x-python",
   "name": "python",
   "nbconvert_exporter": "python",
   "pygments_lexer": "ipython3",
   "version": "3.7.6"
  }
 },
 "nbformat": 4,
 "nbformat_minor": 4
}
