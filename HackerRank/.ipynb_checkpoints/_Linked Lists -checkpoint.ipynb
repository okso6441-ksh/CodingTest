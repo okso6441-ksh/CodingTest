{
 "cells": [
  {
   "cell_type": "code",
   "execution_count": null,
   "metadata": {},
   "outputs": [],
   "source": [
    "# Insert a node at a specific position in a linked list\n",
    "\n",
    "3\n",
    "16\n",
    "13\n",
    "7\n",
    "1\n",
    "2"
   ]
  },
  {
   "cell_type": "code",
   "execution_count": null,
   "metadata": {},
   "outputs": [],
   "source": [
    "# Inserting a Node Into a Sorted Doubly Linked List\n",
    "\n",
    "STDIN   Function\n",
    "-----   --------\n",
    "1       t = 1\n",
    "4       n = 4\n",
    "1       node data values = 1, 3, 4, 10\n",
    "3\n",
    "4\n",
    "10\n",
    "5       data = 5\n",
    "\n"
   ]
  },
  {
   "cell_type": "code",
   "execution_count": null,
   "metadata": {},
   "outputs": [],
   "source": [
    "# Reverse a doubly linked list\n",
    "\n",
    "1\n",
    "4\n",
    "1\n",
    "2\n",
    "3\n",
    "4"
   ]
  },
  {
   "cell_type": "code",
   "execution_count": null,
   "metadata": {},
   "outputs": [],
   "source": [
    "# Find Merge Point of Two Lists\n",
    "\n",
    "[List #1] a--->b--->c\n",
    "                     \\\n",
    "                      x--->y--->z--->NULL\n",
    "                     /\n",
    "     [List #2] p--->q\n",
    "      \n",
    " 1\n",
    "  \\\n",
    "   2--->3--->NULL\n",
    "  /\n",
    " 1      \n",
    "      \n",
    "1--->2\n",
    "      \\\n",
    "       3--->Null\n",
    "      /\n",
    "     1      "
   ]
  },
  {
   "cell_type": "code",
   "execution_count": null,
   "metadata": {},
   "outputs": [],
   "source": [
    "# Linked Lists: Detect a Cycle\n",
    "\n"
   ]
  }
 ],
 "metadata": {
  "kernelspec": {
   "display_name": "Python 3",
   "language": "python",
   "name": "python3"
  },
  "language_info": {
   "codemirror_mode": {
    "name": "ipython",
    "version": 3
   },
   "file_extension": ".py",
   "mimetype": "text/x-python",
   "name": "python",
   "nbconvert_exporter": "python",
   "pygments_lexer": "ipython3",
   "version": "3.7.6"
  }
 },
 "nbformat": 4,
 "nbformat_minor": 4
}
