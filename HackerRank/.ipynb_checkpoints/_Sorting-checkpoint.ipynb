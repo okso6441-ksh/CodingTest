{
 "cells": [
  {
   "cell_type": "code",
   "execution_count": null,
   "metadata": {},
   "outputs": [],
   "source": [
    "# Bubble Sort\n",
    "\n",
    "for (int i = 0; i < n; i++) {\n",
    "    \n",
    "    for (int j = 0; j < n - 1; j++) {\n",
    "        // Swap adjacent elements if they are in decreasing order\n",
    "        if (a[j] > a[j + 1]) {\n",
    "            swap(a[j], a[j + 1]);\n",
    "        }\n",
    "    }\n",
    "    \n",
    "}\n",
    "\n",
    "STDIN   Function\n",
    "-----   --------\n",
    "3       a[] size n = 3\n",
    "1 2 3   a = [1, 2, 3]\n",
    "\n",
    "Array is sorted in 0 swaps.\n",
    "First Element: 1\n",
    "Last Element: 3\n",
    "    \n",
    "3\n",
    "3 2 1"
   ]
  },
  {
   "cell_type": "code",
   "execution_count": null,
   "metadata": {},
   "outputs": [],
   "source": [
    "# Mark and Toys\n",
    "\n",
    "7 50\n",
    "1 12 5 111 200 1000 10"
   ]
  }
 ],
 "metadata": {
  "kernelspec": {
   "display_name": "Python 3",
   "language": "python",
   "name": "python3"
  },
  "language_info": {
   "codemirror_mode": {
    "name": "ipython",
    "version": 3
   },
   "file_extension": ".py",
   "mimetype": "text/x-python",
   "name": "python",
   "nbconvert_exporter": "python",
   "pygments_lexer": "ipython3",
   "version": "3.7.6"
  }
 },
 "nbformat": 4,
 "nbformat_minor": 4
}
