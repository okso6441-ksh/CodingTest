{
 "cells": [
  {
   "cell_type": "code",
   "execution_count": 1,
   "metadata": {},
   "outputs": [
    {
     "name": "stdout",
     "output_type": "stream",
     "text": [
      "2\n"
     ]
    }
   ],
   "source": [
    "# Sales by Match\n",
    "\n",
    "n = 7\n",
    "ar = [1,2,1,2,1,3,2]\n",
    "\n",
    "count = [0]*(max(ar)+1)\n",
    "   \n",
    "for i in ar:\n",
    "    count[i] += 1\n",
    "count = [x//2 for x in count]\n",
    "print(sum(count))"
   ]
  },
  {
   "cell_type": "code",
   "execution_count": 2,
   "metadata": {},
   "outputs": [
    {
     "name": "stdout",
     "output_type": "stream",
     "text": [
      "[1, 0, -1, -2, -1, -2, -1, 0]\n",
      "[0, 0, -1, -1, -1, -1, -1, 0]\n",
      "1\n"
     ]
    }
   ],
   "source": [
    "# Counting Valleys\n",
    "\n",
    "steps=8\n",
    "path='UDDDUDUU'\n",
    "\n",
    "high = 0\n",
    "ar =[]\n",
    "\n",
    "for i in path:\n",
    "    if i=='U':\n",
    "        high += 1\n",
    "        ar.append(high)\n",
    "    else:\n",
    "        high -= 1\n",
    "        ar.append(high)\n",
    "print(ar)        \n",
    "ar = [-1 if x < 0 else 0 for x in ar]        \n",
    "print(ar)   \n",
    "cnt = 0        \n",
    "init = ar[0]\n",
    "for j in ar[1:]:\n",
    "    if init != j:\n",
    "        init = j\n",
    "        cnt += 1\n",
    "if cnt > 0: cnt -= 1        \n",
    "print(cnt)        "
   ]
  },
  {
   "cell_type": "code",
   "execution_count": 3,
   "metadata": {},
   "outputs": [
    {
     "name": "stdout",
     "output_type": "stream",
     "text": [
      "0\n"
     ]
    }
   ],
   "source": [
    "# Counting Valleys\n",
    "\n",
    "steps=10\n",
    "path='UDUUUDUDDD'\n",
    "high = 0\n",
    "cnt = 0\n",
    "for i in path:\n",
    "    if i=='D' and high==0:\n",
    "        cnt += 1\n",
    "    \n",
    "    if i=='U':\n",
    "        high+=1\n",
    "    else:\n",
    "        high-=1\n",
    "        \n",
    "print(cnt)"
   ]
  },
  {
   "cell_type": "code",
   "execution_count": 4,
   "metadata": {},
   "outputs": [
    {
     "name": "stdout",
     "output_type": "stream",
     "text": [
      "4\n"
     ]
    }
   ],
   "source": [
    "# Jumping on the Clouds\n",
    "\n",
    "n = 7\n",
    "c = [0,0,1,0,0,1,0]\n",
    "\n",
    "pos = ''.join(list(map(str, c))).find('0')\n",
    "cnt = 0\n",
    "\n",
    "while pos != n:\n",
    "    \n",
    "    if pos >= n-1:\n",
    "        break\n",
    "    if c[pos] == 0:\n",
    "        if pos+2 <= n-1:\n",
    "            if c[pos+2] == 0:\n",
    "                pos += 2\n",
    "                cnt += 1\n",
    "            elif pos+1 <= n-1:\n",
    "                if c[pos+1] == 0 :\n",
    "                    pos +=1\n",
    "                    cnt += 1\n",
    "        elif pos+1 <= n-1:\n",
    "                if c[pos+1] == 0 :\n",
    "                    pos +=1\n",
    "                    cnt += 1\n",
    "    else: \n",
    "        pos += 1\n",
    "print(cnt)    "
   ]
  },
  {
   "cell_type": "code",
   "execution_count": 5,
   "metadata": {},
   "outputs": [
    {
     "name": "stdout",
     "output_type": "stream",
     "text": [
      "3\n"
     ]
    }
   ],
   "source": [
    "# Jumping on the Clouds\n",
    "\n",
    "n = 6\n",
    "c = [0, 0,0,1,0,0]\n",
    "\n",
    "pos = ''.join(list(map(str, c))).find('0')\n",
    "cnt = 0\n",
    "\n",
    "while pos != n:\n",
    "    if pos >= n-1:\n",
    "        break\n",
    "    if c[pos] == 0:\n",
    "        if pos+2 <= n-1:\n",
    "            if c[pos+2] == 0:\n",
    "                pos += 2\n",
    "                cnt += 1\n",
    "            elif pos+1 <= n-1:\n",
    "                if c[pos+1] == 0 :\n",
    "                    pos +=1\n",
    "                    cnt += 1\n",
    "        elif pos+1 <= n-1:\n",
    "                if c[pos+1] == 0 :\n",
    "                    pos +=1\n",
    "                    cnt += 1\n",
    "    else: \n",
    "        pos += 1\n",
    "print(cnt)    "
   ]
  },
  {
   "cell_type": "code",
   "execution_count": 6,
   "metadata": {},
   "outputs": [
    {
     "name": "stdout",
     "output_type": "stream",
     "text": [
      "7\n"
     ]
    }
   ],
   "source": [
    "# Repeated String\n",
    "\n",
    "s = 'aba'\n",
    "n = 10\n",
    "\n",
    "a, b = n//len(s), n%len(s)\n",
    "\n",
    "cnt_all, cnt_rest = 0, 0\n",
    "\n",
    "for k, i in enumerate(s):\n",
    "    if k == b:\n",
    "        cnt_rest = cnt_all\n",
    "\n",
    "    if i == 'a': \n",
    "        cnt_all += 1\n",
    "    \n",
    "print(cnt_all*a+cnt_rest) "
   ]
  },
  {
   "cell_type": "code",
   "execution_count": 7,
   "metadata": {},
   "outputs": [
    {
     "name": "stdout",
     "output_type": "stream",
     "text": [
      "164280\n"
     ]
    }
   ],
   "source": [
    "# Repeated String\n",
    "\n",
    "s = 'gfcaaaecbg'\n",
    "n = 547602\n",
    "\n",
    "a, b = n//len(s), n%len(s)\n",
    "\n",
    "cnt_all, cnt_rest = 0, 0\n",
    "\n",
    "for k, i in enumerate(s):\n",
    "    if k == b:\n",
    "        cnt_rest = cnt_all\n",
    "\n",
    "    if i == 'a': \n",
    "        cnt_all += 1\n",
    "    \n",
    "print(cnt_all*a+cnt_rest) # 164280          "
   ]
  },
  {
   "cell_type": "code",
   "execution_count": 8,
   "metadata": {},
   "outputs": [
    {
     "name": "stdout",
     "output_type": "stream",
     "text": [
      "588525\n"
     ]
    }
   ],
   "source": [
    "# Repeated String\n",
    "\n",
    "s = 'aab'\n",
    "n = 882787\n",
    "\n",
    "a, b = n//len(s), n%len(s)\n",
    "\n",
    "cnt_all, cnt_rest = 0, 0\n",
    "\n",
    "for k, i in enumerate(s):\n",
    "    if k == b:\n",
    "        cnt_rest = cnt_all    \n",
    "    if i == 'a': \n",
    "        cnt_all += 1\n",
    "\n",
    "print(cnt_all*a+cnt_rest) # 588525         "
   ]
  },
  {
   "cell_type": "code",
   "execution_count": 9,
   "metadata": {},
   "outputs": [
    {
     "name": "stdout",
     "output_type": "stream",
     "text": [
      "16481469408\n"
     ]
    }
   ],
   "source": [
    "# Repeated String\n",
    "\n",
    "s = 'epsxyyflvrrrxzvnoenvpegvuonodjoxfwdmcvwctmekpsnamchznsoxaklzjgrqruyzavshfbmuhdwwmpbkwcuomqhiyvuztwvq'\n",
    "n = 549382313570\n",
    "\n",
    "a, b = n//len(s), n%len(s)\n",
    "\n",
    "cnt_all, cnt_rest = 0, 0\n",
    "\n",
    "for k, i in enumerate(s):\n",
    "    if k == b:\n",
    "        cnt_rest = cnt_all    \n",
    "    if i == 'a': \n",
    "        cnt_all += 1\n",
    "\n",
    "print(cnt_all*a+cnt_rest) # 16 481 469 408         "
   ]
  }
 ],
 "metadata": {
  "kernelspec": {
   "display_name": "Python 3",
   "language": "python",
   "name": "python3"
  },
  "language_info": {
   "codemirror_mode": {
    "name": "ipython",
    "version": 3
   },
   "file_extension": ".py",
   "mimetype": "text/x-python",
   "name": "python",
   "nbconvert_exporter": "python",
   "pygments_lexer": "ipython3",
   "version": "3.7.6"
  }
 },
 "nbformat": 4,
 "nbformat_minor": 4
}
