{
 "cells": [
  {
   "cell_type": "code",
   "execution_count": 1,
   "metadata": {},
   "outputs": [
    {
     "name": "stdout",
     "output_type": "stream",
     "text": [
      "1 4\n"
     ]
    }
   ],
   "source": [
    "# Hash Tables: Ice Cream Parlor\n",
    "money = 4\n",
    "cost = [1, 4, 5, 3, 2]\n",
    "\n",
    "c = sorted([x for x in cost if x<money], reverse=True)\n",
    "result = []\n",
    "for i in c:\n",
    "    if c.index(money - i) > 0:\n",
    "        result.append(i)\n",
    "        result.append(money - i)\n",
    "        break\n",
    "        \n",
    "print(*sorted([cost.index(x)+1 for x in result]))"
   ]
  },
  {
   "cell_type": "code",
   "execution_count": 2,
   "metadata": {},
   "outputs": [
    {
     "name": "stdout",
     "output_type": "stream",
     "text": [
      "[3, 2, 2]\n",
      "1 2\n"
     ]
    }
   ],
   "source": [
    "n=4\n",
    "money = 4\n",
    "#cost = [1, 4, 5, 3, 2]\n",
    "cost = [2, 2, 4, 3]\n",
    "c = sorted([x for x in cost if x<money], reverse=True)\n",
    "print(c)\n",
    "result = []\n",
    "for i in c:\n",
    "    try:\n",
    "        if c.index(money - i) > 0:\n",
    "            result.append(cost.index(i)+1)\n",
    "            if i == money-i: # 같은 값 존재할때 다른 index 리턴 \n",
    "                result.append(abs(cost[::-1].index(money-i)-n)) \n",
    "            else:\n",
    "                result.append(cost.index(money - i)+1)\n",
    "            break\n",
    "    except ValueError:\n",
    "        pass\n",
    "\n",
    "print(*sorted([x for x in result])) # time out "
   ]
  },
  {
   "cell_type": "code",
   "execution_count": 3,
   "metadata": {},
   "outputs": [
    {
     "name": "stdout",
     "output_type": "stream",
     "text": [
      "[3, 2, 2]\n",
      "1 2\n"
     ]
    }
   ],
   "source": [
    "n=4\n",
    "money = 4\n",
    "#cost = [1, 4, 5, 3, 2]\n",
    "cost = [2, 2, 4, 3]\n",
    "c = sorted([x for x in cost if x<money], reverse=True)\n",
    "print(c)\n",
    "\n",
    "for i in c:\n",
    "    try:\n",
    "        if c.index(money - i) > 0:\n",
    "            # index가 정렬되서 출력되야함 \n",
    "            if cost.index(i)+1 < abs(cost[::-1].index(money-i)-n):\n",
    "                print(cost.index(i)+1, abs(cost[::-1].index(money-i)-n))\n",
    "            else:\n",
    "                print(abs(cost[::-1].index(money-i)-n), cost.index(i)+1)\n",
    "            break\n",
    "    except ValueError:\n",
    "        pass"
   ]
  },
  {
   "cell_type": "code",
   "execution_count": null,
   "metadata": {},
   "outputs": [],
   "source": []
  },
  {
   "cell_type": "code",
   "execution_count": 4,
   "metadata": {},
   "outputs": [],
   "source": [
    "# Swap Nodes [Algo]\n",
    "\n",
    "\n",
    "\n",
    "\n",
    "\n"
   ]
  },
  {
   "cell_type": "code",
   "execution_count": 5,
   "metadata": {},
   "outputs": [
    {
     "data": {
      "text/plain": [
       "3"
      ]
     },
     "execution_count": 5,
     "metadata": {},
     "output_type": "execute_result"
    }
   ],
   "source": [
    "# Pairs\n",
    "n, k = 5, 2\n",
    "arr = [1, 5, 3, 4, 2]\n",
    "\n",
    "from itertools import combinations\n",
    "\n",
    "cnt = 0\n",
    "for a, b in list(combinations(arr, 2)):\n",
    "    if abs(a-b) == k:\n",
    "        cnt += 1\n",
    "        \n",
    "cnt # time out         "
   ]
  },
  {
   "cell_type": "code",
   "execution_count": 6,
   "metadata": {},
   "outputs": [
    {
     "data": {
      "text/plain": [
       "5"
      ]
     },
     "execution_count": 6,
     "metadata": {},
     "output_type": "execute_result"
    }
   ],
   "source": [
    "n, k = 7, 2\n",
    "arr = [1, 3, 5, 8, 6, 4, 2]\n",
    "\n",
    "cnt = 0\n",
    "for i in arr:\n",
    "    try:\n",
    "        if arr.index(i+k) > 0:\n",
    "            cnt += 1\n",
    "        elif arr.index(i-k) > 0:\n",
    "            cnt += 1\n",
    "    except:\n",
    "        pass\n",
    "cnt # time out          "
   ]
  },
  {
   "cell_type": "code",
   "execution_count": 7,
   "metadata": {},
   "outputs": [
    {
     "name": "stdout",
     "output_type": "stream",
     "text": [
      "1\n",
      "2\n",
      "3\n",
      "4\n",
      "5\n",
      "6\n"
     ]
    },
    {
     "data": {
      "text/plain": [
       "5"
      ]
     },
     "execution_count": 7,
     "metadata": {},
     "output_type": "execute_result"
    }
   ],
   "source": [
    "n, k = 7, 2\n",
    "arr = [1, 3, 5, 8, 6, 4, 2]\n",
    "\n",
    "cnt = 0\n",
    "for i in sorted(arr)[:n-1]:\n",
    "    print(i)\n",
    "    try:\n",
    "        if arr.index(i+k) > 0:# or arr.index(i-k) > 0:\n",
    "            cnt += 1\n",
    "    except:\n",
    "        pass\n",
    "cnt # time out          "
   ]
  },
  {
   "cell_type": "code",
   "execution_count": 8,
   "metadata": {},
   "outputs": [
    {
     "name": "stdout",
     "output_type": "stream",
     "text": [
      "1\n",
      "2\n",
      "3\n",
      "4\n",
      "5\n",
      "6\n",
      "8\n"
     ]
    },
    {
     "data": {
      "text/plain": [
       "5"
      ]
     },
     "execution_count": 8,
     "metadata": {},
     "output_type": "execute_result"
    }
   ],
   "source": [
    "n, k = 7, 2\n",
    "arr = [1, 3, 5, 8, 6, 4, 2]\n",
    "\n",
    "cnt = 0\n",
    "for i in set(arr):\n",
    "    print(i)\n",
    "    try:\n",
    "        if i+k in arr:\n",
    "            cnt += 1\n",
    "    except:\n",
    "        pass\n",
    "cnt # time out          "
   ]
  },
  {
   "cell_type": "code",
   "execution_count": 9,
   "metadata": {},
   "outputs": [
    {
     "data": {
      "text/plain": [
       "5"
      ]
     },
     "execution_count": 9,
     "metadata": {},
     "output_type": "execute_result"
    }
   ],
   "source": [
    "sum(1 for i in arr if i+k in set(arr)) # time out "
   ]
  },
  {
   "cell_type": "code",
   "execution_count": 10,
   "metadata": {},
   "outputs": [
    {
     "data": {
      "text/plain": [
       "5"
      ]
     },
     "execution_count": 10,
     "metadata": {},
     "output_type": "execute_result"
    }
   ],
   "source": [
    "arr = set(arr) \n",
    "sum(1 for i in arr if i+k in arr) "
   ]
  },
  {
   "cell_type": "code",
   "execution_count": null,
   "metadata": {},
   "outputs": [],
   "source": []
  },
  {
   "cell_type": "code",
   "execution_count": 11,
   "metadata": {},
   "outputs": [
    {
     "name": "stdout",
     "output_type": "stream",
     "text": [
      "{(1, 2, 1), (1, 3, 2), (1, 2, 2), (1, 3, 1), (1, 3, 3)}\n"
     ]
    }
   ],
   "source": [
    "# Triple sum\n",
    "\n",
    "a = [1, 4, 5]\n",
    "b = [2, 3, 3]\n",
    "c = [1, 2, 3]\n",
    "\n",
    "result = []\n",
    "for i in a:\n",
    "    for j in b:\n",
    "        for k in c:\n",
    "            if i<=j>=k:\n",
    "                result.append((i,j,k))\n",
    "                \n",
    "len(set(result)) # time out \n",
    "print(set(result))"
   ]
  },
  {
   "cell_type": "code",
   "execution_count": 12,
   "metadata": {},
   "outputs": [
    {
     "data": {
      "text/plain": [
       "5"
      ]
     },
     "execution_count": 12,
     "metadata": {},
     "output_type": "execute_result"
    }
   ],
   "source": [
    "# Triple sum\n",
    "\n",
    "a = [1, 4, 5]\n",
    "b = [2, 3, 3]\n",
    "c = [1, 2, 3]\n",
    "\n",
    "cnt = 0\n",
    "for j in set(b):\n",
    "    cnt += sum([1 for i in a if i<=j])*sum([1 for k in c if k<=j])\n",
    "                \n",
    "cnt # time out "
   ]
  },
  {
   "cell_type": "code",
   "execution_count": 13,
   "metadata": {},
   "outputs": [
    {
     "data": {
      "text/plain": [
       "5"
      ]
     },
     "execution_count": 13,
     "metadata": {},
     "output_type": "execute_result"
    }
   ],
   "source": [
    "# Triple sum\n",
    "\n",
    "a = [1, 4, 5]\n",
    "b = [2, 3, 3]\n",
    "c = [1, 2, 3]\n",
    "\n",
    "cnt = 0\n",
    "for j in set(b):\n",
    "    cnt += len(list(filter(lambda x:x<=j, a)))*len(list(filter(lambda x:x<=j, c)))\n",
    "                \n",
    "cnt # time out "
   ]
  },
  {
   "cell_type": "code",
   "execution_count": 14,
   "metadata": {},
   "outputs": [
    {
     "data": {
      "text/plain": [
       "8"
      ]
     },
     "execution_count": 14,
     "metadata": {},
     "output_type": "execute_result"
    }
   ],
   "source": [
    "from bisect import bisect\n",
    "a = sorted(set(a))\n",
    "c = sorted(set(c))\n",
    "sum(bisect(a, x)*bisect(c, x) for x in b)"
   ]
  },
  {
   "cell_type": "code",
   "execution_count": 15,
   "metadata": {},
   "outputs": [
    {
     "name": "stdout",
     "output_type": "stream",
     "text": [
      "2 2 1\n",
      "3 3 2\n",
      "2 4 3\n",
      "2 6 4\n",
      "3 6 5\n"
     ]
    },
    {
     "data": {
      "text/plain": [
       "6"
      ]
     },
     "execution_count": 15,
     "metadata": {},
     "output_type": "execute_result"
    }
   ],
   "source": [
    "# Minimum Time Required\n",
    "n, goal = 2,5\n",
    "machines = [2,3]\n",
    "day = 0\n",
    "cnt = 0\n",
    "while cnt < goal:\n",
    "    day += 1\n",
    "    for i in machines:\n",
    "        if day % i == 0:\n",
    "            cnt += 1\n",
    "            print(i, day, cnt)\n",
    "            \n",
    "day # time out             "
   ]
  },
  {
   "cell_type": "code",
   "execution_count": 16,
   "metadata": {
    "scrolled": false
   },
   "outputs": [
    {
     "data": {
      "text/plain": [
       "228"
      ]
     },
     "execution_count": 16,
     "metadata": {},
     "output_type": "execute_result"
    }
   ],
   "source": [
    "n, goal = 3, 140\n",
    "machines = [4, 5, 6]\n",
    "\n",
    "day = 0\n",
    "cnt = 0\n",
    "\n",
    "prod = 1\n",
    "for i in machines:\n",
    "    prod *= i\n",
    "\n",
    "if goal >= prod:\n",
    "\n",
    "    result = []\n",
    "    for i in machines: \n",
    "        result.append(prod//i)        \n",
    "    day = prod\n",
    "    cnt = sum(result)  \n",
    "\n",
    "\n",
    "while cnt < goal:\n",
    "    day += 1\n",
    "    for i in machines:\n",
    "        if day % i == 0:\n",
    "            cnt += 1\n",
    "            \n",
    "day # time out             "
   ]
  },
  {
   "cell_type": "code",
   "execution_count": null,
   "metadata": {},
   "outputs": [],
   "source": []
  }
 ],
 "metadata": {
  "kernelspec": {
   "display_name": "Python 3",
   "language": "python",
   "name": "python3"
  },
  "language_info": {
   "codemirror_mode": {
    "name": "ipython",
    "version": 3
   },
   "file_extension": ".py",
   "mimetype": "text/x-python",
   "name": "python",
   "nbconvert_exporter": "python",
   "pygments_lexer": "ipython3",
   "version": "3.7.6"
  }
 },
 "nbformat": 4,
 "nbformat_minor": 4
}
