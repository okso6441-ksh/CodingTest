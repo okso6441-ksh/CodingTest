{
 "cells": [
  {
   "cell_type": "markdown",
   "metadata": {},
   "source": [
    "[New Year Chaos](https://www.hackerrank.com/challenges/new-year-chaos/problem?h_l=interview&playlist_slugs%5B%5D=interview-preparation-kit&playlist_slugs%5B%5D=arrays)\n",
    "\n",
    "\n",
    "배열 q에서 순서대로 정렬할 시, 순서를 찾아가며 뇌물을 주게 된다. 한 사람이 뇌물을 2개보다 많이 주면 \"Too chaotic\"을 출력하고, 나머지 경우는 합을 출력하시오."
   ]
  },
  {
   "cell_type": "code",
   "execution_count": 1,
   "metadata": {},
   "outputs": [
    {
     "data": {
      "text/plain": [
       "[0, 0, 1, 0, 0, 2]"
      ]
     },
     "execution_count": 1,
     "metadata": {},
     "output_type": "execute_result"
    }
   ],
   "source": [
    "# New Year Chaos\n",
    "n=5\n",
    "q = [2, 1, 5, 3, 4]\n",
    "\n",
    "d = [0]*(n+1)\n",
    "\n",
    "while q != sorted(q):\n",
    "    for i in range(n):\n",
    "        for j in range(i, n):\n",
    "            if q[i] > q[j] and i< j:\n",
    "                d[q[i]] += 1\n",
    "                q[i], q[j] = q[j], q[i]\n",
    "                \n",
    "d                "
   ]
  },
  {
   "cell_type": "code",
   "execution_count": 2,
   "metadata": {},
   "outputs": [
    {
     "data": {
      "text/plain": [
       "[0, 0, 1, 0, 0, 3]"
      ]
     },
     "execution_count": 2,
     "metadata": {},
     "output_type": "execute_result"
    }
   ],
   "source": [
    "# New Year Chaos\n",
    "n=5\n",
    "q = [2, 5, 1, 3, 4]\n",
    "a = sorted(q)\n",
    "\n",
    "d = [0]*(n+1)\n",
    "\n",
    "for i in range(n):\n",
    "    if a[i] < q[i]:\n",
    "        for j in range(i, n):\n",
    "            if q[i] > q[j] and i< j:\n",
    "                d[q[i]] += 1\n",
    "                q[i], q[j] = q[j], q[i]\n",
    "                \n",
    "d                "
   ]
  },
  {
   "cell_type": "code",
   "execution_count": 3,
   "metadata": {},
   "outputs": [
    {
     "data": {
      "text/plain": [
       "3"
      ]
     },
     "execution_count": 3,
     "metadata": {},
     "output_type": "execute_result"
    }
   ],
   "source": [
    "n=5\n",
    "q = [2, 1, 5, 3, 4]\n",
    "\n",
    "moves = 0\n",
    "q = [p-1 for p in q]\n",
    "\n",
    "for i, p in  enumerate(q):\n",
    "    if p-i > 2: # 시간을 줄일 수 있으면 미리 처리하기\n",
    "        print(\"Too chaotic\")\n",
    "        break\n",
    "    for j in range(max(p-1, 0), i):\n",
    "        if q[j] > p:\n",
    "            moves += 1\n",
    "moves"
   ]
  },
  {
   "cell_type": "markdown",
   "metadata": {},
   "source": [
    "[Minimum Swaps 2](https://www.hackerrank.com/challenges/new-year-chaos/problem?h_l=interview&playlist_slugs%5B%5D=interview-preparation-kit&playlist_slugs%5B%5D=arrays)\n",
    "\n",
    "배열 arr를 정렬하기 위한 최소한의 swap 횟수를 구하시오."
   ]
  },
  {
   "cell_type": "code",
   "execution_count": 4,
   "metadata": {},
   "outputs": [
    {
     "name": "stdout",
     "output_type": "stream",
     "text": [
      "3\n"
     ]
    }
   ],
   "source": [
    "# Minimum Swaps 2\n",
    "\n",
    "n = 4\n",
    "arr = [4,3,1,2]\n",
    "cnt = 0\n",
    "\n",
    "arr = [i-1 for i in arr]\n",
    "cnt = 0\n",
    "for i, v in enumerate(arr):\n",
    "    \n",
    "    if arr == sorted(arr):\n",
    "        break\n",
    "    idx = arr.index(i)\n",
    "    if idx != i:\n",
    "        arr[i], arr[idx] = arr[idx], arr[i]\n",
    "        cnt += 1\n",
    "        \n",
    "print(cnt)"
   ]
  },
  {
   "cell_type": "code",
   "execution_count": 5,
   "metadata": {},
   "outputs": [
    {
     "name": "stdout",
     "output_type": "stream",
     "text": [
      "3\n"
     ]
    }
   ],
   "source": [
    "# Minimum Swaps 2\n",
    "\n",
    "n = 4\n",
    "arr = [4,3,1,2]\n",
    "cnt = 0\n",
    "\n",
    "for i in range(0, n-1): # 마지막꺼는 안함 \n",
    "    while arr[i] != i+1:\n",
    "        t = arr[arr[i] - 1]\n",
    "        arr[arr[i] -1] = arr[i]\n",
    "        arr[i] = t\n",
    "        cnt += 1\n",
    "    \n",
    "        \n",
    "print(cnt)"
   ]
  },
  {
   "cell_type": "code",
   "execution_count": 6,
   "metadata": {},
   "outputs": [
    {
     "name": "stdout",
     "output_type": "stream",
     "text": [
      "3\n"
     ]
    }
   ],
   "source": [
    "# Minimum Swaps 2\n",
    "\n",
    "n = 4\n",
    "arr = [4,3,1,2]\n",
    "cnt = 0\n",
    "\n",
    "for i in range(0, n-1): # 마지막꺼는 안함 \n",
    "    while arr[i] != i+1:\n",
    "        arr[arr[i] -1], arr[i] = arr[i], arr[arr[i] -1] # 순차 배열이라 idx를 바로 swap\n",
    "        cnt += 1   \n",
    "        \n",
    "print(cnt)"
   ]
  },
  {
   "cell_type": "code",
   "execution_count": null,
   "metadata": {},
   "outputs": [],
   "source": []
  }
 ],
 "metadata": {
  "kernelspec": {
   "display_name": "Python 3",
   "language": "python",
   "name": "python3"
  },
  "language_info": {
   "codemirror_mode": {
    "name": "ipython",
    "version": 3
   },
   "file_extension": ".py",
   "mimetype": "text/x-python",
   "name": "python",
   "nbconvert_exporter": "python",
   "pygments_lexer": "ipython3",
   "version": "3.7.6"
  }
 },
 "nbformat": 4,
 "nbformat_minor": 4
}
