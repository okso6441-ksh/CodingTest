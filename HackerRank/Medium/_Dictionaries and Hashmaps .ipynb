{
 "cells": [
  {
   "cell_type": "code",
   "execution_count": null,
   "metadata": {},
   "outputs": [],
   "source": [
    "# Sherlock and Anagrams\n",
    "\n",
    "2\n",
    "abba\n",
    "abcd"
   ]
  },
  {
   "cell_type": "code",
   "execution_count": null,
   "metadata": {},
   "outputs": [],
   "source": [
    "2\n",
    "ifailuhkqq\n",
    "kkkk"
   ]
  },
  {
   "cell_type": "code",
   "execution_count": null,
   "metadata": {},
   "outputs": [],
   "source": [
    "1\n",
    "cdcd"
   ]
  },
  {
   "cell_type": "code",
   "execution_count": null,
   "metadata": {},
   "outputs": [],
   "source": [
    "# Count Triplets\n",
    "\n",
    "4 2\n",
    "1 2 2 4"
   ]
  },
  {
   "cell_type": "code",
   "execution_count": null,
   "metadata": {},
   "outputs": [],
   "source": [
    "6 3\n",
    "1 3 9 9 27 81"
   ]
  },
  {
   "cell_type": "code",
   "execution_count": null,
   "metadata": {},
   "outputs": [],
   "source": [
    "5 5\n",
    "1 5 5 25 125"
   ]
  },
  {
   "cell_type": "code",
   "execution_count": null,
   "metadata": {},
   "outputs": [],
   "source": [
    "# Frequency Queries\n",
    "\n",
    "Operation   Array   Output\n",
    "(1,1)       [1]\n",
    "(2,2)       [1]\n",
    "(3,2)                   0\n",
    "(1,1)       [1,1]\n",
    "(1,1)       [1,1,1]\n",
    "(2,1)       [1,1]\n",
    "(3,2)                   1"
   ]
  },
  {
   "cell_type": "code",
   "execution_count": null,
   "metadata": {},
   "outputs": [],
   "source": [
    "8\n",
    "1 5\n",
    "1 6\n",
    "3 2\n",
    "1 10\n",
    "1 10\n",
    "1 6\n",
    "2 5\n",
    "3 2"
   ]
  },
  {
   "cell_type": "code",
   "execution_count": null,
   "metadata": {},
   "outputs": [],
   "source": [
    "4\n",
    "3 4\n",
    "2 1003\n",
    "1 16\n",
    "3 1"
   ]
  },
  {
   "cell_type": "code",
   "execution_count": null,
   "metadata": {},
   "outputs": [],
   "source": [
    "10\n",
    "1 3\n",
    "2 3\n",
    "3 2\n",
    "1 4\n",
    "1 5\n",
    "1 5\n",
    "1 4\n",
    "3 2\n",
    "2 4\n",
    "3 2"
   ]
  }
 ],
 "metadata": {
  "kernelspec": {
   "display_name": "Python 3",
   "language": "python",
   "name": "python3"
  },
  "language_info": {
   "codemirror_mode": {
    "name": "ipython",
    "version": 3
   },
   "file_extension": ".py",
   "mimetype": "text/x-python",
   "name": "python",
   "nbconvert_exporter": "python",
   "pygments_lexer": "ipython3",
   "version": "3.7.6"
  }
 },
 "nbformat": 4,
 "nbformat_minor": 4
}
