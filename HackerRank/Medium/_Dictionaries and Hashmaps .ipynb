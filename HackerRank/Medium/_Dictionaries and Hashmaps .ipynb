{
 "cells": [
  {
   "cell_type": "code",
   "execution_count": 1,
   "metadata": {},
   "outputs": [
    {
     "name": "stdout",
     "output_type": "stream",
     "text": [
      "Counter({'a': 2, 'b': 2, 'ab': 2, 'abb': 2, 'bb': 1})\n",
      "4\n"
     ]
    }
   ],
   "source": [
    "from collections import Counter\n",
    "s = 'abba'\n",
    "count = Counter((\"\".join(sorted(s[j:j+i])) for i in range(1,len(s)) for j in range(0,len(s)-i+1) ))\n",
    "print(count)\n",
    "print(sum(sum(range(i)) for i in count.values()))"
   ]
  },
  {
   "cell_type": "code",
   "execution_count": 2,
   "metadata": {},
   "outputs": [
    {
     "name": "stdout",
     "output_type": "stream",
     "text": [
      "1 0 a\n",
      "1 1 b\n",
      "1 2 b\n",
      "1 3 a\n",
      "2 0 ab\n",
      "2 1 bb\n",
      "2 2 ab\n",
      "3 0 abb\n",
      "3 1 abb\n"
     ]
    }
   ],
   "source": [
    "for i in range(1, len(s)):\n",
    "    for j in range(0, len(s)-i+1):\n",
    "        print(i, j, ''.join(sorted(s[j:j+i])))"
   ]
  },
  {
   "cell_type": "code",
   "execution_count": 3,
   "metadata": {},
   "outputs": [
    {
     "ename": "SyntaxError",
     "evalue": "invalid syntax (<ipython-input-3-c950cc58c804>, line 3)",
     "output_type": "error",
     "traceback": [
      "\u001b[1;36m  File \u001b[1;32m\"<ipython-input-3-c950cc58c804>\"\u001b[1;36m, line \u001b[1;32m3\u001b[0m\n\u001b[1;33m    4 2\u001b[0m\n\u001b[1;37m      ^\u001b[0m\n\u001b[1;31mSyntaxError\u001b[0m\u001b[1;31m:\u001b[0m invalid syntax\n"
     ]
    }
   ],
   "source": [
    "# Count Triplets\n",
    "\n",
    "4 2\n",
    "1 2 2 4"
   ]
  },
  {
   "cell_type": "code",
   "execution_count": null,
   "metadata": {},
   "outputs": [],
   "source": [
    "6 3\n",
    "1 3 9 9 27 81"
   ]
  },
  {
   "cell_type": "code",
   "execution_count": null,
   "metadata": {},
   "outputs": [],
   "source": [
    "5 5\n",
    "1 5 5 25 125"
   ]
  },
  {
   "cell_type": "code",
   "execution_count": null,
   "metadata": {},
   "outputs": [],
   "source": [
    "# Frequency Queries\n",
    "\n",
    "Operation   Array   Output\n",
    "(1,1)       [1]\n",
    "(2,2)       [1]\n",
    "(3,2)                   0\n",
    "(1,1)       [1,1]\n",
    "(1,1)       [1,1,1]\n",
    "(2,1)       [1,1]\n",
    "(3,2)                   1"
   ]
  },
  {
   "cell_type": "code",
   "execution_count": null,
   "metadata": {},
   "outputs": [],
   "source": [
    "8\n",
    "1 5\n",
    "1 6\n",
    "3 2\n",
    "1 10\n",
    "1 10\n",
    "1 6\n",
    "2 5\n",
    "3 2"
   ]
  },
  {
   "cell_type": "code",
   "execution_count": null,
   "metadata": {},
   "outputs": [],
   "source": [
    "4\n",
    "3 4\n",
    "2 1003\n",
    "1 16\n",
    "3 1"
   ]
  },
  {
   "cell_type": "code",
   "execution_count": null,
   "metadata": {},
   "outputs": [],
   "source": [
    "10\n",
    "1 3\n",
    "2 3\n",
    "3 2\n",
    "1 4\n",
    "1 5\n",
    "1 5\n",
    "1 4\n",
    "3 2\n",
    "2 4\n",
    "3 2"
   ]
  }
 ],
 "metadata": {
  "kernelspec": {
   "display_name": "Python 3",
   "language": "python",
   "name": "python3"
  },
  "language_info": {
   "codemirror_mode": {
    "name": "ipython",
    "version": 3
   },
   "file_extension": ".py",
   "mimetype": "text/x-python",
   "name": "python",
   "nbconvert_exporter": "python",
   "pygments_lexer": "ipython3",
   "version": "3.7.6"
  }
 },
 "nbformat": 4,
 "nbformat_minor": 4
}
