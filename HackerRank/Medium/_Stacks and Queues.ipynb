{
 "cells": [
  {
   "cell_type": "code",
   "execution_count": null,
   "metadata": {},
   "outputs": [],
   "source": [
    "# Balanced Brackets\n",
    "\n",
    "def check(a, b):\n",
    "    if a+b == \"{}\" or a+b == \"[]\" or a+b == \"()\":\n",
    "        return True\n",
    "    else:\n",
    "        return False \n",
    "    \n",
    "    \n",
    "s = \"{[(])}\"\n",
    "s = \"{(([])[])[]}\"\n",
    "rest = []\n",
    "for i in list(s):\n",
    "    if len(rest) == 0:\n",
    "        rest.append(i)\n",
    "    else:\n",
    "        print(rest[-1], i, rest)\n",
    "        if check(rest[-1], i):\n",
    "            rest.pop()\n",
    "        else:\n",
    "            rest.append(i)\n",
    "if len(rest) == 0:\n",
    "    print('YES')\n",
    "else:\n",
    "    print('NO')"
   ]
  },
  {
   "cell_type": "code",
   "execution_count": null,
   "metadata": {},
   "outputs": [],
   "source": [
    "# Queues: A Tale of Two Stacks\n",
    "## 함수 완성"
   ]
  },
  {
   "cell_type": "code",
   "execution_count": null,
   "metadata": {},
   "outputs": [],
   "source": [
    "# Largest Rectangle\n",
    "n = 5\n",
    "h = [1, 2, 3, 4, 5]\n",
    "\n",
    "result = []\n",
    "for i in range(n):\n",
    "    result.append((n-i)*min(h[i:]))\n",
    "    result.append((n-i)*min(h[::-1][i:]))\n",
    "    \n",
    "max(result) # worng"
   ]
  },
  {
   "cell_type": "code",
   "execution_count": null,
   "metadata": {},
   "outputs": [],
   "source": [
    "# Largest Rectangle\n",
    "n = 10\n",
    "h = [8979, 4570, 6436, 5083, 7780, 3269, 5400, 7579, 2324, 2116] # 26152\n",
    "\n",
    "stack = []\n",
    "index = 0\n",
    "largest_rectangle = 0\n",
    "\n",
    "while index < len(h):\n",
    "    print(index, stack)\n",
    "    if (not stack) or (h[stack[-1]] <= h[index]):\n",
    "        stack.append(index)\n",
    "        print('if', stack)\n",
    "        index += 1\n",
    "    else:\n",
    "        top_of_stack = stack.pop()\n",
    "        area = (h[top_of_stack] *\n",
    "                ((index - stack[-1] - 1) if stack else index))\n",
    "        largest_rectangle = max(largest_rectangle, area)\n",
    "        print('else', stack)\n",
    "print()\n",
    "print('while1', stack)\n",
    "while stack:\n",
    "    top_of_stack = stack.pop()\n",
    "    print('while2', stack)\n",
    "\n",
    "    area = (h[top_of_stack] *\n",
    "            ((index - stack[-1] - 1) if stack else index))\n",
    "    largest_rectangle = max(largest_rectangle, area)\n",
    "    \n",
    "print(largest_rectangle)    "
   ]
  },
  {
   "cell_type": "code",
   "execution_count": null,
   "metadata": {},
   "outputs": [],
   "source": [
    "# Min Max Riddle\n",
    "n = 4\n",
    "arr = [2, 6, 1, 12]\n",
    "\n",
    "d = [[0]*(n) for _ in range(n)]\n",
    "print(d)\n",
    "\n",
    "for i in range(n+1):\n",
    "    for j in range(n):\n",
    "        if i==0:\n",
    "            d[0][j] = arr[j]\n",
    "        else:\n",
    "            try:\n",
    "                d[i][j] = min(d[i-1][j], d[i-1][j+1])\n",
    "            except:\n",
    "                pass\n",
    "            \n",
    "print(d)            \n",
    "result = []        \n",
    "for i in d:\n",
    "    result.append(max(i))\n",
    "result     # Runtime Error :( 3건 "
   ]
  },
  {
   "cell_type": "code",
   "execution_count": null,
   "metadata": {},
   "outputs": [],
   "source": [
    "# Min Max Riddle\n",
    "n = 4\n",
    "arr = [2, 6, 1, 12]\n",
    "\n",
    "d = [[0]*(n+1) for _ in range(n)]\n",
    "print(d)\n",
    "k = n\n",
    "for i in range(n+1):\n",
    "    k -= 1\n",
    "    for j in range(n):\n",
    "        if i==0:\n",
    "            d[0][j] = arr[j]\n",
    "            d[0][n] = max(arr[j], d[0][n])\n",
    "        else:\n",
    "            if j <= k:\n",
    "                d[i][j] = min(d[i-1][j], d[i-1][j+1])\n",
    "                d[i][n] = max(d[i][j], d[i][n])\n",
    "            \n",
    "[i[n] for i in d] # Runtime Error :( 3건 "
   ]
  },
  {
   "cell_type": "code",
   "execution_count": null,
   "metadata": {},
   "outputs": [],
   "source": [
    "'...'\n",
    "'.X.'\n",
    "'...'\n",
    "2"
   ]
  },
  {
   "cell_type": "code",
   "execution_count": 23,
   "metadata": {},
   "outputs": [
    {
     "name": "stdout",
     "output_type": "stream",
     "text": [
      "0 0 .\n",
      "0 1 .\n",
      "0 2 .\n",
      "1 0 .\n",
      "1 1 X\n",
      "1 2 .\n",
      "2 0 .\n",
      "2 1 .\n",
      "2 2 .\n"
     ]
    }
   ],
   "source": [
    "# Castle on the Grid\n",
    "startX = 0\n",
    "startY = 0\n",
    "goalX = 1\n",
    "goalY = 2\n",
    "grid = ['...', '.X.', '...']\n",
    "\n",
    "n, m = len(grid), len(grid[0])\n",
    "\n",
    "dx = [-1,1,0,0]\n",
    "dy = [0,0,-1,1]\n",
    "\n",
    "\n",
    "\n"
   ]
  },
  {
   "cell_type": "code",
   "execution_count": null,
   "metadata": {},
   "outputs": [],
   "source": [
    "'.X.'\n",
    "'.X.'\n",
    "'...'\n",
    "3"
   ]
  },
  {
   "cell_type": "code",
   "execution_count": null,
   "metadata": {},
   "outputs": [],
   "source": [
    "startX = 0\n",
    "startY = 0\n",
    "goalX = 0\n",
    "goalY = 2\n",
    "grid = ['.X.', '.X.', '...']\n",
    "\n",
    "3"
   ]
  }
 ],
 "metadata": {
  "kernelspec": {
   "display_name": "Python 3",
   "language": "python",
   "name": "python3"
  },
  "language_info": {
   "codemirror_mode": {
    "name": "ipython",
    "version": 3
   },
   "file_extension": ".py",
   "mimetype": "text/x-python",
   "name": "python",
   "nbconvert_exporter": "python",
   "pygments_lexer": "ipython3",
   "version": "3.7.6"
  }
 },
 "nbformat": 4,
 "nbformat_minor": 4
}
