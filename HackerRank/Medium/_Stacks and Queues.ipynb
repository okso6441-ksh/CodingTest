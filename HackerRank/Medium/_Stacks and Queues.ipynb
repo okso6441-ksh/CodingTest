{
 "cells": [
  {
   "cell_type": "markdown",
   "metadata": {},
   "source": [
    "[Balanced Brackets](https://www.hackerrank.com/challenges/balanced-brackets/problem?h_l=interview&playlist_slugs%5B%5D=interview-preparation-kit&playlist_slugs%5B%5D=stacks-queues)\n",
    "\n",
    "문자열 s는 다음 3가지 괄호들로 구성된다()[]{} 개폐가 잘 이루어지면 YES 아니면 NO  "
   ]
  },
  {
   "cell_type": "code",
   "execution_count": 1,
   "metadata": {},
   "outputs": [
    {
     "name": "stdout",
     "output_type": "stream",
     "text": [
      "{ ( ['{']\n",
      "( ( ['{', '(']\n",
      "( [ ['{', '(', '(']\n",
      "[ ] ['{', '(', '(', '[']\n",
      "( ) ['{', '(', '(']\n",
      "( [ ['{', '(']\n",
      "[ ] ['{', '(', '[']\n",
      "( ) ['{', '(']\n",
      "{ [ ['{']\n",
      "[ ] ['{', '[']\n",
      "{ } ['{']\n",
      "YES\n"
     ]
    }
   ],
   "source": [
    "# Balanced Brackets\n",
    "\n",
    "def check(a, b):\n",
    "    if a+b == \"{}\" or a+b == \"[]\" or a+b == \"()\":\n",
    "        return True\n",
    "    else:\n",
    "        return False \n",
    "    \n",
    "    \n",
    "s = \"{[(])}\"\n",
    "s = \"{(([])[])[]}\"\n",
    "rest = []\n",
    "for i in list(s):\n",
    "    if len(rest) == 0:\n",
    "        rest.append(i)\n",
    "    else:\n",
    "        print(rest[-1], i, rest)\n",
    "        if check(rest[-1], i):\n",
    "            rest.pop()\n",
    "        else:\n",
    "            rest.append(i)\n",
    "if len(rest) == 0:\n",
    "    print('YES')\n",
    "else:\n",
    "    print('NO')"
   ]
  },
  {
   "cell_type": "markdown",
   "metadata": {},
   "source": [
    "[Queues: A Tale of Two Stacks](https://www.hackerrank.com/challenges/ctci-queue-using-two-stacks/problem?h_l=interview&playlist_slugs%5B%5D=interview-preparation-kit&playlist_slugs%5B%5D=stacks-queues)\n",
    "\n",
    "함수 완성"
   ]
  },
  {
   "cell_type": "markdown",
   "metadata": {},
   "source": [
    "class MyQueue(object):\n",
    "    def __init__(self):\n",
    "        self.items = []\n",
    "    \n",
    "    def peek(self):\n",
    "        i = self.items.pop()\n",
    "        self.items.append(i)\n",
    "        return i\n",
    "        \n",
    "    def pop(self):\n",
    "        return self.items.pop()\n",
    "        \n",
    "    def put(self, value):\n",
    "        self.items.insert(0, value)\n",
    "        \n",
    "\n",
    "queue = MyQueue()\n",
    "t = int(input())\n",
    "for line in range(t):\n",
    "    values = map(int, input().split())\n",
    "    values = list(values)\n",
    "    if values[0] == 1:\n",
    "        queue.put(values[1])        \n",
    "    elif values[0] == 2:\n",
    "        queue.pop()\n",
    "    else:\n",
    "        print(queue.peek())"
   ]
  },
  {
   "cell_type": "markdown",
   "metadata": {},
   "source": [
    "[Largest Rectangle](https://www.hackerrank.com/challenges/largest-rectangle/problem?h_l=interview&playlist_slugs%5B%5D=interview-preparation-kit&playlist_slugs%5B%5D=stacks-queues)\n",
    "\n",
    "높이 배열 h로 구성할 수 있는 가장 큰 직사각형 면적은?"
   ]
  },
  {
   "cell_type": "code",
   "execution_count": 2,
   "metadata": {},
   "outputs": [
    {
     "data": {
      "text/plain": [
       "9"
      ]
     },
     "execution_count": 2,
     "metadata": {},
     "output_type": "execute_result"
    }
   ],
   "source": [
    "# Largest Rectangle\n",
    "n = 5\n",
    "h = [1, 2, 3, 4, 5]\n",
    "\n",
    "result = []\n",
    "for i in range(n):\n",
    "    result.append((n-i)*min(h[i:]))\n",
    "    result.append((n-i)*min(h[::-1][i:]))\n",
    "    \n",
    "max(result) # worng"
   ]
  },
  {
   "cell_type": "code",
   "execution_count": 3,
   "metadata": {},
   "outputs": [
    {
     "name": "stdout",
     "output_type": "stream",
     "text": [
      "0 []\n",
      "if [0]\n",
      "1 [0]\n",
      "else []\n",
      "1 []\n",
      "if [1]\n",
      "2 [1]\n",
      "if [1, 2]\n",
      "3 [1, 2]\n",
      "else [1]\n",
      "3 [1]\n",
      "if [1, 3]\n",
      "4 [1, 3]\n",
      "if [1, 3, 4]\n",
      "5 [1, 3, 4]\n",
      "else [1, 3]\n",
      "5 [1, 3]\n",
      "else [1]\n",
      "5 [1]\n",
      "else []\n",
      "5 []\n",
      "if [5]\n",
      "6 [5]\n",
      "if [5, 6]\n",
      "7 [5, 6]\n",
      "if [5, 6, 7]\n",
      "8 [5, 6, 7]\n",
      "else [5, 6]\n",
      "8 [5, 6]\n",
      "else [5]\n",
      "8 [5]\n",
      "else []\n",
      "8 []\n",
      "if [8]\n",
      "9 [8]\n",
      "else []\n",
      "9 []\n",
      "if [9]\n",
      "\n",
      "while1 [9]\n",
      "while2 []\n",
      "26152\n"
     ]
    }
   ],
   "source": [
    "# Largest Rectangle\n",
    "n = 10\n",
    "h = [8979, 4570, 6436, 5083, 7780, 3269, 5400, 7579, 2324, 2116] # 26152\n",
    "\n",
    "stack = []\n",
    "index = 0\n",
    "largest_rectangle = 0\n",
    "\n",
    "while index < len(h):\n",
    "    print(index, stack)\n",
    "    if (not stack) or (h[stack[-1]] <= h[index]):\n",
    "        stack.append(index)\n",
    "        print('if', stack)\n",
    "        index += 1\n",
    "    else:\n",
    "        top_of_stack = stack.pop()\n",
    "        area = (h[top_of_stack] *\n",
    "                ((index - stack[-1] - 1) if stack else index))\n",
    "        largest_rectangle = max(largest_rectangle, area)\n",
    "        print('else', stack)\n",
    "print()\n",
    "print('while1', stack)\n",
    "while stack:\n",
    "    top_of_stack = stack.pop()\n",
    "    print('while2', stack)\n",
    "\n",
    "    area = (h[top_of_stack] *\n",
    "            ((index - stack[-1] - 1) if stack else index))\n",
    "    largest_rectangle = max(largest_rectangle, area)\n",
    "    \n",
    "print(largest_rectangle)    "
   ]
  },
  {
   "cell_type": "markdown",
   "metadata": {},
   "source": [
    "[Min Max Riddle](https://www.hackerrank.com/challenges/min-max-riddle/problem?h_l=interview&playlist_slugs%5B%5D=interview-preparation-kit&playlist_slugs%5B%5D=stacks-queues)\n",
    "\n",
    "배열 arr 에서 창의 크기를 줄여가며 최소값을 구하고, 그 최소값들의 최대값을 출력하시오.  "
   ]
  },
  {
   "cell_type": "code",
   "execution_count": 4,
   "metadata": {},
   "outputs": [
    {
     "name": "stdout",
     "output_type": "stream",
     "text": [
      "[[0, 0, 0, 0], [0, 0, 0, 0], [0, 0, 0, 0], [0, 0, 0, 0]]\n",
      "[[2, 6, 1, 12], [2, 1, 1, 0], [1, 1, 0, 0], [1, 0, 0, 0]]\n"
     ]
    },
    {
     "data": {
      "text/plain": [
       "[12, 2, 1, 1]"
      ]
     },
     "execution_count": 4,
     "metadata": {},
     "output_type": "execute_result"
    }
   ],
   "source": [
    "# Min Max Riddle\n",
    "n = 4\n",
    "arr = [2, 6, 1, 12]\n",
    "\n",
    "d = [[0]*(n) for _ in range(n)]\n",
    "print(d)\n",
    "\n",
    "for i in range(n+1):\n",
    "    for j in range(n):\n",
    "        if i==0:\n",
    "            d[0][j] = arr[j]\n",
    "        else:\n",
    "            try:\n",
    "                d[i][j] = min(d[i-1][j], d[i-1][j+1])\n",
    "            except:\n",
    "                pass\n",
    "            \n",
    "print(d)            \n",
    "result = []        \n",
    "for i in d:\n",
    "    result.append(max(i))\n",
    "result     # Runtime Error :( 3건 "
   ]
  },
  {
   "cell_type": "code",
   "execution_count": 5,
   "metadata": {},
   "outputs": [
    {
     "name": "stdout",
     "output_type": "stream",
     "text": [
      "[[0, 0, 0, 0, 0], [0, 0, 0, 0, 0], [0, 0, 0, 0, 0], [0, 0, 0, 0, 0]]\n"
     ]
    },
    {
     "data": {
      "text/plain": [
       "[12, 2, 1, 1]"
      ]
     },
     "execution_count": 5,
     "metadata": {},
     "output_type": "execute_result"
    }
   ],
   "source": [
    "# Min Max Riddle\n",
    "n = 4\n",
    "arr = [2, 6, 1, 12]\n",
    "\n",
    "d = [[0]*(n+1) for _ in range(n)]\n",
    "print(d)\n",
    "k = n\n",
    "for i in range(n+1):\n",
    "    k -= 1\n",
    "    for j in range(n):\n",
    "        if i==0:\n",
    "            d[0][j] = arr[j]\n",
    "            d[0][n] = max(arr[j], d[0][n])\n",
    "        else:\n",
    "            if j <= k:\n",
    "                d[i][j] = min(d[i-1][j], d[i-1][j+1])\n",
    "                d[i][n] = max(d[i][j], d[i][n])\n",
    "            \n",
    "[i[n] for i in d] # Runtime Error :( 3건 "
   ]
  },
  {
   "cell_type": "code",
   "execution_count": 6,
   "metadata": {},
   "outputs": [
    {
     "data": {
      "text/plain": [
       "2"
      ]
     },
     "execution_count": 6,
     "metadata": {},
     "output_type": "execute_result"
    }
   ],
   "source": [
    "'...'\n",
    "'.X.'\n",
    "'...'\n",
    "2"
   ]
  },
  {
   "cell_type": "markdown",
   "metadata": {},
   "source": [
    "[Castle on the Grid](https://www.hackerrank.com/challenges/castle-on-the-grid/problem?h_l=interview&playlist_slugs%5B%5D=interview-preparation-kit&playlist_slugs%5B%5D=stacks-queues)\n",
    "\n"
   ]
  },
  {
   "cell_type": "code",
   "execution_count": 7,
   "metadata": {},
   "outputs": [],
   "source": [
    "# Castle on the Grid\n",
    "startX = 0\n",
    "startY = 0\n",
    "goalX = 1\n",
    "goalY = 2\n",
    "grid = ['...', '.X.', '...']\n",
    "\n",
    "n, m = len(grid), len(grid[0])\n",
    "\n",
    "dx = [-1,1,0,0]\n",
    "dy = [0,0,-1,1]\n",
    "\n",
    "\n",
    "\n"
   ]
  },
  {
   "cell_type": "code",
   "execution_count": 8,
   "metadata": {},
   "outputs": [
    {
     "data": {
      "text/plain": [
       "3"
      ]
     },
     "execution_count": 8,
     "metadata": {},
     "output_type": "execute_result"
    }
   ],
   "source": [
    "'.X.'\n",
    "'.X.'\n",
    "'...'\n",
    "3"
   ]
  },
  {
   "cell_type": "code",
   "execution_count": 9,
   "metadata": {},
   "outputs": [
    {
     "data": {
      "text/plain": [
       "3"
      ]
     },
     "execution_count": 9,
     "metadata": {},
     "output_type": "execute_result"
    }
   ],
   "source": [
    "startX = 0\n",
    "startY = 0\n",
    "goalX = 0\n",
    "goalY = 2\n",
    "grid = ['.X.', '.X.', '...']\n",
    "\n",
    "3"
   ]
  }
 ],
 "metadata": {
  "kernelspec": {
   "display_name": "Python 3",
   "language": "python",
   "name": "python3"
  },
  "language_info": {
   "codemirror_mode": {
    "name": "ipython",
    "version": 3
   },
   "file_extension": ".py",
   "mimetype": "text/x-python",
   "name": "python",
   "nbconvert_exporter": "python",
   "pygments_lexer": "ipython3",
   "version": "3.7.6"
  }
 },
 "nbformat": 4,
 "nbformat_minor": 4
}
