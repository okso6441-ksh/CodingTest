{
 "cells": [
  {
   "cell_type": "code",
   "execution_count": null,
   "metadata": {},
   "outputs": [],
   "source": [
    "# Balanced Brackets\n",
    "\n",
    "STDIN Function ----- -------- 3 n = 3 {[()]} first s = '{[()]}' {[(])} second s = '{[(])}' {{[[(())]]}} third s ='{{[[(())]]}}'"
   ]
  },
  {
   "cell_type": "code",
   "execution_count": null,
   "metadata": {},
   "outputs": [],
   "source": [
    "# Queues: A Tale of Two Stacks\n",
    "\n",
    "10\n",
    "1 42\n",
    "2\n",
    "1 14\n",
    "3\n",
    "1 28\n",
    "3\n",
    "1 60\n",
    "1 78\n",
    "2\n",
    "2"
   ]
  },
  {
   "cell_type": "code",
   "execution_count": null,
   "metadata": {},
   "outputs": [],
   "source": [
    "# Largest Rectangle\n",
    "\n",
    "STDIN       Function\n",
    "-----       --------\n",
    "5           h[] size n = 5\n",
    "1 2 3 4 5   h = [1, 2, 3, 4, 5]"
   ]
  },
  {
   "cell_type": "code",
   "execution_count": null,
   "metadata": {},
   "outputs": [],
   "source": [
    "# Min Max Riddle\n",
    "\n",
    "4\n",
    "2 6 1 12"
   ]
  },
  {
   "cell_type": "code",
   "execution_count": null,
   "metadata": {},
   "outputs": [],
   "source": [
    "7\n",
    "1 2 3 5 1 13 3"
   ]
  },
  {
   "cell_type": "code",
   "execution_count": null,
   "metadata": {},
   "outputs": [],
   "source": [
    "6\n",
    "3 5 4 7 6 2"
   ]
  },
  {
   "cell_type": "code",
   "execution_count": null,
   "metadata": {},
   "outputs": [],
   "source": [
    "# Castle on the Grid\n",
    "\n",
    "...\n",
    ".X.\n",
    "...\n",
    "\n",
    "STDIN       FUNCTION\n",
    "-----       --------\n",
    "3           grid[] size n = 3\n",
    ".X.         grid = ['.X.','.X.', '...']\n",
    ".X.\n",
    "...\n",
    "0 0 0 2     startX = 0, startY = 0, goalX = 0, goalY = 2"
   ]
  },
  {
   "cell_type": "code",
   "execution_count": null,
   "metadata": {},
   "outputs": [],
   "source": []
  },
  {
   "cell_type": "code",
   "execution_count": null,
   "metadata": {},
   "outputs": [],
   "source": []
  },
  {
   "cell_type": "code",
   "execution_count": null,
   "metadata": {},
   "outputs": [],
   "source": []
  }
 ],
 "metadata": {
  "kernelspec": {
   "display_name": "Python 3",
   "language": "python",
   "name": "python3"
  },
  "language_info": {
   "codemirror_mode": {
    "name": "ipython",
    "version": 3
   },
   "file_extension": ".py",
   "mimetype": "text/x-python",
   "name": "python",
   "nbconvert_exporter": "python",
   "pygments_lexer": "ipython3",
   "version": "3.7.6"
  }
 },
 "nbformat": 4,
 "nbformat_minor": 4
}
