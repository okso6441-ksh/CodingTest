{
 "cells": [
  {
   "cell_type": "code",
   "execution_count": null,
   "metadata": {},
   "outputs": [],
   "source": [
    "# Max Array Sum - 개미전사 \n",
    "n = 5\n",
    "arr = [2, 1, 5, 8, 4]\n",
    "d = [0]*n\n",
    "d[0] = arr[0]\n",
    "d[1] = max(arr[0],arr[1])\n",
    "print(d)\n",
    "for i in range(2, n):\n",
    "    d[i] = max(d[i-1], d[i-2]+arr[i], d[i-2], arr[i])\n",
    "    print(d)\n",
    "max(d), d[n-1]"
   ]
  },
  {
   "cell_type": "code",
   "execution_count": 12,
   "metadata": {},
   "outputs": [
    {
     "name": "stdout",
     "output_type": "stream",
     "text": [
      "{'B', 'H'}\n",
      "NO\n"
     ]
    }
   ],
   "source": [
    "# Abbreviation\n",
    "\n",
    "a = 'beFgH'\n",
    "b = 'EFG'\n",
    "\n",
    "a1 = a.upper()\n",
    "minus = set(a1) - set(b)\n",
    "\n",
    "for i in minus:\n",
    "    a=a.replace(i.lower(),'') # 일치 안하는 소문자만 제거 \n",
    "    \n",
    "if a.upper() == b:\n",
    "    print('YES')\n",
    "else:\n",
    "    print('NO')   \n",
    "# worng 12/16     "
   ]
  },
  {
   "cell_type": "code",
   "execution_count": 18,
   "metadata": {},
   "outputs": [
    {
     "name": "stdout",
     "output_type": "stream",
     "text": [
      "{'F', 'X', 'S', 'T', 'R', 'P'}\n",
      "VLKHNllvllh\n",
      "NO\n"
     ]
    }
   ],
   "source": [
    "# Abbreviation\n",
    "\n",
    "a = 'VLKHNlpsrlrvfxftslslrrh'\n",
    "b = 'VLKHN'\n",
    "\n",
    "a1 = a.upper()\n",
    "minus = set(a1) - set(b)\n",
    "print(minus)\n",
    "for i in minus:\n",
    "    a=a.replace(i.lower(),'') # 일치 안하는 소문자만 제거 \n",
    "print(a)    \n",
    "if a.upper() == b:\n",
    "    print('YES')\n",
    "else:\n",
    "    print('NO')   \n",
    "# worng 12/16     "
   ]
  },
  {
   "cell_type": "code",
   "execution_count": 17,
   "metadata": {},
   "outputs": [
    {
     "data": {
      "text/plain": [
       "''"
      ]
     },
     "execution_count": 17,
     "metadata": {},
     "output_type": "execute_result"
    }
   ],
   "source": [
    "'dfdfdf'.replace('df','')"
   ]
  },
  {
   "cell_type": "markdown",
   "metadata": {},
   "source": [
    "VLKHNlpsrlrvfxftslslrrh\n",
    "VLKHN\n",
    "YES\n",
    "\n",
    "OQSVONTNZMDJAVRZAZCVPKh\n",
    "OSVONTNZMDJAVRZAZCVPK\n",
    "NO\n",
    "\n",
    "AXbosoh\n",
    "AX\n",
    "YES\n",
    "\n",
    "EYONDOCHNZYYlBZXPGzX\n",
    "EYONDOCHNZYYBZXPGXOG\n",
    "NO\n",
    "\n",
    "BJAFXKGENMFUvdsvcptrp\n",
    "BJAFXKGENMFU\n",
    "YES\n",
    "\n",
    "UBUFOOSIXXsdtfmeyongkhehq\n",
    "UBUFOOSIXX\n",
    "YES\n",
    "\n",
    "PWBIJLCOIAXGJGUXUZOutgic\n",
    "PWBIJLCOIAXGJGUXUZO\n",
    "YES\n",
    "\n",
    "EOWZEOHWYOJTBNMcefdsp\n",
    "EOWZEOHWYOJTBNM\n",
    "YES"
   ]
  },
  {
   "cell_type": "code",
   "execution_count": null,
   "metadata": {},
   "outputs": [],
   "source": [
    "# Candies\n",
    "\n",
    "3\n",
    "1\n",
    "2\n",
    "2"
   ]
  },
  {
   "cell_type": "code",
   "execution_count": null,
   "metadata": {},
   "outputs": [],
   "source": [
    "10\n",
    "2\n",
    "4\n",
    "2\n",
    "6\n",
    "1\n",
    "7\n",
    "8\n",
    "9\n",
    "2\n",
    "1"
   ]
  },
  {
   "cell_type": "code",
   "execution_count": null,
   "metadata": {},
   "outputs": [],
   "source": [
    "8\n",
    "2\n",
    "4\n",
    "3\n",
    "5\n",
    "2\n",
    "6\n",
    "4\n",
    "5"
   ]
  },
  {
   "cell_type": "code",
   "execution_count": null,
   "metadata": {},
   "outputs": [],
   "source": []
  },
  {
   "cell_type": "code",
   "execution_count": null,
   "metadata": {},
   "outputs": [],
   "source": []
  },
  {
   "cell_type": "code",
   "execution_count": null,
   "metadata": {},
   "outputs": [],
   "source": []
  }
 ],
 "metadata": {
  "kernelspec": {
   "display_name": "Python 3",
   "language": "python",
   "name": "python3"
  },
  "language_info": {
   "codemirror_mode": {
    "name": "ipython",
    "version": 3
   },
   "file_extension": ".py",
   "mimetype": "text/x-python",
   "name": "python",
   "nbconvert_exporter": "python",
   "pygments_lexer": "ipython3",
   "version": "3.7.6"
  }
 },
 "nbformat": 4,
 "nbformat_minor": 4
}
