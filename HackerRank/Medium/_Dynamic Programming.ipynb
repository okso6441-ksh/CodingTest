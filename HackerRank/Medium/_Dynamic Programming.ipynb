{
 "cells": [
  {
   "cell_type": "code",
   "execution_count": 1,
   "metadata": {},
   "outputs": [
    {
     "name": "stdout",
     "output_type": "stream",
     "text": [
      "[2, 2, 0, 0, 0]\n",
      "[2, 2, 7, 0, 0]\n",
      "[2, 2, 7, 10, 0]\n",
      "[2, 2, 7, 10, 11]\n"
     ]
    },
    {
     "data": {
      "text/plain": [
       "(11, 11)"
      ]
     },
     "execution_count": 1,
     "metadata": {},
     "output_type": "execute_result"
    }
   ],
   "source": [
    "# Max Array Sum - 개미전사 \n",
    "n = 5\n",
    "arr = [2, 1, 5, 8, 4]\n",
    "d = [0]*n\n",
    "d[0] = arr[0]\n",
    "d[1] = max(arr[0],arr[1])\n",
    "print(d)\n",
    "for i in range(2, n):\n",
    "    d[i] = max(d[i-1], d[i-2]+arr[i], d[i-2], arr[i])\n",
    "    print(d)\n",
    "max(d), d[n-1]"
   ]
  },
  {
   "cell_type": "code",
   "execution_count": 2,
   "metadata": {},
   "outputs": [
    {
     "name": "stdout",
     "output_type": "stream",
     "text": [
      "NO\n"
     ]
    }
   ],
   "source": [
    "# Abbreviation\n",
    "\n",
    "a = 'beFgH'\n",
    "b = 'EFG'\n",
    "\n",
    "a1 = a.upper()\n",
    "minus = set(a1) - set(b)\n",
    "\n",
    "for i in minus:\n",
    "    a=a.replace(i.lower(),'') # 일치 안하는 소문자만 제거 \n",
    "    \n",
    "if a.upper() == b:\n",
    "    print('YES')\n",
    "else:\n",
    "    print('NO')   \n",
    "# worng 12/16     "
   ]
  },
  {
   "cell_type": "code",
   "execution_count": 3,
   "metadata": {},
   "outputs": [
    {
     "name": "stdout",
     "output_type": "stream",
     "text": [
      "QOTLYiFECLAGIEWRQMWPSMWIOQSEBEOAo QOTLYIFECLAGIEWRQMWPSMWIOQSEBEOAO\n",
      "YES 22\n"
     ]
    }
   ],
   "source": [
    "# Abbreviation\n",
    "a='QOTLYiFECLAGIEWRQMWPSMWIOQSEBEOAuhuvo'\n",
    "b='QOTLYFECLAGIEWRQMWPSMWIOQSEBEOA'\n",
    "\n",
    "a1 = a.upper()\n",
    "\n",
    "minus = set(a1) - set(b)\n",
    "\n",
    "for i in minus:\n",
    "    a=a.replace(i.lower(),'') # 일치 안하는 소문자만 제거 \n",
    "    a1=a1.replace(i.upper(),'') # 일치 안하는 소문자만 제거 \n",
    "    \n",
    "print(a, a1)\n",
    "if b in a1:\n",
    "    a = a.replace(a[a1.find(b):len(b)],'')\n",
    "    for i in a:\n",
    "        if i.isupper():\n",
    "            print('NO')   \n",
    "    print('YES')\n",
    "else:\n",
    "    for i in b:\n",
    "        a = a.replace(i,'')\n",
    "        a = a\n",
    "        \n",
    "    for i in a:\n",
    "         if i.isupper():\n",
    "                print('NO 44')\n",
    "    \n",
    "    print('YES 22')   "
   ]
  },
  {
   "cell_type": "markdown",
   "metadata": {},
   "source": [
    "a='QOTLYiFECLAGIEWRQMWPSMWIOQSEBEOAuhuvo'\n",
    "b='QOTLYFECLAGIEWRQMWPSMWIOQSEBEOA'\n",
    "\n",
    "DRFNLZZVHLPZWIupjwdmqafmgkg\n",
    "DRFNLZZVHLPZWI\n",
    "\n",
    "SLIHGCUOXOPQYUNEPSYVDaEZKNEYZJUHFXUIL\n",
    "SLIHCUOXOPQYNPSYVDEZKEZJUHFXUIHMGFP\n",
    "\n",
    "RYASPJNZEFHEORROXWZFOVDWQCFGRZLWWXJVMTLGGnscruaa\n",
    "RYASPJNZEFHEORROXWZFOVDWQCFGRZLWWXJVMTLGG\n",
    "\n",
    "AVECtLVOXKPHIViTZViLKZCZAXZUZRYZDSTIHuCKNykdduywb\n",
    "AVECLVOXKPHIVTZVLKZCZAXZUZRYZDSTIHCKN\n",
    "\n",
    "wZPRSZwGIMUAKONSVAUBUgSVPBWRSTJZECxMTQXXA\n",
    "ZPRSZGIMUAKONSVAUBUSVPBWRSTJZECMTQXXA\n",
    "\n",
    "SYIHDDSMREKXOKRFDQAOZJQXRIDWXPYINFZCEFYyxu\n",
    "SYIHDDSMREKXOKRFDQAOZJQXRIDWXPYINFZCEFY\n",
    "\n",
    "EIZGAWWDCSJBBZPBYVNKRDEWVZnSSWZIw{-truncated-}"
   ]
  },
  {
   "cell_type": "code",
   "execution_count": 4,
   "metadata": {},
   "outputs": [
    {
     "name": "stdout",
     "output_type": "stream",
     "text": [
      "[1, 2, 1, 0, 0, 0]\n",
      "[1, 2, 1, 2, 0, 0]\n",
      "[1, 2, 1, 2, 3, 0]\n",
      "[1, 2, 1, 2, 3, 1]\n"
     ]
    },
    {
     "data": {
      "text/plain": [
       "10"
      ]
     },
     "execution_count": 4,
     "metadata": {},
     "output_type": "execute_result"
    }
   ],
   "source": [
    "# Candies\n",
    "\n",
    "n = 6\n",
    "arr = [4,6,4,5,6,2]\n",
    "\n",
    "d = [0]*(n)\n",
    "\n",
    "d[0] = (2 if arr[0] > arr [1] else 1)\n",
    "d[1] = (2 if arr[0] < arr [1] else 1)\n",
    "\n",
    "for i in range(2, n):\n",
    "    if arr[i-1] < arr[i]:\n",
    "        d[i] = d[i-1]+1\n",
    "    else:\n",
    "        d[i] = 1\n",
    "        \n",
    "    print(d)\n",
    "sum(d)"
   ]
  },
  {
   "cell_type": "code",
   "execution_count": null,
   "metadata": {},
   "outputs": [],
   "source": []
  }
 ],
 "metadata": {
  "kernelspec": {
   "display_name": "Python 3",
   "language": "python",
   "name": "python3"
  },
  "language_info": {
   "codemirror_mode": {
    "name": "ipython",
    "version": 3
   },
   "file_extension": ".py",
   "mimetype": "text/x-python",
   "name": "python",
   "nbconvert_exporter": "python",
   "pygments_lexer": "ipython3",
   "version": "3.7.6"
  }
 },
 "nbformat": 4,
 "nbformat_minor": 4
}
