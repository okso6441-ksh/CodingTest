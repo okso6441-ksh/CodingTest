{
 "cells": [
  {
   "cell_type": "code",
   "execution_count": null,
   "metadata": {},
   "outputs": [],
   "source": [
    "# Recursion: Davis' Staircase\n",
    "\n",
    "step = [1,2,3]\n",
    "n=1 # 1\n",
    "n=2 # 2\n",
    "n=3 # 4\n",
    "n=4 # 6\n",
    "n=5 # 13\n",
    "n=7 # 44"
   ]
  },
  {
   "cell_type": "code",
   "execution_count": null,
   "metadata": {},
   "outputs": [],
   "source": [
    "1 1 1 1\n",
    "2 1 1\n",
    "1 2 1\n",
    "1 1 2\n",
    "3 1\n",
    "1 3"
   ]
  },
  {
   "cell_type": "code",
   "execution_count": null,
   "metadata": {},
   "outputs": [],
   "source": [
    "1 1 1 1 1\n",
    "1 1 1 2\n",
    "1 1 2 1 \n",
    "1 2 1 1\n",
    "2 1 1 1\n",
    "1 2 2\n",
    "2 2 1\n",
    "2 1 2\n",
    "1 1 3\n",
    "1 3 1\n",
    "3 1 1\n",
    "2 3\n",
    "3 2"
   ]
  },
  {
   "cell_type": "code",
   "execution_count": null,
   "metadata": {},
   "outputs": [],
   "source": [
    "STDIN   Function\n",
    "-----   --------\n",
    "3       s = 3 (number of staircases)\n",
    "1       first staircase n = 1\n",
    "3       second n = 3\n",
    "7       third n = 7"
   ]
  },
  {
   "cell_type": "code",
   "execution_count": null,
   "metadata": {},
   "outputs": [],
   "source": [
    "# Crossword Puzzle\n",
    "\n",
    "Input \t   \t\tOutput\n",
    "\n",
    "++++++++++ \t\t++++++++++\n",
    "+------+++ \t\t+POLAND+++\n",
    "+++-++++++ \t\t+++H++++++\n",
    "+++-++++++ \t\t+++A++++++\n",
    "+++-----++ \t\t+++SPAIN++\n",
    "+++-++-+++ \t\t+++A++N+++\n",
    "++++++-+++ \t\t++++++D+++\n",
    "++++++-+++ \t\t++++++I+++\n",
    "++++++-+++ \t\t++++++A+++\n",
    "++++++++++ \t\t++++++++++\n",
    "POLAND;LHASA;SPAIN;INDIA"
   ]
  },
  {
   "cell_type": "code",
   "execution_count": null,
   "metadata": {},
   "outputs": [],
   "source": [
    "+-++++++++\n",
    "+-++++++++\n",
    "+-++++++++\n",
    "+-----++++\n",
    "+-+++-++++\n",
    "+-+++-++++\n",
    "+++++-++++\n",
    "++------++\n",
    "+++++-++++\n",
    "+++++-++++\n",
    "LONDON;DELHI;ICELAND;ANKARA\n",
    "\n",
    "+L++++++++\n",
    "+O++++++++\n",
    "+N++++++++\n",
    "+DELHI++++\n",
    "+O+++C++++\n",
    "+N+++E++++\n",
    "+++++L++++\n",
    "++ANKARA++\n",
    "+++++N++++\n",
    "+++++D++++"
   ]
  },
  {
   "cell_type": "code",
   "execution_count": null,
   "metadata": {},
   "outputs": [],
   "source": [
    "Sample Input 1\n",
    "\n",
    "+-++++++++\n",
    "+-++++++++\n",
    "+-------++\n",
    "+-++++++++\n",
    "+-++++++++\n",
    "+------+++\n",
    "+-+++-++++\n",
    "+++++-++++\n",
    "+++++-++++\n",
    "++++++++++\n",
    "AGRA;NORWAY;ENGLAND;GWALIOR\n",
    "Sample Output 1\n",
    "\n",
    "+E++++++++\n",
    "+N++++++++\n",
    "+GWALIOR++\n",
    "+L++++++++\n",
    "+A++++++++\n",
    "+NORWAY+++\n",
    "+D+++G++++\n",
    "+++++R++++\n",
    "+++++A++++\n",
    "++++++++++\n"
   ]
  },
  {
   "cell_type": "code",
   "execution_count": null,
   "metadata": {},
   "outputs": [],
   "source": [
    "Sample Input 2\n",
    "\n",
    "++++++-+++\n",
    "++------++\n",
    "++++++-+++\n",
    "++++++-+++\n",
    "+++------+\n",
    "++++++-+-+\n",
    "++++++-+-+\n",
    "++++++++-+\n",
    "++++++++-+\n",
    "++++++++-+\n",
    "ICELAND;MEXICO;PANAMA;ALMATY\n",
    "Sample Output 2\n",
    "\n",
    "++++++I+++\n",
    "++MEXICO++\n",
    "++++++E+++\n",
    "++++++L+++\n",
    "+++PANAMA+\n",
    "++++++N+L+\n",
    "++++++D+M+\n",
    "++++++++A+\n",
    "++++++++T+\n",
    "++++++++Y+"
   ]
  },
  {
   "cell_type": "code",
   "execution_count": null,
   "metadata": {},
   "outputs": [],
   "source": [
    "# Recursive Digit Sum\n",
    "\n",
    "\tsuper_digit(9875)   \t9+8+7+5 = 29 \n",
    "\tsuper_digit(29) \t2 + 9 = 11\n",
    "\tsuper_digit(11)\t\t1 + 1 = 2\n",
    "\tsuper_digit(2)\t\t= 2  "
   ]
  },
  {
   "cell_type": "code",
   "execution_count": null,
   "metadata": {},
   "outputs": [],
   "source": [
    "    superDigit(p) = superDigit(9875987598759875)\n",
    "                  9+8+7+5+9+8+7+5+9+8+7+5+9+8+7+5 = 116\n",
    "    superDigit(p) = superDigit(116)\n",
    "                  1+1+6 = 8\n",
    "    superDigit(p) = superDigit(8)"
   ]
  },
  {
   "cell_type": "code",
   "execution_count": null,
   "metadata": {},
   "outputs": [],
   "source": [
    "148 3"
   ]
  },
  {
   "cell_type": "code",
   "execution_count": null,
   "metadata": {},
   "outputs": [],
   "source": [
    "super_digit(P) = super_digit(148148148) \n",
    "               = super_digit(1+4+8+1+4+8+1+4+8)\n",
    "               = super_digit(39)\n",
    "               = super_digit(3+9)\n",
    "               = super_digit(12)\n",
    "               = super_digit(1+2)\n",
    "               = super_digit(3)\n",
    "               = 3"
   ]
  },
  {
   "cell_type": "code",
   "execution_count": null,
   "metadata": {},
   "outputs": [],
   "source": [
    "Sample Input 1\n",
    "\n",
    "9875 4\n",
    "\n",
    "Sample Output 1\n",
    "\n",
    "8"
   ]
  },
  {
   "cell_type": "code",
   "execution_count": null,
   "metadata": {},
   "outputs": [],
   "source": [
    "\n",
    "Sample Input 2\n",
    "\n",
    "123 3\n",
    "\n",
    "Sample Output 2\n",
    "\n",
    "9\n",
    "\n",
    "Explanation 2\n",
    "\n",
    "Here  and , so .\n",
    "\n",
    "super_digit(P) = super_digit(123123123) \n",
    "               = super_digit(1+2+3+1+2+3+1+2+3)\n",
    "               = super_digit(18)\n",
    "               = super_digit(1+8)\n",
    "               = super_digit(9)\n",
    "               = 9"
   ]
  },
  {
   "cell_type": "code",
   "execution_count": null,
   "metadata": {},
   "outputs": [],
   "source": []
  },
  {
   "cell_type": "code",
   "execution_count": null,
   "metadata": {},
   "outputs": [],
   "source": []
  },
  {
   "cell_type": "code",
   "execution_count": null,
   "metadata": {},
   "outputs": [],
   "source": []
  }
 ],
 "metadata": {
  "kernelspec": {
   "display_name": "Python 3",
   "language": "python",
   "name": "python3"
  },
  "language_info": {
   "codemirror_mode": {
    "name": "ipython",
    "version": 3
   },
   "file_extension": ".py",
   "mimetype": "text/x-python",
   "name": "python",
   "nbconvert_exporter": "python",
   "pygments_lexer": "ipython3",
   "version": "3.7.6"
  }
 },
 "nbformat": 4,
 "nbformat_minor": 4
}
