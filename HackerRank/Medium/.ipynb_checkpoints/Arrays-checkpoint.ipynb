{
 "cells": [
  {
   "cell_type": "code",
   "execution_count": 1,
   "metadata": {},
   "outputs": [
    {
     "name": "stdout",
     "output_type": "stream",
     "text": [
      "3\n"
     ]
    }
   ],
   "source": [
    "# Minimum Swaps 2\n",
    "\n",
    "n = 4\n",
    "arr = [4,3,1,2]\n",
    "cnt = 0\n",
    "\n",
    "arr = [i-1 for i in arr]\n",
    "cnt = 0\n",
    "for i, v in enumerate(arr):\n",
    "    \n",
    "    if arr == sorted(arr):\n",
    "        break\n",
    "    idx = arr.index(i)\n",
    "    if idx != i:\n",
    "        arr[i], arr[idx] = arr[idx], arr[i]\n",
    "        cnt += 1\n",
    "        \n",
    "print(cnt)"
   ]
  },
  {
   "cell_type": "code",
   "execution_count": 2,
   "metadata": {},
   "outputs": [
    {
     "name": "stdout",
     "output_type": "stream",
     "text": [
      "0 0 2 2 [2, 1, 5, 3, 4]\n",
      "0 1 2 1 [2, 1, 5, 3, 4]\n",
      "if [0, 0, 1, 0, 0, 0]\n",
      "0 2 1 5 [1, 2, 5, 3, 4]\n",
      "0 3 1 3 [1, 2, 5, 3, 4]\n",
      "0 4 1 4 [1, 2, 5, 3, 4]\n",
      "1 1 2 2 [1, 2, 5, 3, 4]\n",
      "1 2 2 5 [1, 2, 5, 3, 4]\n",
      "1 3 2 3 [1, 2, 5, 3, 4]\n",
      "1 4 2 4 [1, 2, 5, 3, 4]\n",
      "2 2 5 5 [1, 2, 5, 3, 4]\n",
      "2 3 5 3 [1, 2, 5, 3, 4]\n",
      "if [0, 0, 1, 0, 0, 1]\n",
      "2 4 3 4 [1, 2, 3, 5, 4]\n",
      "3 3 5 5 [1, 2, 3, 5, 4]\n",
      "3 4 5 4 [1, 2, 3, 5, 4]\n",
      "if [0, 0, 1, 0, 0, 2]\n",
      "4 4 5 5 [1, 2, 3, 4, 5]\n"
     ]
    },
    {
     "data": {
      "text/plain": [
       "[0, 0, 1, 0, 0, 2]"
      ]
     },
     "execution_count": 2,
     "metadata": {},
     "output_type": "execute_result"
    }
   ],
   "source": [
    "# New Year Chaos\n",
    "n=5\n",
    "q = [2, 1, 5, 3, 4]\n",
    "\n",
    "d = [0]*(n+1)\n",
    "\n",
    "while q != sorted(q):\n",
    "    for i in range(n):\n",
    "        for j in range(i, n):\n",
    "            print(i, j, q[i], q[j], q)\n",
    "            if q[i] > q[j] and i< j:\n",
    "\n",
    "                d[q[i]] += 1\n",
    "                q[i], q[j] = q[j], q[i]\n",
    "                print('if', d)\n",
    "                \n",
    "d                "
   ]
  },
  {
   "cell_type": "code",
   "execution_count": 3,
   "metadata": {},
   "outputs": [
    {
     "name": "stdout",
     "output_type": "stream",
     "text": [
      "0 0 2 2 [2, 5, 1, 3, 4]\n",
      "0 1 2 5 [2, 5, 1, 3, 4]\n",
      "0 2 2 1 [2, 5, 1, 3, 4]\n",
      "if [0, 0, 1, 0, 0, 0]\n",
      "0 3 1 3 [1, 5, 2, 3, 4]\n",
      "0 4 1 4 [1, 5, 2, 3, 4]\n",
      "1 1 5 5 [1, 5, 2, 3, 4]\n",
      "1 2 5 2 [1, 5, 2, 3, 4]\n",
      "if [0, 0, 1, 0, 0, 1]\n",
      "1 3 2 3 [1, 2, 5, 3, 4]\n",
      "1 4 2 4 [1, 2, 5, 3, 4]\n",
      "2 2 5 5 [1, 2, 5, 3, 4]\n",
      "2 3 5 3 [1, 2, 5, 3, 4]\n",
      "if [0, 0, 1, 0, 0, 2]\n",
      "2 4 3 4 [1, 2, 3, 5, 4]\n",
      "3 3 5 5 [1, 2, 3, 5, 4]\n",
      "3 4 5 4 [1, 2, 3, 5, 4]\n",
      "if [0, 0, 1, 0, 0, 3]\n",
      "4 4 5 5 [1, 2, 3, 4, 5]\n"
     ]
    },
    {
     "data": {
      "text/plain": [
       "[0, 0, 1, 0, 0, 3]"
      ]
     },
     "execution_count": 3,
     "metadata": {},
     "output_type": "execute_result"
    }
   ],
   "source": [
    "# New Year Chaos\n",
    "n=5\n",
    "q = [2, 5, 1, 3, 4]\n",
    "\n",
    "d = [0]*(n+1)\n",
    "\n",
    "while q != sorted(q):\n",
    "    for i in range(n):\n",
    "        for j in range(i, n):\n",
    "            print(i, j, q[i], q[j], q)\n",
    "            if q[i] > q[j] and i< j:\n",
    "\n",
    "                d[q[i]] += 1\n",
    "                q[i], q[j] = q[j], q[i]\n",
    "                print('if', d)\n",
    "                \n",
    "                \n",
    "d                "
   ]
  },
  {
   "cell_type": "code",
   "execution_count": 4,
   "metadata": {},
   "outputs": [
    {
     "name": "stdout",
     "output_type": "stream",
     "text": [
      "0 1 2\n",
      "[1, 5, 2, 3, 4]\n",
      "1 2 5\n",
      "[1, 2, 5, 3, 4]\n",
      "2 3 5\n",
      "[1, 2, 3, 5, 4]\n",
      "3 4 5\n",
      "[1, 2, 3, 4, 5]\n",
      "4 5 5\n"
     ]
    },
    {
     "data": {
      "text/plain": [
       "[0, 0, 1, 0, 0, 3]"
      ]
     },
     "execution_count": 4,
     "metadata": {},
     "output_type": "execute_result"
    }
   ],
   "source": [
    "# New Year Chaos\n",
    "n=5\n",
    "q = [2, 5, 1, 3, 4]\n",
    "a = sorted(q)\n",
    "\n",
    "d = [0]*(n+1)\n",
    "\n",
    "for i in range(n):\n",
    "    print(i, a[i], q[i])\n",
    "    if a[i] < q[i]:\n",
    "        for j in range(i, n):\n",
    "            if q[i] > q[j] and i< j:\n",
    "                d[q[i]] += 1\n",
    "                q[i], q[j] = q[j], q[i]\n",
    "                print(q)\n",
    "                \n",
    "d                "
   ]
  },
  {
   "cell_type": "code",
   "execution_count": 5,
   "metadata": {},
   "outputs": [
    {
     "name": "stdout",
     "output_type": "stream",
     "text": [
      "[1, 0, 4, 2, 3]\n",
      "0 range 0 0\n",
      "-1 range 0 1\n",
      "if 0 1 0 1\n",
      "\n",
      "3 range 3 2\n",
      "1 range 1 3\n",
      "if 2 4 2 2\n",
      "\n",
      "2 range 2 4\n",
      "if 2 4 3 3\n",
      "\n",
      "3\n"
     ]
    }
   ],
   "source": [
    "n=5\n",
    "q = [2, 1, 5, 3, 4]\n",
    "\n",
    "moves = 0\n",
    "q = [p-1 for p in q]\n",
    "print(q)\n",
    "\n",
    "for i, p in  enumerate(q):\n",
    "    if p-i > 2:\n",
    "        print(\"Too chaotic\")\n",
    "        break\n",
    "    print(p-1, 'range', max(p-1, 0), i)\n",
    "    for j in range(max(p-1, 0), i):\n",
    "        if q[j] > p:\n",
    "            moves += 1\n",
    "            print('if', j, q[j], p, moves)\n",
    "            print()\n",
    "print(moves)"
   ]
  },
  {
   "cell_type": "code",
   "execution_count": 6,
   "metadata": {},
   "outputs": [
    {
     "name": "stdout",
     "output_type": "stream",
     "text": [
      "[1, 4, 0, 2, 3]\n",
      "0 1 -1\n",
      "1 4 2\n",
      "Too chaotic\n",
      "0\n"
     ]
    }
   ],
   "source": [
    "n=5\n",
    "q = [2, 5, 1, 3, 4]\n",
    "\n",
    "moves = 0\n",
    "q = [p-1 for p in q]\n",
    "print(q)\n",
    "\n",
    "for i, p in  enumerate(q):\n",
    "    print(i, p, p-2) \n",
    "    if p-i > 2: # 이동거리 2보다 크니까 \n",
    "        print(\"Too chaotic\")\n",
    "        break\n",
    "    \n",
    "    for j in range(max(p-1, 0), i):\n",
    "        if q[j] > p:\n",
    "            moves += 1\n",
    "print(moves)"
   ]
  },
  {
   "cell_type": "code",
   "execution_count": null,
   "metadata": {},
   "outputs": [],
   "source": []
  },
  {
   "cell_type": "code",
   "execution_count": 7,
   "metadata": {},
   "outputs": [
    {
     "name": "stdout",
     "output_type": "stream",
     "text": [
      "3\n"
     ]
    }
   ],
   "source": [
    "# Minimum Swaps 2\n",
    "\n",
    "n = 4\n",
    "arr = [4,3,1,2]\n",
    "cnt = 0\n",
    "\n",
    "arr = [i-1 for i in arr]\n",
    "cnt = 0\n",
    "for i, v in enumerate(arr):\n",
    "    \n",
    "    if arr == sorted(arr):\n",
    "        break\n",
    "    idx = arr.index(i)\n",
    "    \n",
    "    if idx != i:\n",
    "        arr[i], arr[idx] = arr[idx], arr[i]\n",
    "        cnt += 1\n",
    "        \n",
    "print(cnt)"
   ]
  },
  {
   "cell_type": "code",
   "execution_count": 8,
   "metadata": {},
   "outputs": [
    {
     "name": "stdout",
     "output_type": "stream",
     "text": [
      "0 4 1\n",
      "t 2\n",
      "t 3\n",
      "t 1\n",
      "1 2 2\n",
      "2 3 3\n",
      "3\n"
     ]
    }
   ],
   "source": [
    "# Minimum Swaps 2\n",
    "\n",
    "n = 4\n",
    "arr = [4,3,1,2]\n",
    "cnt = 0\n",
    "\n",
    "for i in range(0, n-1): # 마지막꺼는 안함 \n",
    "    print(i, arr[i], i+1)\n",
    "    while arr[i] != i+1:\n",
    "        t = arr[arr[i] - 1]\n",
    "        print('t', t)\n",
    "        arr[arr[i] -1] = arr[i]\n",
    "        arr[i] = t\n",
    "        cnt += 1\n",
    "    \n",
    "        \n",
    "print(cnt)"
   ]
  },
  {
   "cell_type": "code",
   "execution_count": 9,
   "metadata": {},
   "outputs": [
    {
     "name": "stdout",
     "output_type": "stream",
     "text": [
      "0 4 3 2\n",
      "0 2 1 3\n",
      "0 3 2 1\n",
      "3\n"
     ]
    }
   ],
   "source": [
    "# Minimum Swaps 2\n",
    "\n",
    "n = 4\n",
    "arr = [4,3,1,2]\n",
    "cnt = 0\n",
    "\n",
    "for i in range(0, n-1): # 마지막꺼는 안함 \n",
    "    #print(i, arr[i], i+1)\n",
    "    while arr[i] != i+1:\n",
    "        print(i, arr[i], arr[i] -1, arr[arr[i] -1])\n",
    "        arr[arr[i] -1], arr[i] = arr[i], arr[arr[i] -1]\n",
    "        cnt += 1   \n",
    "        \n",
    "print(cnt)"
   ]
  }
 ],
 "metadata": {
  "kernelspec": {
   "display_name": "Python 3",
   "language": "python",
   "name": "python3"
  },
  "language_info": {
   "codemirror_mode": {
    "name": "ipython",
    "version": 3
   },
   "file_extension": ".py",
   "mimetype": "text/x-python",
   "name": "python",
   "nbconvert_exporter": "python",
   "pygments_lexer": "ipython3",
   "version": "3.7.6"
  }
 },
 "nbformat": 4,
 "nbformat_minor": 4
}
