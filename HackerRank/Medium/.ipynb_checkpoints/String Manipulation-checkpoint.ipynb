{
 "cells": [
  {
   "cell_type": "markdown",
   "metadata": {},
   "source": [
    "[Sherlock and the Valid String](https://www.hackerrank.com/challenges/sherlock-and-valid-string/problem?h_l=interview&playlist_slugs%5B%5D=interview-preparation-kit&playlist_slugs%5B%5D=strings)\n",
    "\n",
    "문자열 s에서 모든 문자는 동일한 횟수로 나타나야 유효하다고 판단한다. 단, 문자열을 한번은 삭제할 수 있다. 주어진 문자열이 유효한지 판단하시오.  \n",
    "**Counter(Counter)**"
   ]
  },
  {
   "cell_type": "code",
   "execution_count": 1,
   "metadata": {},
   "outputs": [
    {
     "name": "stdout",
     "output_type": "stream",
     "text": [
      "Counter({2: 2, 1: 1})\n",
      "YES\n"
     ]
    }
   ],
   "source": [
    "from collections import Counter\n",
    "s = 'aabbc'\n",
    "d = Counter(s)\n",
    "counts = Counter(d.values())\n",
    "print(counts)\n",
    "if len(counts) == 1:\n",
    "    print(\"YES\")\n",
    "elif len(counts) > 2:\n",
    "    print(\"NO\")\n",
    "else:\n",
    "    max_v = max(counts.values())\n",
    "    k1, k2 = counts.keys()\n",
    "    if (max_v == len(d) - 1):\n",
    "        if (abs(k1 - k2) == 1):\n",
    "            print(\"YES\")\n",
    "        elif (min(k1, k2) == 1):\n",
    "            if counts[1] == 1:\n",
    "                print(\"YES\")\n",
    "            else:\n",
    "                print(\"NO\")\n",
    "        else:\n",
    "            print(\"NO\")\n",
    "    else:\n",
    "        print(\"NO\")"
   ]
  },
  {
   "cell_type": "markdown",
   "metadata": {},
   "source": [
    "[Special String Again](https://www.hackerrank.com/challenges/special-palindrome-again/problem?h_l=interview&playlist_slugs%5B%5D=interview-preparation-kit&playlist_slugs%5B%5D=strings)\n",
    "\n",
    "문자열 s에서 모든 문자가 동일하거나, 가운데 하나를 제외하고 동일한 경우는 몇가지 인가? "
   ]
  },
  {
   "cell_type": "code",
   "execution_count": 2,
   "metadata": {},
   "outputs": [
    {
     "name": "stdout",
     "output_type": "stream",
     "text": [
      "i 0 j 2\n",
      "ab 2\n",
      "1 b\n",
      "i 0 j 3\n",
      "abc 3\n",
      "a c\n",
      "i 0 j 4\n",
      "abcb 4\n",
      "2 cb\n",
      "i 0 j 5\n",
      "abcba 5\n",
      "ab ba\n",
      "i 0 j 6\n",
      "abcbab 6\n",
      "3 bab\n",
      "i 0 j 7\n",
      "abcbaba 7\n",
      "abc aba\n",
      "i 1 j 2\n",
      "bc 2\n",
      "1 c\n",
      "i 1 j 3\n",
      "bcb 3\n",
      "b b\n",
      "cnt!!!! 8\n",
      "i 1 j 4\n",
      "bcba 4\n",
      "2 ba\n",
      "i 1 j 5\n",
      "bcbab 5\n",
      "bc ab\n",
      "i 1 j 6\n",
      "bcbaba 6\n",
      "2 aba\n",
      "i 2 j 2\n",
      "cb 2\n",
      "1 b\n",
      "i 2 j 3\n",
      "cba 3\n",
      "c a\n",
      "i 2 j 4\n",
      "cbab 4\n",
      "2 ab\n",
      "i 2 j 5\n",
      "cbaba 5\n",
      "cb ba\n",
      "i 3 j 2\n",
      "ba 2\n",
      "1 a\n",
      "i 3 j 3\n",
      "bab 3\n",
      "b b\n",
      "cnt!!!! 9\n",
      "i 3 j 4\n",
      "baba 4\n",
      "2 ba\n",
      "i 4 j 2\n",
      "ab 2\n",
      "1 b\n",
      "i 4 j 3\n",
      "aba 3\n",
      "a a\n",
      "cnt!!!! 10\n",
      "i 5 j 2\n",
      "ba 2\n",
      "1 a\n"
     ]
    },
    {
     "data": {
      "text/plain": [
       "10"
      ]
     },
     "execution_count": 2,
     "metadata": {},
     "output_type": "execute_result"
    }
   ],
   "source": [
    "# Special String Again\n",
    "\n",
    "n = 7\n",
    "s = 'abcbaba'\n",
    "#s = 'abcde'\n",
    "\n",
    "cnt = len(s)\n",
    "\n",
    "for i in range(0, n):\n",
    "    for j in range(2, n+1):\n",
    "        if i+j <= n:\n",
    "            print('i', i, 'j',j)\n",
    "            print(s[i:i+j], len(s[i:i+j]))\n",
    "            lens = len(s[i:i+j])\n",
    "            if lens %2 == 0:\n",
    "                print(len(set(s[i:i+j-(lens//2)])), s[i+j-(lens//2):i+j])\n",
    "                if len(set(s[i:i+j])) == 1:\n",
    "                    cnt += 1\n",
    "                    print('cnt!!!!', cnt)\n",
    "            else:\n",
    "                print(s[i:i+j-(lens//2)-1], s[i+j-(lens//2):i+j])\n",
    "                if s[i:i+j-(lens//2)-1] == s[i+j-(lens//2):i+j]:\n",
    "                    cnt += 1\n",
    "                    print('cnt!!!!', cnt)\n",
    "            \n",
    "cnt # time out "
   ]
  },
  {
   "cell_type": "code",
   "execution_count": 3,
   "metadata": {},
   "outputs": [
    {
     "data": {
      "text/plain": [
       "10"
      ]
     },
     "execution_count": 3,
     "metadata": {},
     "output_type": "execute_result"
    }
   ],
   "source": [
    "# Special String Again\n",
    "\n",
    "n = 7\n",
    "s = 'abcbaba'\n",
    "#s = 'abcde'\n",
    "\n",
    "cnt = len(s)\n",
    "\n",
    "for i in range(0, n):\n",
    "    for j in range(2, n+1):\n",
    "        if i+j <= n:\n",
    "            lens = len(s[i:i+j])\n",
    "            if lens %2 == 0:\n",
    "                if len(set(s[i:i+j])) == 1:\n",
    "                    cnt += 1\n",
    "            else:\n",
    "                if s[i:i+j-(lens//2)-1] == s[i+j-(lens//2):i+j]:\n",
    "                    cnt += 1\n",
    "            \n",
    "cnt # time out "
   ]
  },
  {
   "cell_type": "code",
   "execution_count": 4,
   "metadata": {},
   "outputs": [
    {
     "name": "stdout",
     "output_type": "stream",
     "text": [
      "1\n",
      "2\n",
      "3\n",
      "4\n"
     ]
    }
   ],
   "source": [
    "n = 4\n",
    "s = 'aaaa'\n",
    "if len(set(list(s))) == 1:\n",
    "    for i in range(n):\n",
    "        print(i+1)"
   ]
  },
  {
   "cell_type": "code",
   "execution_count": 5,
   "metadata": {},
   "outputs": [
    {
     "data": {
      "text/plain": [
       "10"
      ]
     },
     "execution_count": 5,
     "metadata": {},
     "output_type": "execute_result"
    }
   ],
   "source": [
    "from itertools import groupby\n",
    "\n",
    "n = 7\n",
    "s = 'abcbaba'\n",
    "\n",
    "def k_sum(k):\n",
    "    return (k*(k+1))//2\n",
    "\n",
    "case_a = 0\n",
    "case_b = 0\n",
    "for x,y in groupby(s):\n",
    "    case_a += k_sum(sum(1 for i in y))\n",
    "\n",
    "for i in range(1,len(s)-1):\n",
    "    skip = 1\n",
    "    if s[i-skip] == s[i] or s[i+skip] == s[i]:\n",
    "        continue\n",
    "    match = s[i-skip]\n",
    "    while i-skip>-1 and i+skip<len(s) and s[i-skip]==match and s[i+skip]==match:\n",
    "        case_b += 1\n",
    "        skip += 1\n",
    "case_a+case_b"
   ]
  },
  {
   "cell_type": "code",
   "execution_count": 6,
   "metadata": {},
   "outputs": [
    {
     "name": "stdout",
     "output_type": "stream",
     "text": [
      "0 a 0\n",
      "1 b 1\n",
      "2 c 1\n",
      "3 b 1\n",
      "4 a 1\n",
      "5 b 1\n",
      "6 a 1\n"
     ]
    },
    {
     "data": {
      "text/plain": [
       "10"
      ]
     },
     "execution_count": 6,
     "metadata": {},
     "output_type": "execute_result"
    }
   ],
   "source": [
    "n = 7\n",
    "s = 'abcbaba'\n",
    "\n",
    "tot = 0\n",
    "count_sequence = 0\n",
    "prev = ''\n",
    "for i,v in enumerate(s):\n",
    "    print(i, v, count_sequence)\n",
    "    count_sequence += 1\n",
    "    if i and (prev != v):\n",
    "        j = 1\n",
    "        while ((i-j) >= 0) and ((i+j) < len(s)) and j <= count_sequence:\n",
    "            if s[i-j] == prev == s[i+j]:\n",
    "                tot += 1\n",
    "                j += 1\n",
    "            else:\n",
    "                break\n",
    "        count_sequence = 1  \n",
    "    tot += count_sequence            \n",
    "    prev = v\n",
    "tot"
   ]
  },
  {
   "cell_type": "markdown",
   "metadata": {},
   "source": [
    "[Common Child](https://www.hackerrank.com/challenges/common-child/problem?h_l=interview&playlist_slugs%5B%5D=interview-preparation-kit&playlist_slugs%5B%5D=strings)\n",
    "\n",
    "두 문자열이 주어졌을 때 s1, s2, 공통되는 가장 긴 문자열의 길이는?  \n",
    "s1 = H**A**PP**Y** s2 = S**A**LL**Y**  \n",
    "**LCS**(longest common subsequence)"
   ]
  },
  {
   "cell_type": "code",
   "execution_count": 7,
   "metadata": {},
   "outputs": [
    {
     "name": "stdout",
     "output_type": "stream",
     "text": [
      "4\n"
     ]
    }
   ],
   "source": [
    "# Common Child\n",
    "from collections import Counter\n",
    "\n",
    "s1, s2 ='ABCD', 'ABDC'\n",
    "\n",
    "c1, c2 = Counter(s1), Counter(s2)\n",
    "\n",
    "inter = set(c1) & set(c2)\n",
    "if len(inter) == 0:\n",
    "    print(0)\n",
    "else:\n",
    "    cnt = 0\n",
    "    for i in inter:\n",
    "        cnt += min(c1[i], c2[i])\n",
    "    print(cnt)"
   ]
  },
  {
   "cell_type": "code",
   "execution_count": 8,
   "metadata": {
    "scrolled": false
   },
   "outputs": [
    {
     "name": "stdout",
     "output_type": "stream",
     "text": [
      "m [[0, 0, 0, 0, 0], [0, 0, 0, 0, 0], [0, 0, 0, 0, 0], [0, 0, 0, 0, 0], [0, 0, 0, 0, 0]]\n",
      "1 A 1 A\n",
      "1 A 2 B\n",
      "1 A 3 D\n",
      "1 A 4 C\n",
      "2 B 1 A\n",
      "2 B 2 B\n",
      "2 B 3 D\n",
      "2 B 4 C\n",
      "3 C 1 A\n",
      "3 C 2 B\n",
      "3 C 3 D\n",
      "3 C 4 C\n",
      "4 D 1 A\n",
      "4 D 2 B\n",
      "4 D 3 D\n",
      "4 D 4 C\n",
      "[[0, 0, 0, 0, 0], [0, 1, 1, 1, 1], [0, 1, 2, 2, 2], [0, 1, 2, 2, 3], [0, 1, 2, 3, 3]]\n",
      "3\n"
     ]
    }
   ],
   "source": [
    "# Common Child\n",
    "from collections import Counter, defaultdict\n",
    "#s1, s2 = 'OUDFRMYMAW','AWHYFCCMQX' # 2\n",
    "s1, s2 ='ABCD', 'ABDC'\n",
    "\n",
    "m = [[0]*(len(s2)+1) for _ in range(len(s1)+1)]\n",
    "print('m',m)\n",
    "\n",
    "for i, c in enumerate(s1,1):\n",
    "    for j, d in enumerate(s2,1):\n",
    "        print(i, c, j, d)\n",
    "        if c==d:\n",
    "            m[i][j] = m[i-1][j-1]+1\n",
    "        else:\n",
    "            m[i][j] = max(m[i][j-1],m[i-1][j])\n",
    "print(m)\n",
    "print(m[-1][-1]) # Time limit exceeded     "
   ]
  },
  {
   "cell_type": "code",
   "execution_count": 9,
   "metadata": {},
   "outputs": [
    {
     "data": {
      "text/plain": [
       "3"
      ]
     },
     "execution_count": 9,
     "metadata": {},
     "output_type": "execute_result"
    }
   ],
   "source": [
    "# Common Child\n",
    "s1, s2 ='ABCD', 'ABDC'\n",
    "maxAt = {}\n",
    "\n",
    "for i1 in range(len(s1)):\n",
    "    maxForI1 = 0\n",
    "    for i2 in range(len(s2)):\n",
    "        potentialSum = maxForI1 + 1\n",
    "\n",
    "        other = maxAt.get(i2, 0)\n",
    "        if other > maxForI1:\n",
    "            maxForI1 = other\n",
    "\n",
    "        if s1[i1] == s2[i2]:\n",
    "            maxAt[i2] = potentialSum\n",
    "\n",
    "max(maxAt.values(), default=0)"
   ]
  },
  {
   "cell_type": "code",
   "execution_count": 10,
   "metadata": {},
   "outputs": [
    {
     "name": "stdout",
     "output_type": "stream",
     "text": [
      "i1 0 i2 0 maxAt {0: 1} other 0 potentialSum 1\n",
      "i1 0 i2 1 maxAt {0: 1} other 0 potentialSum 1\n",
      "i1 0 i2 2 maxAt {0: 1} other 0 potentialSum 1\n",
      "i1 0 i2 3 maxAt {0: 1} other 0 potentialSum 1\n",
      "i1 1 i2 0 maxAt {0: 1} other 1 potentialSum 1\n",
      "i1 1 i2 1 maxAt {0: 1, 1: 2} other 0 potentialSum 2\n",
      "i1 1 i2 2 maxAt {0: 1, 1: 2} other 0 potentialSum 2\n",
      "i1 1 i2 3 maxAt {0: 1, 1: 2} other 0 potentialSum 2\n",
      "i1 2 i2 0 maxAt {0: 1, 1: 2} other 1 potentialSum 1\n",
      "i1 2 i2 1 maxAt {0: 1, 1: 2} other 2 potentialSum 2\n",
      "i1 2 i2 2 maxAt {0: 1, 1: 2} other 0 potentialSum 3\n",
      "i1 2 i2 3 maxAt {0: 1, 1: 2, 3: 3} other 0 potentialSum 3\n",
      "i1 3 i2 0 maxAt {0: 1, 1: 2, 3: 3} other 1 potentialSum 1\n",
      "i1 3 i2 1 maxAt {0: 1, 1: 2, 3: 3} other 2 potentialSum 2\n",
      "i1 3 i2 2 maxAt {0: 1, 1: 2, 3: 3, 2: 3} other 0 potentialSum 3\n",
      "i1 3 i2 3 maxAt {0: 1, 1: 2, 3: 3, 2: 3} other 3 potentialSum 3\n"
     ]
    },
    {
     "data": {
      "text/plain": [
       "3"
      ]
     },
     "execution_count": 10,
     "metadata": {},
     "output_type": "execute_result"
    }
   ],
   "source": [
    "# Common Child\n",
    "s1, s2 ='ABCD', 'ABDC'\n",
    "maxAt = {}\n",
    "\n",
    "for i1 in range(len(s1)):\n",
    "    maxForI1 = 0\n",
    "    for i2 in range(len(s2)):\n",
    "        potentialSum = maxForI1 + 1\n",
    "\n",
    "        other = maxAt.get(i2, 0)\n",
    "        if other > maxForI1:\n",
    "            maxForI1 = other\n",
    "\n",
    "        if s1[i1] == s2[i2]:\n",
    "            maxAt[i2] = potentialSum\n",
    "            \n",
    "        print('i1',i1,'i2', i2,'maxAt',maxAt,'other',other,'potentialSum',potentialSum)\n",
    "        \n",
    "max(maxAt.values(), default=0)"
   ]
  }
 ],
 "metadata": {
  "kernelspec": {
   "display_name": "Python 3",
   "language": "python",
   "name": "python3"
  },
  "language_info": {
   "codemirror_mode": {
    "name": "ipython",
    "version": 3
   },
   "file_extension": ".py",
   "mimetype": "text/x-python",
   "name": "python",
   "nbconvert_exporter": "python",
   "pygments_lexer": "ipython3",
   "version": "3.7.6"
  }
 },
 "nbformat": 4,
 "nbformat_minor": 4
}
