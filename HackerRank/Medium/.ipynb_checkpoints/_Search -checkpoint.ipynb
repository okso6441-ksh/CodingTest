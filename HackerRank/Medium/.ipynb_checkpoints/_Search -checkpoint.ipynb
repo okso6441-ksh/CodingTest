{
 "cells": [
  {
   "cell_type": "code",
   "execution_count": null,
   "metadata": {},
   "outputs": [],
   "source": [
    "# Hash Tables: Ice Cream Parlor\n",
    "\n",
    "STDIN       Function\n",
    "-----       --------\n",
    "2           t = 2\n",
    "4           money = 4\n",
    "5           cost[] size n = 5\n",
    "1 4 5 3 2   cost = [1, 4, 5, 3, 2]\n",
    "4           money = 4\n",
    "4           cost[] size n = 4\n",
    "2 2 4 3     cost = [2, 2, 4, 3]\n"
   ]
  },
  {
   "cell_type": "code",
   "execution_count": null,
   "metadata": {},
   "outputs": [],
   "source": [
    "# Swap Nodes [Algo]\n",
    "\n",
    "                                Depth\n",
    "    1               1            [1]\n",
    "   / \\             / \\\n",
    "  2   3     ->    3   2          [2]\n",
    "   \\   \\           \\   \\\n",
    "    4   5           5   4        [3]\n"
   ]
  },
  {
   "cell_type": "code",
   "execution_count": null,
   "metadata": {},
   "outputs": [],
   "source": [
    "3\n",
    "2 3\n",
    "-1 -1\n",
    "-1 -1\n",
    "2\n",
    "1\n",
    "1"
   ]
  },
  {
   "cell_type": "code",
   "execution_count": null,
   "metadata": {},
   "outputs": [],
   "source": [
    "    1   [s]       1    [s]       1   \n",
    "   / \\      ->   / \\        ->  / \\  \n",
    "  2   3 [s]     3   2  [s]     2   3"
   ]
  },
  {
   "cell_type": "code",
   "execution_count": null,
   "metadata": {},
   "outputs": [],
   "source": [
    "5\n",
    "2 3\n",
    "-1 4\n",
    "-1 5\n",
    "-1 -1\n",
    "-1 -1\n",
    "1\n",
    "2"
   ]
  },
  {
   "cell_type": "code",
   "execution_count": null,
   "metadata": {},
   "outputs": [],
   "source": [
    "    1                  1  \n",
    "   / \\                / \\ \n",
    "  2   3   [s]  ->    2   3\n",
    "   \\   \\            /   / \n",
    "    4   5          4   5  "
   ]
  },
  {
   "cell_type": "code",
   "execution_count": null,
   "metadata": {},
   "outputs": [],
   "source": [
    "11\n",
    "2 3\n",
    "4 -1\n",
    "5 -1\n",
    "6 -1\n",
    "7 8\n",
    "-1 9\n",
    "-1 -1\n",
    "10 11\n",
    "-1 -1\n",
    "-1 -1\n",
    "-1 -1\n",
    "2\n",
    "2\n",
    "4"
   ]
  },
  {
   "cell_type": "code",
   "execution_count": null,
   "metadata": {},
   "outputs": [],
   "source": [
    "# Swap Nodes [Algo]\n",
    "\n",
    "                                Depth\n",
    "    1               1            [1]\n",
    "   / \\             / \\\n",
    "  2   3     ->    3   2          [2]\n",
    "   \\   \\           \\   \\\n",
    "    4   5           5   4        [3]"
   ]
  },
  {
   "cell_type": "code",
   "execution_count": null,
   "metadata": {},
   "outputs": [],
   "source": [
    "3\n",
    "2 3\n",
    "-1 -1\n",
    "-1 -1\n",
    "2\n",
    "1\n",
    "1"
   ]
  },
  {
   "cell_type": "code",
   "execution_count": null,
   "metadata": {},
   "outputs": [],
   "source": [
    "    1   [s]       1    [s]       1   \n",
    "   / \\      ->   / \\        ->  / \\  \n",
    "  2   3 [s]     3   2  [s]     2   3"
   ]
  },
  {
   "cell_type": "code",
   "execution_count": null,
   "metadata": {},
   "outputs": [],
   "source": [
    "5\n",
    "2 3\n",
    "-1 4\n",
    "-1 5\n",
    "-1 -1\n",
    "-1 -1\n",
    "1\n",
    "2"
   ]
  },
  {
   "cell_type": "code",
   "execution_count": null,
   "metadata": {},
   "outputs": [],
   "source": [
    "    1                  1  \n",
    "   / \\                / \\ \n",
    "  2   3   [s]  ->    2   3\n",
    "   \\   \\            /   / \n",
    "    4   5          4   5  "
   ]
  },
  {
   "cell_type": "code",
   "execution_count": null,
   "metadata": {},
   "outputs": [],
   "source": [
    "11\n",
    "2 3\n",
    "4 -1\n",
    "5 -1\n",
    "6 -1\n",
    "7 8\n",
    "-1 9\n",
    "-1 -1\n",
    "10 11\n",
    "-1 -1\n",
    "-1 -1\n",
    "-1 -1\n",
    "2\n",
    "2\n",
    "4"
   ]
  },
  {
   "cell_type": "code",
   "execution_count": null,
   "metadata": {},
   "outputs": [],
   "source": [
    "# Pairs\n",
    "\n",
    "STDIN       Function\n",
    "-----       --------\n",
    "5 2         arr[] size n = 5, k =2\n",
    "1 5 3 4 2   arr = [1, 5, 3, 4, 2]\n"
   ]
  },
  {
   "cell_type": "code",
   "execution_count": null,
   "metadata": {},
   "outputs": [],
   "source": [
    "# Triple sum\n",
    "\n",
    "3 2 3\n",
    "1 3 5\n",
    "2 3\n",
    "1 2 3\n"
   ]
  },
  {
   "cell_type": "code",
   "execution_count": null,
   "metadata": {},
   "outputs": [],
   "source": [
    "3 3 3\n",
    "1 4 5\n",
    "2 3 3\n",
    "1 2 3"
   ]
  },
  {
   "cell_type": "code",
   "execution_count": null,
   "metadata": {},
   "outputs": [],
   "source": [
    "4 3 4\n",
    "1 3 5 7\n",
    "5 7 9\n",
    "7 9 11 13"
   ]
  },
  {
   "cell_type": "code",
   "execution_count": null,
   "metadata": {},
   "outputs": [],
   "source": [
    "# Minimum Time Required\n",
    "\n",
    "Day Production  Count\n",
    "2   2               2\n",
    "3   1               3\n",
    "4   2               5\n",
    "6   3               8\n",
    "8   2              10"
   ]
  },
  {
   "cell_type": "code",
   "execution_count": null,
   "metadata": {},
   "outputs": [],
   "source": [
    "2 5\n",
    "2 3"
   ]
  },
  {
   "cell_type": "code",
   "execution_count": null,
   "metadata": {},
   "outputs": [],
   "source": [
    "3 10\n",
    "1 3 4"
   ]
  },
  {
   "cell_type": "code",
   "execution_count": null,
   "metadata": {},
   "outputs": [],
   "source": [
    "3 12\n",
    "4 5 6"
   ]
  },
  {
   "cell_type": "code",
   "execution_count": null,
   "metadata": {},
   "outputs": [],
   "source": []
  }
 ],
 "metadata": {
  "kernelspec": {
   "display_name": "Python 3",
   "language": "python",
   "name": "python3"
  },
  "language_info": {
   "codemirror_mode": {
    "name": "ipython",
    "version": 3
   },
   "file_extension": ".py",
   "mimetype": "text/x-python",
   "name": "python",
   "nbconvert_exporter": "python",
   "pygments_lexer": "ipython3",
   "version": "3.7.6"
  }
 },
 "nbformat": 4,
 "nbformat_minor": 4
}
