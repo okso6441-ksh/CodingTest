{
 "cells": [
  {
   "cell_type": "code",
   "execution_count": null,
   "metadata": {},
   "outputs": [],
   "source": [
    "# New Year Chaos\n",
    "\n",
    "STDIN       Function\n",
    "-----       --------\n",
    "2           t = 2\n",
    "5           n = 5\n",
    "2 1 5 3 4   q = [2, 1, 5, 3, 4]\n",
    "5           n = 5\n",
    "2 5 1 3 4   q = [2, 5, 1, 3, 4]"
   ]
  },
  {
   "cell_type": "code",
   "execution_count": null,
   "metadata": {},
   "outputs": [],
   "source": [
    "# Minimum Swaps 2\n",
    "\n",
    "i   arr                         swap (indices)\n",
    "0   [7, 1, 3, 2, 4, 5, 6]   swap (0,3)\n",
    "1   [2, 1, 3, 7, 4, 5, 6]   swap (0,1)\n",
    "2   [1, 2, 3, 7, 4, 5, 6]   swap (3,4)\n",
    "3   [1, 2, 3, 4, 7, 5, 6]   swap (4,5)\n",
    "4   [1, 2, 3, 4, 5, 7, 6]   swap (5,6)\n",
    "5   [1, 2, 3, 4, 5, 6, 7]\n",
    "\n",
    "4\n",
    "4 3 1 2"
   ]
  },
  {
   "cell_type": "code",
   "execution_count": null,
   "metadata": {},
   "outputs": [],
   "source": [
    "5\n",
    "2 3 4 1 5"
   ]
  },
  {
   "cell_type": "code",
   "execution_count": null,
   "metadata": {},
   "outputs": [],
   "source": [
    "7\n",
    "1 3 5 2 4 6 7"
   ]
  }
 ],
 "metadata": {
  "kernelspec": {
   "display_name": "Python 3",
   "language": "python",
   "name": "python3"
  },
  "language_info": {
   "codemirror_mode": {
    "name": "ipython",
    "version": 3
   },
   "file_extension": ".py",
   "mimetype": "text/x-python",
   "name": "python",
   "nbconvert_exporter": "python",
   "pygments_lexer": "ipython3",
   "version": "3.7.6"
  }
 },
 "nbformat": 4,
 "nbformat_minor": 4
}
