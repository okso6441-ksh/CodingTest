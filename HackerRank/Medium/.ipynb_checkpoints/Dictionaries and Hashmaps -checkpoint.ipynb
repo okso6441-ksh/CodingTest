{
 "cells": [
  {
   "cell_type": "code",
   "execution_count": 1,
   "metadata": {},
   "outputs": [
    {
     "name": "stdout",
     "output_type": "stream",
     "text": [
      "Counter({'a': 2, 'b': 2, 'ab': 2, 'abb': 2, 'bb': 1})\n",
      "4\n"
     ]
    }
   ],
   "source": [
    "# Sherlock and Anagrams\n",
    "\n",
    "from collections import Counter\n",
    "s = 'abba'\n",
    "count = Counter((\"\".join(sorted(s[j:j+i])) for i in range(1,len(s)) for j in range(0,len(s)-i+1) ))\n",
    "print(count)\n",
    "print(sum(sum(range(i)) for i in count.values()))"
   ]
  },
  {
   "cell_type": "code",
   "execution_count": 2,
   "metadata": {},
   "outputs": [
    {
     "data": {
      "text/plain": [
       "(0, 1, 3)"
      ]
     },
     "execution_count": 2,
     "metadata": {},
     "output_type": "execute_result"
    }
   ],
   "source": [
    "sum(range(1)), sum(range(2)), sum(range(3))"
   ]
  },
  {
   "cell_type": "code",
   "execution_count": 3,
   "metadata": {},
   "outputs": [
    {
     "name": "stdout",
     "output_type": "stream",
     "text": [
      "1 0 a\n",
      "1 1 b\n",
      "1 2 b\n",
      "1 3 a\n",
      "2 0 ab\n",
      "2 1 bb\n",
      "2 2 ab\n",
      "3 0 abb\n",
      "3 1 abb\n"
     ]
    }
   ],
   "source": [
    "for i in range(1, len(s)):\n",
    "    for j in range(0, len(s)-i+1):\n",
    "        print(i, j, ''.join(sorted(s[j:j+i])))"
   ]
  },
  {
   "cell_type": "code",
   "execution_count": 4,
   "metadata": {},
   "outputs": [
    {
     "name": "stdout",
     "output_type": "stream",
     "text": [
      "6\n"
     ]
    }
   ],
   "source": [
    "# Count Triplets\n",
    "n = 6 \n",
    "r = 3\n",
    "arr = [1, 3, 9, 9, 27, 81]\n",
    "\n",
    "from collections import Counter\n",
    "c = Counter(arr)\n",
    "\n",
    "total = 0\n",
    "for i, v in enumerate(sorted(c)):\n",
    "    if i-3 == 0:\n",
    "        break\n",
    "    total += c[v]*c[v*r]*c[v*r*r]\n",
    "    \n",
    "print(total)    # time out "
   ]
  },
  {
   "cell_type": "code",
   "execution_count": null,
   "metadata": {},
   "outputs": [],
   "source": []
  },
  {
   "cell_type": "code",
   "execution_count": 5,
   "metadata": {},
   "outputs": [
    {
     "data": {
      "text/plain": [
       "(0, 0, 1)"
      ]
     },
     "execution_count": 5,
     "metadata": {},
     "output_type": "execute_result"
    }
   ],
   "source": [
    "3%3, 9%3, 4%3"
   ]
  },
  {
   "cell_type": "code",
   "execution_count": 6,
   "metadata": {
    "scrolled": false
   },
   "outputs": [
    {
     "name": "stdout",
     "output_type": "stream",
     "text": [
      "Counter({9: 2, 1: 1, 3: 1, 27: 1, 81: 1})\n",
      "Counter()\n",
      "i 1 0 3 Counter({9: 2, 3: 1, 27: 1, 81: 1, 1: 0})\n",
      "s 0 Counter({1: 1})\n",
      "\n",
      "i 3 1 9 Counter({9: 2, 27: 1, 81: 1, 1: 0, 3: 0})\n",
      "s 2 Counter({1: 1, 3: 1})\n",
      "\n",
      "i 9 3 27 Counter({9: 1, 27: 1, 81: 1, 1: 0, 3: 0})\n",
      "s 3 Counter({1: 1, 3: 1, 9: 1})\n",
      "\n",
      "i 9 3 27 Counter({27: 1, 81: 1, 1: 0, 3: 0, 9: 0})\n",
      "s 4 Counter({9: 2, 1: 1, 3: 1})\n",
      "\n",
      "i 27 9 81 Counter({81: 1, 1: 0, 3: 0, 9: 0, 27: 0})\n",
      "s 6 Counter({9: 2, 1: 1, 3: 1, 27: 1})\n",
      "\n",
      "i 81 27 243 Counter({1: 0, 3: 0, 9: 0, 27: 0, 81: 0})\n",
      "s 6 Counter({9: 2, 1: 1, 3: 1, 27: 1, 81: 1})\n",
      "\n",
      "6\n"
     ]
    }
   ],
   "source": [
    "from collections import Counter\n",
    "\n",
    "def countTriplets(arr, r):\n",
    "    a = Counter(arr)\n",
    "    print(a)\n",
    "    b = Counter()\n",
    "    print(b)\n",
    "    s = 0\n",
    "    for i in arr:\n",
    "        j = i//r\n",
    "        k = i*r\n",
    "        a[i]-=1\n",
    "        print('i',i, j, k, a)\n",
    "        if b[j] and a[k] and i%r == 0:\n",
    "            s+=b[j]*a[k]\n",
    "        b[i]+=1\n",
    "        print('s', s, b)\n",
    "        print()\n",
    "    return s\n",
    "\n",
    "n = 6 \n",
    "r = 3\n",
    "arr = [1, 3, 9, 9, 27, 81]\n",
    "print(countTriplets(arr, r))"
   ]
  },
  {
   "cell_type": "code",
   "execution_count": 7,
   "metadata": {},
   "outputs": [
    {
     "name": "stdout",
     "output_type": "stream",
     "text": [
      "[0, 1]\n"
     ]
    }
   ],
   "source": [
    "# Frequency Queries\n",
    "\n",
    "from collections import Counter\n",
    "\n",
    "queries = [[1, 5], [1, 6], [3, 2],[1,10],[1,10],[1,6],[2,9], [3,2]]\n",
    "q = []\n",
    "result = []\n",
    "for i, j in queries:\n",
    "    if i==1:\n",
    "        q.append(j)\n",
    "    elif i==2:\n",
    "        try:\n",
    "            q.remove(j)\n",
    "        except:\n",
    "            pass\n",
    "    elif i==3:\n",
    "        if list(map(str, Counter(q).values())).count(str(j)) > 0:\n",
    "            result.append(1)\n",
    "        else:\n",
    "            result.append(0)\n",
    "print(result)     \n",
    "# time out "
   ]
  },
  {
   "cell_type": "code",
   "execution_count": 8,
   "metadata": {},
   "outputs": [
    {
     "name": "stdout",
     "output_type": "stream",
     "text": [
      "Counter() defaultdict(<class 'set'>, {})\n",
      "\n",
      "v 0\n",
      "1 5 Counter({5: 1}) defaultdict(<class 'set'>, {0: set(), 1: {5}})\n",
      "\n",
      "v 0\n",
      "1 6 Counter({5: 1, 6: 1}) defaultdict(<class 'set'>, {0: set(), 1: {5, 6}})\n",
      "\n",
      "v 0\n",
      "0\n",
      "\n",
      "v 0\n",
      "1 10 Counter({5: 1, 6: 1, 10: 1}) defaultdict(<class 'set'>, {0: set(), 1: {10, 5, 6}, 2: set()})\n",
      "\n",
      "v 1\n",
      "1 10 Counter({10: 2, 5: 1, 6: 1}) defaultdict(<class 'set'>, {0: set(), 1: {5, 6}, 2: {10}})\n",
      "\n",
      "v 1\n",
      "1 6 Counter({6: 2, 10: 2, 5: 1}) defaultdict(<class 'set'>, {0: set(), 1: {5}, 2: {10, 6}})\n",
      "\n",
      "v 0\n",
      "2 9 Counter({6: 2, 10: 2, 5: 1, 9: -1}) defaultdict(<class 'set'>, {0: set(), 1: {5}, 2: {10, 6}, -1: {9}})\n",
      "\n",
      "v 0\n",
      "1\n"
     ]
    }
   ],
   "source": [
    "# Frequency Queries\n",
    "\n",
    "from collections import Counter, defaultdict\n",
    "\n",
    "queries = [[1, 5], [1, 6], [3, 2],[1,10],[1,10],[1,6],[2,9], [3,2]]\n",
    "c = Counter()\n",
    "d = defaultdict(set)\n",
    "print(c, d)\n",
    "for i, j in queries:\n",
    "    print()\n",
    "    v = c[j]\n",
    "    print('v',v)\n",
    "    if i==1:\n",
    "        d[v].discard(j)\n",
    "        d[v+1].add(j)\n",
    "        c[j] = v+1\n",
    "        print(i, j, c, d)\n",
    "    elif i==2:\n",
    "        d[v].discard(j)\n",
    "        d[v-1].add(j)\n",
    "        c[j] = v-1\n",
    "        print(i, j, c, d)\n",
    "    elif i==3:\n",
    "        #yield 1 if d[j] else 0\n",
    "        print(1 if d[j] else 0)"
   ]
  }
 ],
 "metadata": {
  "kernelspec": {
   "display_name": "Python 3",
   "language": "python",
   "name": "python3"
  },
  "language_info": {
   "codemirror_mode": {
    "name": "ipython",
    "version": 3
   },
   "file_extension": ".py",
   "mimetype": "text/x-python",
   "name": "python",
   "nbconvert_exporter": "python",
   "pygments_lexer": "ipython3",
   "version": "3.7.6"
  }
 },
 "nbformat": 4,
 "nbformat_minor": 4
}
