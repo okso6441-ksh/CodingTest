{
 "cells": [
  {
   "cell_type": "code",
   "execution_count": 1,
   "metadata": {},
   "outputs": [],
   "source": [
    "# Sherlock and the Valid String\n",
    "from collections import Counter\n",
    "s = 'aabbc'\n",
    "c = Counter(s)\n",
    "\n",
    "if len(s) == 1:\n",
    "    print('YES')\n",
    "\n",
    "if len(set(c.values())) == 1:\n",
    "    print('NO1')\n",
    "        \n",
    "for _ in range(min(c.values())):\n",
    "    for i in c:\n",
    "        c[i] -= 1 \n",
    "print(c)        \n",
    "if sum(c.values()) > 1:\n",
    "    print('NO3')        \n",
    "    \n",
    "cnt = 0    \n",
    "for i in c:\n",
    "    if c[i] % 2 == 1:\n",
    "        cnt += 1\n",
    "        \n",
    "if cnt > 1:\n",
    "    print('NO2')    "
   ]
  },
  {
   "cell_type": "code",
   "execution_count": 2,
   "metadata": {},
   "outputs": [],
   "source": [
    "s = 'aabbc'\n",
    "c = Counter(Counter(s).values())\n",
    "print(c)\n",
    "if len(c)==1:\n",
    "    print( \"YES\")\n",
    "if len(c)>2:\n",
    "    print( \"NO\")\n",
    "if 1 in c.values() and (c[min(c.keys())]==1 or (max(c.keys()) - min(c.keys())==1)):\n",
    "    print( \"YES\")\n",
    "else:\n",
    "    print( \"NO\")\n"
   ]
  },
  {
   "cell_type": "code",
   "execution_count": 3,
   "metadata": {},
   "outputs": [],
   "source": [
    "s = 'aabbc'\n",
    "d = Counter(s)\n",
    "counts = Counter(d.values())\n",
    "print(counts)\n",
    "if len(counts) == 1:\n",
    "    print(\"YES\")\n",
    "elif len(counts) > 2:\n",
    "    print(\"NO\")\n",
    "else:\n",
    "    max_v = max(counts.values())\n",
    "    k1, k2 = counts.keys()\n",
    "    if (max_v == len(d) - 1):\n",
    "        if (abs(k1 - k2) == 1):\n",
    "            print(\"YES\")\n",
    "        elif (min(k1, k2) == 1):\n",
    "            if counts[1] == 1:\n",
    "                print(\"YES\")\n",
    "            else:\n",
    "                print(\"NO\")\n",
    "        else:\n",
    "            print(\"NO\")\n",
    "    else:\n",
    "        print(\"NO\")"
   ]
  },
  {
   "cell_type": "code",
   "execution_count": 4,
   "metadata": {},
   "outputs": [],
   "source": [
    "# Special String Again\n",
    "\n",
    "n = 7\n",
    "s = 'abcbaba'\n",
    "#s = 'abcde'\n",
    "\n",
    "cnt = len(s)\n",
    "\n",
    "for i in range(0, n):\n",
    "    for j in range(2, n+1):\n",
    "        if i+j <= n:\n",
    "            print('i', i, 'j',j)\n",
    "            print(s[i:i+j], len(s[i:i+j]))\n",
    "            lens = len(s[i:i+j])\n",
    "            if lens %2 == 0:\n",
    "                print(len(set(s[i:i+j-(lens//2)])), s[i+j-(lens//2):i+j])\n",
    "                if len(set(s[i:i+j])) == 1:\n",
    "                    cnt += 1\n",
    "                    print('cnt!!!!', cnt)\n",
    "            else:\n",
    "                print(s[i:i+j-(lens//2)-1], s[i+j-(lens//2):i+j])\n",
    "                if s[i:i+j-(lens//2)-1] == s[i+j-(lens//2):i+j]:\n",
    "                    cnt += 1\n",
    "                    print('cnt!!!!', cnt)\n",
    "            \n",
    "cnt # time out "
   ]
  },
  {
   "cell_type": "code",
   "execution_count": 5,
   "metadata": {},
   "outputs": [],
   "source": [
    "# Special String Again\n",
    "\n",
    "n = 7\n",
    "s = 'abcbaba'\n",
    "#s = 'abcde'\n",
    "\n",
    "cnt = len(s)\n",
    "\n",
    "for i in range(0, n):\n",
    "    for j in range(2, n+1):\n",
    "        if i+j <= n:\n",
    "            lens = len(s[i:i+j])\n",
    "            if lens %2 == 0:\n",
    "                if len(set(s[i:i+j])) == 1:\n",
    "                    cnt += 1\n",
    "            else:\n",
    "                if s[i:i+j-(lens//2)-1] == s[i+j-(lens//2):i+j]:\n",
    "                    cnt += 1\n",
    "            \n",
    "cnt # time out "
   ]
  },
  {
   "cell_type": "code",
   "execution_count": 6,
   "metadata": {},
   "outputs": [],
   "source": [
    "n = 4\n",
    "s = 'aaaa'\n",
    "if len(set(list(s))) == 1:\n",
    "    for i in range(n):\n",
    "        print(i+1)"
   ]
  },
  {
   "cell_type": "code",
   "execution_count": 7,
   "metadata": {},
   "outputs": [],
   "source": [
    "# Special String Again\n",
    "\n",
    "n = 7\n",
    "s = 'abcbaba'\n",
    "#s = 'abcde'\n",
    "\n",
    "cnt = len(s)\n",
    "\n",
    "for i in range(0, n-1):\n",
    "    if s[i] == s[i+1]:\n",
    "        cnt += 1\n",
    "    if i < n-2:\n",
    "        if s[i] == s[i+2]:\n",
    "            cnt += 1\n",
    "            \n",
    "cnt # wrong "
   ]
  },
  {
   "cell_type": "code",
   "execution_count": 8,
   "metadata": {},
   "outputs": [],
   "source": [
    "n = 7\n",
    "s = 'abcbaba'\n",
    "#s = 'abcde'\n",
    "\n",
    "cnt = len(s)\n",
    "\n",
    "for i in range(0, n-1):\n",
    "    if s[i] == s[i+1]:\n",
    "        cnt += 1\n",
    "for i in range(0, n-2):\n",
    "    if s[i] == s[i+2]:\n",
    "        cnt += 1\n",
    "        \n",
    "cnt         "
   ]
  },
  {
   "cell_type": "code",
   "execution_count": 9,
   "metadata": {},
   "outputs": [
    {
     "ename": "NameError",
     "evalue": "name 'HARRY' is not defined",
     "output_type": "error",
     "traceback": [
      "\u001b[1;31m---------------------------------------------------------------------------\u001b[0m",
      "\u001b[1;31mNameError\u001b[0m                                 Traceback (most recent call last)",
      "\u001b[1;32m<ipython-input-9-7d9b1c1503a2>\u001b[0m in \u001b[0;36m<module>\u001b[1;34m\u001b[0m\n\u001b[0;32m      1\u001b[0m \u001b[1;31m# Common Child\u001b[0m\u001b[1;33m\u001b[0m\u001b[1;33m\u001b[0m\u001b[1;33m\u001b[0m\u001b[0m\n\u001b[0;32m      2\u001b[0m \u001b[1;33m\u001b[0m\u001b[0m\n\u001b[1;32m----> 3\u001b[1;33m \u001b[0mHARRY\u001b[0m\u001b[1;33m\u001b[0m\u001b[1;33m\u001b[0m\u001b[0m\n\u001b[0m\u001b[0;32m      4\u001b[0m \u001b[0mSALLY\u001b[0m\u001b[1;33m\u001b[0m\u001b[1;33m\u001b[0m\u001b[0m\n",
      "\u001b[1;31mNameError\u001b[0m: name 'HARRY' is not defined"
     ]
    }
   ],
   "source": [
    "# Common Child\n",
    "\n",
    "HARRY\n",
    "SALLY"
   ]
  },
  {
   "cell_type": "code",
   "execution_count": null,
   "metadata": {},
   "outputs": [],
   "source": [
    "AA\n",
    "BB"
   ]
  },
  {
   "cell_type": "code",
   "execution_count": null,
   "metadata": {},
   "outputs": [],
   "source": [
    "SHINCHAN\n",
    "NOHARAAA"
   ]
  },
  {
   "cell_type": "code",
   "execution_count": null,
   "metadata": {},
   "outputs": [],
   "source": [
    "ABCDEF\n",
    "FBDAMN"
   ]
  }
 ],
 "metadata": {
  "kernelspec": {
   "display_name": "Python 3",
   "language": "python",
   "name": "python3"
  },
  "language_info": {
   "codemirror_mode": {
    "name": "ipython",
    "version": 3
   },
   "file_extension": ".py",
   "mimetype": "text/x-python",
   "name": "python",
   "nbconvert_exporter": "python",
   "pygments_lexer": "ipython3",
   "version": "3.7.6"
  }
 },
 "nbformat": 4,
 "nbformat_minor": 4
}
