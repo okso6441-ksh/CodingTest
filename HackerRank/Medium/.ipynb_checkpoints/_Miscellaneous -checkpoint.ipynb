{
 "cells": [
  {
   "cell_type": "code",
   "execution_count": null,
   "metadata": {},
   "outputs": [],
   "source": [
    "# Time Complexity: Primality"
   ]
  },
  {
   "cell_type": "code",
   "execution_count": null,
   "metadata": {},
   "outputs": [],
   "source": [
    "Sample Input\n",
    "\n",
    "STDIN   Function\n",
    "-----   --------\n",
    "3       p = 3 (number of values to follow)\n",
    "12      n = 12 (first number to check)\n",
    "5       n = 5\n",
    "7       n = 7\n",
    "Sample Output\n",
    "\n",
    "Not prime\n",
    "Prime\n",
    "Prime"
   ]
  },
  {
   "cell_type": "code",
   "execution_count": null,
   "metadata": {},
   "outputs": [],
   "source": [
    "# Friend Circle Queries\n",
    "\n",
    "1 2\n",
    "3 4\n",
    "2 3"
   ]
  },
  {
   "cell_type": "code",
   "execution_count": null,
   "metadata": {},
   "outputs": [],
   "source": [
    "2\n",
    "1 2\n",
    "1 3"
   ]
  },
  {
   "cell_type": "code",
   "execution_count": null,
   "metadata": {},
   "outputs": [],
   "source": [
    "4\n",
    "1000000000 23\n",
    "11 3778\n",
    "7 47\n",
    "11 1000000000"
   ]
  },
  {
   "cell_type": "code",
   "execution_count": null,
   "metadata": {},
   "outputs": [],
   "source": [
    "6\n",
    "1 2\n",
    "3 4\n",
    "1 3\n",
    "5 7\n",
    "5 6\n",
    "7 4"
   ]
  },
  {
   "cell_type": "code",
   "execution_count": null,
   "metadata": {},
   "outputs": [],
   "source": [
    "# Maximum Xor\n",
    "\n",
    "3\n",
    "0 1 2\n",
    "3\n",
    "3\n",
    "7\n",
    "2"
   ]
  },
  {
   "cell_type": "code",
   "execution_count": null,
   "metadata": {},
   "outputs": [],
   "source": [
    "5\n",
    "5 1 7 4 3\n",
    "2\n",
    "2\n",
    "0"
   ]
  },
  {
   "cell_type": "code",
   "execution_count": null,
   "metadata": {},
   "outputs": [],
   "source": [
    "4\n",
    "1 3 5 7\n",
    "2\n",
    "17\n",
    "6"
   ]
  }
 ],
 "metadata": {
  "kernelspec": {
   "display_name": "Python 3",
   "language": "python",
   "name": "python3"
  },
  "language_info": {
   "codemirror_mode": {
    "name": "ipython",
    "version": 3
   },
   "file_extension": ".py",
   "mimetype": "text/x-python",
   "name": "python",
   "nbconvert_exporter": "python",
   "pygments_lexer": "ipython3",
   "version": "3.7.6"
  }
 },
 "nbformat": 4,
 "nbformat_minor": 4
}
