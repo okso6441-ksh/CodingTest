{
 "cells": [
  {
   "cell_type": "code",
   "execution_count": null,
   "metadata": {},
   "outputs": [],
   "source": [
    "# Roads and Libraries\n",
    "\n",
    "STDIN       Function\n",
    "-----       --------\n",
    "2           q = 2\n",
    "3 3 2 1     n = 3, cities[] size m = 3, c_lib = 2, c_road = 1\n",
    "1 2         cities = [[1, 2], [3, 1], [2, 3]]\n",
    "3 1\n",
    "2 3\n",
    "6 6 2 5     n = 6, cities[] size m = 6, c_lib = 2, c_road = 5\n",
    "1 3         cities = [[1, 3], [3, 4],...]\n",
    "3 4\n",
    "2 4\n",
    "1 2\n",
    "2 3\n",
    "5 6"
   ]
  },
  {
   "cell_type": "code",
   "execution_count": null,
   "metadata": {},
   "outputs": [],
   "source": [
    "# Find the nearest clone\n",
    "\n",
    "4 3\n",
    "1 2\n",
    "1 3\n",
    "4 2\n",
    "1 2 1 1 \n",
    "1"
   ]
  },
  {
   "cell_type": "code",
   "execution_count": null,
   "metadata": {},
   "outputs": [],
   "source": [
    "4 3\n",
    "1 2\n",
    "1 3\n",
    "4 2\n",
    "1 2 3 4\n",
    "2"
   ]
  },
  {
   "cell_type": "code",
   "execution_count": null,
   "metadata": {},
   "outputs": [],
   "source": [
    "5 4\n",
    "1 2\n",
    "1 3\n",
    "2 4\n",
    "3 5\n",
    "1 2 3 3 2\n",
    "2"
   ]
  },
  {
   "cell_type": "code",
   "execution_count": null,
   "metadata": {},
   "outputs": [],
   "source": []
  }
 ],
 "metadata": {
  "kernelspec": {
   "display_name": "Python 3",
   "language": "python",
   "name": "python3"
  },
  "language_info": {
   "codemirror_mode": {
    "name": "ipython",
    "version": 3
   },
   "file_extension": ".py",
   "mimetype": "text/x-python",
   "name": "python",
   "nbconvert_exporter": "python",
   "pygments_lexer": "ipython3",
   "version": "3.7.6"
  }
 },
 "nbformat": 4,
 "nbformat_minor": 4
}
