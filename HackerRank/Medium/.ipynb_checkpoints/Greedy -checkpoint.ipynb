{
 "cells": [
  {
   "cell_type": "code",
   "execution_count": 1,
   "metadata": {},
   "outputs": [
    {
     "name": "stdout",
     "output_type": "stream",
     "text": [
      "32 9\n"
     ]
    }
   ],
   "source": [
    "# Greedy Florist\n",
    "\n",
    "n, k = 5,3\n",
    "c = [1, 3, 5, 7, 9]\n",
    "c.sort(reverse=True)\n",
    "\n",
    "if n==k:\n",
    "    print(sum(c))\n",
    "else:\n",
    "    print(sum([x*2 for x in c[:k-1]]), sum(c[k-1:])) # wrong "
   ]
  },
  {
   "cell_type": "code",
   "execution_count": 2,
   "metadata": {},
   "outputs": [
    {
     "name": "stdout",
     "output_type": "stream",
     "text": [
      "0 [9, 7, 5] 1\n",
      "3 [3, 1] 2\n"
     ]
    }
   ],
   "source": [
    "for i in range(0, len(c), k):\n",
    "    print(i, c[i:i+k], i//k+1)"
   ]
  },
  {
   "cell_type": "code",
   "execution_count": 3,
   "metadata": {},
   "outputs": [
    {
     "name": "stdout",
     "output_type": "stream",
     "text": [
      "163578911\n"
     ]
    }
   ],
   "source": [
    "# Greedy Florist\n",
    "\n",
    "n, k = 50, 3\n",
    "c = [390225,426456,688267,800389,990107,439248,240638,15991,874479,568754,729927,980985,132244,488186,5037,721765,251885,28458,23710,281490,30935,897665,768945,337228,533277,959855,927447,941485,24242,684459,312855,716170,512600,608266,779912,950103,211756,665028,642996,262173,789020,932421,390745,433434,350262,463568,668809,305781,815771,550800]\n",
    "c.sort(reverse=True)\n",
    "def getMinimumCost(k, c):\n",
    "    return sum((sum(c[i:i+k])*(i//k+1)) for i in range(0,len(c),k))\n",
    "\n",
    "print(getMinimumCost(k, c))"
   ]
  },
  {
   "cell_type": "code",
   "execution_count": 4,
   "metadata": {},
   "outputs": [
    {
     "data": {
      "text/plain": [
       "20"
      ]
     },
     "execution_count": 4,
     "metadata": {},
     "output_type": "execute_result"
    }
   ],
   "source": [
    "# Max Min\n",
    "n, k = 7,3\n",
    "arr = [10,100,300,200,1000,20,30]\n",
    "arr.sort()\n",
    "\n",
    "max(arr[:k]) - min(arr[:k])"
   ]
  },
  {
   "cell_type": "code",
   "execution_count": 5,
   "metadata": {},
   "outputs": [
    {
     "name": "stdout",
     "output_type": "stream",
     "text": [
      "[822, 1520, 1784, 2422, 2822, 3142, 3902, 4094, 4157, 4504, 5413, 5629, 5857, 6643, 7232, 7288, 7802, 8245, 9739, 9948]\n"
     ]
    },
    {
     "data": {
      "text/plain": [
       "1335"
      ]
     },
     "execution_count": 5,
     "metadata": {},
     "output_type": "execute_result"
    }
   ],
   "source": [
    "n, k = 20, 5\n",
    "arr = [4504,1520,5857,4094,4157,3902,822,6643,2422,7288,8245,9948,2822,1784,7802,3142,9739,5629, 5413,7232]\n",
    "arr.sort()\n",
    "print(arr)\n",
    "result = 1000000000\n",
    "for i in range(n-k+1):\n",
    "    result = min(result, max(arr[i:i+k]) - min(arr[i:i+k]))\n",
    "    \n",
    "\n",
    "result # time out "
   ]
  },
  {
   "cell_type": "code",
   "execution_count": 6,
   "metadata": {},
   "outputs": [
    {
     "name": "stdout",
     "output_type": "stream",
     "text": [
      "[10, 20, 30, 100, 200, 300, 1000]\n",
      "10\n",
      "20\n",
      "20\n",
      "20\n",
      "20\n"
     ]
    },
    {
     "data": {
      "text/plain": [
       "20"
      ]
     },
     "execution_count": 6,
     "metadata": {},
     "output_type": "execute_result"
    }
   ],
   "source": [
    "n, k = 7,3\n",
    "arr = [10,100,300,200,1000,20,30]\n",
    "arr.sort()\n",
    "print(arr)\n",
    "result = 1000000000\n",
    "for i in range(n-k+1):\n",
    "    print( min(result, max(arr[i:i+k]), min(arr[i:i+k])))\n",
    "    result = min(result, max(arr[i:i+k]) - min(arr[i:i+k]))\n",
    "    \n",
    "result # time out "
   ]
  },
  {
   "cell_type": "code",
   "execution_count": 7,
   "metadata": {},
   "outputs": [
    {
     "name": "stdout",
     "output_type": "stream",
     "text": [
      "0 2 30 10 20\n",
      "1 3 100 20 80\n",
      "2 4 200 30 170\n",
      "3 5 300 100 200\n",
      "4 6 1000 200 800\n"
     ]
    }
   ],
   "source": [
    "n, k = 7,3\n",
    "arr = [10,100,300,200,1000,20,30]\n",
    "arr.sort()\n",
    "for i in range(n-(k-1)): \n",
    "    print(i, i+(k-1), arr[i+(k-1)], arr[i], arr[i+(k-1)]-arr[i])\n",
    "    \n",
    "# k 간격으로 동일 배열에서 max - min 하는거니까 max idx값에서 min idx 값 뺀것과 동일     "
   ]
  }
 ],
 "metadata": {
  "kernelspec": {
   "display_name": "Python 3",
   "language": "python",
   "name": "python3"
  },
  "language_info": {
   "codemirror_mode": {
    "name": "ipython",
    "version": 3
   },
   "file_extension": ".py",
   "mimetype": "text/x-python",
   "name": "python",
   "nbconvert_exporter": "python",
   "pygments_lexer": "ipython3",
   "version": "3.7.6"
  }
 },
 "nbformat": 4,
 "nbformat_minor": 4
}
