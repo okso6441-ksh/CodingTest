{
 "cells": [
  {
   "cell_type": "code",
   "execution_count": null,
   "metadata": {},
   "outputs": [],
   "source": [
    "# Trees: Is This a Binary Search Tree?\n",
    "\n"
   ]
  },
  {
   "cell_type": "code",
   "execution_count": null,
   "metadata": {},
   "outputs": [],
   "source": [
    "# Tree: Huffman Decoding\n",
    "\n",
    "A - 0\n",
    "B - 111\n",
    "C - 1100\n",
    "D - 1101\n",
    "R - 10\n",
    "\n",
    "A B    R  A C     A D     A B    R  A\n",
    "0 111 10 0 1100 0 1101 0 111 10 0\n",
    "or\n",
    "01111001100011010111100\n",
    "\n",
    "s=\"1001011\""
   ]
  },
  {
   "cell_type": "code",
   "execution_count": null,
   "metadata": {},
   "outputs": [],
   "source": [
    "S=\"1001011\"\n",
    "Processing the string from left to right.\n",
    "S[0]='1' : we move to the right child of the root. We encounter a leaf node with value 'A'. We add 'A' to the decoded string.\n",
    "We move back to the root.\n",
    "\n",
    "S[1]='0' : we move to the left child. \n",
    "S[2]='0' : we move to the left child. We encounter a leaf node with value 'B'. We add 'B' to the decoded string.\n",
    "We move back to the root.\n",
    "\n",
    "S[3] = '1' : we move to the right child of the root. We encounter a leaf node with value 'A'. We add 'A' to the decoded string.\n",
    "We move back to the root.\n",
    "\n",
    "S[4]='0' : we move to the left child. \n",
    "S[5]='1' : we move to the right child. We encounter a leaf node with value C'. We add 'C' to the decoded string.\n",
    "We move back to the root.\n",
    "\n",
    " S[6] = '1' : we move to the right child of the root. We encounter a leaf node with value 'A'. We add 'A' to the decoded string.\n",
    "We move back to the root.\n",
    "\n",
    "Decoded String = \"ABACA\""
   ]
  }
 ],
 "metadata": {
  "kernelspec": {
   "display_name": "Python 3",
   "language": "python",
   "name": "python3"
  },
  "language_info": {
   "codemirror_mode": {
    "name": "ipython",
    "version": 3
   },
   "file_extension": ".py",
   "mimetype": "text/x-python",
   "name": "python",
   "nbconvert_exporter": "python",
   "pygments_lexer": "ipython3",
   "version": "3.7.6"
  }
 },
 "nbformat": 4,
 "nbformat_minor": 4
}
