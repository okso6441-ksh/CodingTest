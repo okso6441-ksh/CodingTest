{
 "cells": [
  {
   "cell_type": "code",
   "execution_count": 1,
   "metadata": {},
   "outputs": [],
   "source": [
    "# Sorting: Comparator\n",
    "\n",
    "from collections import defaultdict\n",
    "\n",
    "n = 5\n",
    "arr = [['amy', 100],['david', 100],['heraldo', 50],['aakansha', 75],['aleksa', 150]]\n",
    "\n",
    "arr.sort(key=lambda x:(-x[1], x[0]))\n",
    "arr"
   ]
  },
  {
   "cell_type": "code",
   "execution_count": 2,
   "metadata": {},
   "outputs": [],
   "source": [
    "from functools import cmp_to_key\n",
    "class Player:\n",
    "    def __init__(self, name, score):\n",
    "        self.name = name\n",
    "        self.score = score\n",
    "        \n",
    "    def __repr__(self):\n",
    "        self.name = \"\"\n",
    "        self.score = 0\n",
    "        \n",
    "    def comparator(a, b):\n",
    "        if a.score == b.score:\n",
    "            if a.name > b.name:\n",
    "                return 1\n",
    "            else:\n",
    "                return -1\n",
    "        elif a.score > b.score:\n",
    "            return -1\n",
    "        else:\n",
    "            return 1\n",
    "\n",
    "data = []\n",
    "name = ['amy','david','heraldo','aakansha','aleksa'] \n",
    "score = [100, 100, 50, 75, 150]\n",
    "player = Player(name, score)\n",
    "data.append(player)\n",
    "    \n",
    "data = sorted(data, key=cmp_to_key(Player.comparator))\n",
    "for i in data:\n",
    "    print(i.name, i.score)"
   ]
  },
  {
   "cell_type": "code",
   "execution_count": 3,
   "metadata": {},
   "outputs": [],
   "source": [
    "4%2, 3//2"
   ]
  },
  {
   "cell_type": "code",
   "execution_count": 4,
   "metadata": {},
   "outputs": [],
   "source": [
    "# Fraudulent Activity Notifications\n",
    "\n",
    "d = 4\n",
    "expenditure = [1, 2, 3, 4, 4]\n",
    "cnt = 0\n",
    "\n",
    "for i in range(d-1, len(expenditure)-1):\n",
    "    v = sorted(expenditure[i-d+1:i+1])\n",
    "    if d%2==1:\n",
    "        if expenditure[i+1] >= v[d//2]*2:\n",
    "            cnt += 1\n",
    "    else:\n",
    "        if expenditure[i+1] >= sum(v[d-i: d-i+2]):\n",
    "            cnt += 1                \n",
    "\n",
    "cnt # time out "
   ]
  },
  {
   "cell_type": "code",
   "execution_count": 5,
   "metadata": {},
   "outputs": [
    {
     "data": {
      "text/plain": [
       "0"
      ]
     },
     "execution_count": 5,
     "metadata": {},
     "output_type": "execute_result"
    }
   ],
   "source": [
    "# Fraudulent Activity Notifications\n",
    "import numpy as np\n",
    "d = 4\n",
    "expenditure = [1, 2, 3, 4, 4]\n",
    "cnt = 0\n",
    "\n",
    "for i in range(d-1, len(expenditure)-1):\n",
    "    if expenditure[i+1] >= np.median(sorted(expenditure[i-d+1:i+1]))*2:\n",
    "        cnt += 1\n",
    "cnt # numpy 설치 안됨"
   ]
  },
  {
   "cell_type": "code",
   "execution_count": 6,
   "metadata": {},
   "outputs": [
    {
     "name": "stdout",
     "output_type": "stream",
     "text": [
      "[1, 2, 3] 1 2\n",
      "4 2\n",
      "[2, 3, 4] 1 3\n"
     ]
    },
    {
     "data": {
      "text/plain": [
       "1"
      ]
     },
     "execution_count": 6,
     "metadata": {},
     "output_type": "execute_result"
    }
   ],
   "source": [
    "# Fraudulent Activity Notifications\n",
    "\n",
    "d = 3\n",
    "expenditure = [1, 2, 3, 4, 5]\n",
    "cnt = 0\n",
    "\n",
    "for i in range(d-1, len(expenditure)-1):\n",
    "    v = sorted(expenditure[i-d+1:i+1])\n",
    "    if d%2==1:\n",
    "        print(v, d//2, v[d//2])\n",
    "        if expenditure[i+1] >= v[d//2]*2:\n",
    "            print(expenditure[i+1], v[d//2])\n",
    "            cnt += 1\n",
    "    else:\n",
    "        if expenditure[i+1] >= sum(v[d-i: d-i+2]):\n",
    "            cnt += 1     \n",
    "cnt # time out "
   ]
  },
  {
   "cell_type": "code",
   "execution_count": null,
   "metadata": {},
   "outputs": [],
   "source": []
  }
 ],
 "metadata": {
  "kernelspec": {
   "display_name": "Python 3",
   "language": "python",
   "name": "python3"
  },
  "language_info": {
   "codemirror_mode": {
    "name": "ipython",
    "version": 3
   },
   "file_extension": ".py",
   "mimetype": "text/x-python",
   "name": "python",
   "nbconvert_exporter": "python",
   "pygments_lexer": "ipython3",
   "version": "3.7.6"
  }
 },
 "nbformat": 4,
 "nbformat_minor": 4
}
