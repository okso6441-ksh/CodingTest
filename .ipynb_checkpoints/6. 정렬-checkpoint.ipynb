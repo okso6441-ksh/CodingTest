{
 "cells": [
  {
   "cell_type": "code",
   "execution_count": 1,
   "metadata": {},
   "outputs": [
    {
     "name": "stdout",
     "output_type": "stream",
     "text": [
      "[0, 1, 2, 3, 4, 5, 6, 7, 8, 9]\n"
     ]
    }
   ],
   "source": [
    "# 159 선택정렬\n",
    "\n",
    "array = [7,5,9,0,3,1,6,2,4,8]\n",
    "\n",
    "for i in range(len(array)):\n",
    "    min_index = i\n",
    "    \n",
    "    for j in range(i+1, len(array)):\n",
    "        if array[min_index] > array[j]:\n",
    "            min_index = j\n",
    "    array[i], array[min_index] = array[min_index], array[i]\n",
    "\n",
    "print(array)"
   ]
  },
  {
   "cell_type": "code",
   "execution_count": 2,
   "metadata": {},
   "outputs": [
    {
     "name": "stdout",
     "output_type": "stream",
     "text": [
      "[0, 1, 2, 3, 4, 5, 6, 7, 8, 9]\n"
     ]
    }
   ],
   "source": [
    "# 164 삽입정렬\n",
    "array = [7,5,9,0,3,1,6,2,4,8]\n",
    "\n",
    "for i in range(1, len(array)):\n",
    "    for j in range(i, 0, -1):\n",
    "        if array[j] < array[j-1]:\n",
    "            array[j], array[j-1] = array[j-1], array[j]\n",
    "        else:\n",
    "            break\n",
    "print(array)            "
   ]
  },
  {
   "cell_type": "code",
   "execution_count": 3,
   "metadata": {},
   "outputs": [
    {
     "name": "stdout",
     "output_type": "stream",
     "text": [
      "0 1 9\n",
      "5 7 8\n",
      "[5, 7, 9, 0, 3, 1, 6, 2, 4, 8]\n",
      "0 1 4\n",
      "1 4 3\n",
      "[1, 4, 2, 0, 3, 5, 6, 9, 7, 8]\n",
      "2 3 4\n",
      "2 4 3\n",
      "[0, 1, 2, 4, 3, 5, 6, 9, 7, 8]\n",
      "3 4 4\n",
      "4 3 3\n",
      "[0, 1, 2, 4, 3, 5, 6, 9, 7, 8]\n",
      "6 7 9\n",
      "6 9 8\n",
      "[0, 1, 2, 3, 4, 5, 6, 9, 7, 8]\n",
      "7 8 9\n",
      "9 7 8\n",
      "[0, 1, 2, 3, 4, 5, 6, 9, 7, 8]\n",
      "7 8 8\n",
      "8 7 7\n",
      "[0, 1, 2, 3, 4, 5, 6, 8, 7, 9]\n",
      "[0, 1, 2, 3, 4, 5, 6, 7, 8, 9]\n"
     ]
    }
   ],
   "source": [
    "# 168 퀵정렬1\n",
    "array = [5,7,9,0,3,1,6,2,4,8]\n",
    "\n",
    "def quick_sort(array, start, end):\n",
    "    if start >= end: # 원소 1개\n",
    "        return\n",
    "    pivot = start\n",
    "    left = start+1\n",
    "    right = end\n",
    "    \n",
    "    print(pivot, left, right)\n",
    "    print(array[pivot], array[left], array[right])\n",
    "    print(array)\n",
    "    \n",
    "    while left <= right:\n",
    "        while left <= end and array[left] < array[pivot]:\n",
    "            left += 1\n",
    "        while right > start and array[right] >= array[pivot]:\n",
    "            right -= 1\n",
    "        \n",
    "        if left > right:\n",
    "            array[right], array[pivot] = array[pivot], array[right]\n",
    "        else:\n",
    "            array[left], array[right] = array[right], array[left]\n",
    "    quick_sort(array, start, right-1)\n",
    "    quick_sort(array, right+1, end)\n",
    "    \n",
    "quick_sort(array, 0, len(array)-1)\n",
    "print(array)"
   ]
  },
  {
   "cell_type": "code",
   "execution_count": 4,
   "metadata": {},
   "outputs": [
    {
     "name": "stdout",
     "output_type": "stream",
     "text": [
      "[0, 1, 2, 3, 4, 5, 6, 7, 8, 9]\n"
     ]
    }
   ],
   "source": [
    "# 169 퀵정렬2\n",
    "array = [5,7,9,0,3,1,6,2,4,8]\n",
    "\n",
    "def quick_sort(array):\n",
    "    if len(array) <= 1:\n",
    "        return array\n",
    "    \n",
    "    pivot = array[0]\n",
    "    tail = array[1:]\n",
    "    \n",
    "    left_side = [x for x in tail if x <= pivot]\n",
    "    right_side = [x for x in tail if x > pivot]\n",
    "    \n",
    "    return quick_sort(left_side) + [pivot] + quick_sort(right_side)\n",
    "print(quick_sort(array))"
   ]
  },
  {
   "cell_type": "code",
   "execution_count": 5,
   "metadata": {},
   "outputs": [
    {
     "name": "stdout",
     "output_type": "stream",
     "text": [
      "[0, 0, 0, 0, 0, 0, 0, 0, 0, 0]\n",
      "[2, 2, 2, 1, 1, 2, 1, 1, 1, 2]\n",
      "0 0 1 1 2 2 3 4 5 5 6 7 8 9 9 "
     ]
    }
   ],
   "source": [
    "# 174 계수정렬\n",
    "array = [7,5,9,0,3,1,6,2,9,1,4,8,0,5,2]\n",
    "\n",
    "count = [0] * (max(array)+1)\n",
    "print(count)\n",
    "\n",
    "for i in range(len(array)):\n",
    "    count[array[i]] += 1\n",
    "print(count)    \n",
    "\n",
    "for i in range(len(count)):\n",
    "    for j in range(count[i]):\n",
    "        print(i, end=' ')"
   ]
  },
  {
   "cell_type": "markdown",
   "metadata": {},
   "source": [
    "!['정렬표.png'](image\\정렬표.png)"
   ]
  },
  {
   "cell_type": "code",
   "execution_count": 6,
   "metadata": {},
   "outputs": [
    {
     "name": "stdout",
     "output_type": "stream",
     "text": [
      "[7, 5, 9, 0, 3, 1, 6, 2, 4, 8]\n",
      "[0, 1, 2, 3, 4, 5, 6, 7, 8, 9]\n"
     ]
    }
   ],
   "source": [
    "# 176\n",
    "\n",
    "array = [7,5,9,0,3,1,6,2,4,8]\n",
    "\n",
    "result = sorted(array)\n",
    "\n",
    "print(array)\n",
    "print(result)"
   ]
  },
  {
   "cell_type": "code",
   "execution_count": 7,
   "metadata": {},
   "outputs": [
    {
     "name": "stdout",
     "output_type": "stream",
     "text": [
      "[0, 1, 2, 3, 4, 5, 6, 7, 8, 9]\n",
      "None\n"
     ]
    }
   ],
   "source": [
    "# 176\n",
    "\n",
    "array = [7,5,9,0,3,1,6,2,4,8]\n",
    "\n",
    "result = array.sort()\n",
    "\n",
    "print(array)\n",
    "print(result)"
   ]
  },
  {
   "cell_type": "code",
   "execution_count": 8,
   "metadata": {},
   "outputs": [
    {
     "name": "stdout",
     "output_type": "stream",
     "text": [
      "[('바나나', 2), ('당근', 3), ('사과', 5)]\n"
     ]
    }
   ],
   "source": [
    "array = [('바나나',2),('사과',5),('당근',3)]\n",
    "\n",
    "def setting(data):\n",
    "    return data[1]\n",
    "\n",
    "result = sorted(array, key=setting)\n",
    "print(result)"
   ]
  },
  {
   "cell_type": "code",
   "execution_count": 9,
   "metadata": {},
   "outputs": [
    {
     "name": "stdout",
     "output_type": "stream",
     "text": [
      "선택정렬 5.452223300933838\n",
      "라이브러리 정렬 0.001972675323486328\n"
     ]
    }
   ],
   "source": [
    "# 선택정렬과 기본정렬 수행시간 비교\n",
    "from random import randint\n",
    "import time\n",
    "\n",
    "array = []\n",
    "for _ in range(10000):\n",
    "    array.append(randint(1,100))\n",
    "    \n",
    "start_time = time.time()    \n",
    "\n",
    "for i in range(len(array)):\n",
    "    min_index = i\n",
    "    for j in range(i+1, len(array)):\n",
    "        if array[min_index] > array[j]:\n",
    "            min_index = j\n",
    "    array[i], array[min_index] = array[min_index], array[i]\n",
    "\n",
    "end_time = time.time()\n",
    "print('선택정렬', end_time - start_time)\n",
    "\n",
    "array = []\n",
    "for _ in range(10000):\n",
    "    array.append(randint(1,100))\n",
    "    \n",
    "start_time = time.time()    \n",
    "\n",
    "array.sort()\n",
    "\n",
    "end_time = time.time()\n",
    "print('라이브러리 정렬', end_time - start_time)"
   ]
  },
  {
   "cell_type": "code",
   "execution_count": 10,
   "metadata": {},
   "outputs": [
    {
     "name": "stdout",
     "output_type": "stream",
     "text": [
      "27 15 12 27 15 12\n"
     ]
    }
   ],
   "source": [
    "# 178 위에서 아래로\n",
    "array = [15,27,12]\n",
    "\n",
    "array.sort(reverse=True)\n",
    "\n",
    "for i in array:\n",
    "    print(i, end=' ')\n",
    "\n",
    "print(' '.join(map(str, array)))"
   ]
  },
  {
   "cell_type": "code",
   "execution_count": 11,
   "metadata": {},
   "outputs": [
    {
     "name": "stdout",
     "output_type": "stream",
     "text": [
      "이순신 홍길동 "
     ]
    }
   ],
   "source": [
    "# 180 성적\n",
    "array = [('홍길동',95),('이순신',77)]\n",
    "\n",
    "array = sorted(array, key=lambda stu: stu[1])\n",
    "\n",
    "for stu in array:\n",
    "    print(stu[0], end=' ')"
   ]
  },
  {
   "cell_type": "code",
   "execution_count": 12,
   "metadata": {},
   "outputs": [
    {
     "name": "stdout",
     "output_type": "stream",
     "text": [
      "[1, 2, 3, 4, 5]\n",
      "[6, 6, 5, 5, 5]\n",
      "[6, 6, 5, 4, 5]\n",
      "[1, 2, 3, 5, 5]\n",
      "26\n"
     ]
    }
   ],
   "source": [
    "# 183 교체\n",
    "n, k = 5, 3\n",
    "array1 = [1,2,5,4,3]\n",
    "array2 = [5,5,6,6,5]\n",
    "\n",
    "array1.sort()\n",
    "print(array1)\n",
    "array2.sort(reverse=True)\n",
    "print(array2)\n",
    "\n",
    "for i in range(k):\n",
    "    if array1[i] < array2[i]:\n",
    "        array1[i], array2[i] = array2[i], array1[i]\n",
    "    else:\n",
    "        break\n",
    "    \n",
    "print(array1)\n",
    "print(array2)\n",
    "\n",
    "print(sum(array1))"
   ]
  }
 ],
 "metadata": {
  "kernelspec": {
   "display_name": "Python 3",
   "language": "python",
   "name": "python3"
  },
  "language_info": {
   "codemirror_mode": {
    "name": "ipython",
    "version": 3
   },
   "file_extension": ".py",
   "mimetype": "text/x-python",
   "name": "python",
   "nbconvert_exporter": "python",
   "pygments_lexer": "ipython3",
   "version": "3.7.6"
  }
 },
 "nbformat": 4,
 "nbformat_minor": 4
}
