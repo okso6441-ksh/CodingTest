{
 "cells": [
  {
   "cell_type": "code",
   "execution_count": 1,
   "metadata": {},
   "outputs": [],
   "source": [
    "# 273 서로소 집합\n",
    "\n",
    "def find_parent(parent, x):\n",
    "    if parent[x] != x:\n",
    "        return find_parent(parent, parent[x])\n",
    "    return x"
   ]
  },
  {
   "cell_type": "code",
   "execution_count": 2,
   "metadata": {},
   "outputs": [],
   "source": [
    "# 275 경로압축 \n",
    "# 시간복잡도 개선\n",
    "\n",
    "def find_parent(parent, x):\n",
    "    if parent[x] != x:\n",
    "        parent[x] = find_parent(parent, parent[x]) # 바로 부모값 갱신 \n",
    "    return parent[x]  "
   ]
  },
  {
   "cell_type": "code",
   "execution_count": 3,
   "metadata": {},
   "outputs": [
    {
     "name": "stdout",
     "output_type": "stream",
     "text": [
      "[0, 1, 2, 3, 4, 5, 6]\n",
      "각 원소 속한 집합:  1 1 1 1 5 5 \n",
      "부모 테이블:  1 1 1 1 5 5 "
     ]
    }
   ],
   "source": [
    "# 273 서로소 집합\n",
    "\n",
    "def union_parent(parent, a, b):\n",
    "    a = find_parent(parent, a)\n",
    "    b = find_parent(parent, b)\n",
    "    if a < b:\n",
    "        parent[b] = a\n",
    "    else:\n",
    "        parent[a] = b\n",
    "    \n",
    "v, e = 6,4\n",
    "parent = [0]*(v+1) \n",
    "for i in range(1, v+1):\n",
    "    parent[i] = i\n",
    "    \n",
    "print(parent)    \n",
    "a = [1,2,2,5]\n",
    "b = [4,3,4,6]\n",
    "for i in range(e):\n",
    "    union_parent(parent, a[i], b[i])\n",
    "    \n",
    "print('각 원소 속한 집합: ', end=' ')    \n",
    "for i in range(1, v+1):\n",
    "    print(find_parent(parent, i), end=' ')\n",
    "    \n",
    "print()\n",
    "\n",
    "print('부모 테이블: ', end=' ')\n",
    "for i in range(1, v+1):\n",
    "    print(parent[i], end=' ')"
   ]
  },
  {
   "cell_type": "code",
   "execution_count": 4,
   "metadata": {},
   "outputs": [
    {
     "name": "stdout",
     "output_type": "stream",
     "text": [
      "[0, 1, 2, 3]\n",
      "[0, 1, 2, 3]\n",
      "[0, 1, 1, 3]\n",
      "[0, 1, 1, 1]\n",
      "cycel ㅇ\n"
     ]
    }
   ],
   "source": [
    "# 279 사이클 판별 \n",
    "\n",
    "v, e = 3,3\n",
    "parent = [0]*(v+1) \n",
    "for i in range(1, v+1):\n",
    "    parent[i] = i\n",
    "    \n",
    "cycle = False     \n",
    "    \n",
    "print(parent)  \n",
    "\n",
    "a = [1,1,2]\n",
    "b = [2,3,3]\n",
    "for i in range(e):\n",
    "    print(parent)  \n",
    "    if find_parent(parent, a[i]) == find_parent(parent, b[i]):\n",
    "        cycle = True\n",
    "        break\n",
    "    else:\n",
    "        union_parent(parent, a[i], b[i])\n",
    "    \n",
    "if cycle:\n",
    "    print('cycel ㅇ')\n",
    "else:\n",
    "    print('cycel x')"
   ]
  },
  {
   "cell_type": "code",
   "execution_count": 5,
   "metadata": {},
   "outputs": [
    {
     "name": "stdout",
     "output_type": "stream",
     "text": [
      "[0, 1, 2, 3, 4, 5, 6, 7]\n",
      "[]\n",
      "[(29, 1, 2)]\n",
      "[(29, 1, 2), (75, 1, 5)]\n",
      "[(29, 1, 2), (75, 1, 5), (35, 2, 3)]\n",
      "[(29, 1, 2), (75, 1, 5), (35, 2, 3), (34, 2, 6)]\n",
      "[(29, 1, 2), (75, 1, 5), (35, 2, 3), (34, 2, 6), (7, 3, 4)]\n",
      "[(29, 1, 2), (75, 1, 5), (35, 2, 3), (34, 2, 6), (7, 3, 4), (23, 4, 6)]\n",
      "[(29, 1, 2), (75, 1, 5), (35, 2, 3), (34, 2, 6), (7, 3, 4), (23, 4, 6), (13, 4, 7)]\n",
      "[(29, 1, 2), (75, 1, 5), (35, 2, 3), (34, 2, 6), (7, 3, 4), (23, 4, 6), (13, 4, 7), (53, 5, 6)]\n",
      "159\n"
     ]
    }
   ],
   "source": [
    "# 288 크루스칼 \n",
    "\n",
    "v, e = 7,9\n",
    "parent = [0]*(v+1) \n",
    "for i in range(1, v+1):\n",
    "    parent[i] = i\n",
    "    \n",
    "edges = []\n",
    "result = 0\n",
    "    \n",
    "print(parent)  \n",
    "\n",
    "a = [1,1,2,2,3,4,4,5,6]\n",
    "b = [2,5,3,6,4,6,7,6,7]\n",
    "cost = [29,75,35,34,7,23,13,53,25]\n",
    "for i in range(e):\n",
    "    print(edges)  \n",
    "    edges.append((cost[i], a[i], b[i]))\n",
    "    \n",
    "edges.sort()\n",
    "\n",
    "for edge in edges:\n",
    "    cost, a, b = edge\n",
    "    if find_parent(parent, a) != find_parent(parent, b) :\n",
    "        union_parent(parent, a, b)\n",
    "        result += cost\n",
    "        \n",
    "print(result)        "
   ]
  },
  {
   "cell_type": "code",
   "execution_count": 6,
   "metadata": {},
   "outputs": [
    {
     "name": "stdout",
     "output_type": "stream",
     "text": [
      "1 2 5 3 6 4 7 "
     ]
    }
   ],
   "source": [
    "# 296 위상정렬 \n",
    "from collections import deque\n",
    "\n",
    "v, e = 7,8\n",
    "indegree = [0] * (v+1)\n",
    "graph = [[] for i in range(v+1)]\n",
    "\n",
    "a = [1,1,2,2,3,4,5,6]\n",
    "b = [2,5,3,6,4,7,6,4]\n",
    "for i in range(e):\n",
    "    graph[a[i]].append(b[i])\n",
    "    indegree[b[i]] += 1\n",
    "    \n",
    "def topology_sort():\n",
    "    result = []\n",
    "    q = deque()\n",
    "    \n",
    "    for i in range(1, v+1):\n",
    "        if indegree[i] == 0:\n",
    "            q.append(i)\n",
    "            \n",
    "    while q:\n",
    "        now = q.popleft()\n",
    "        result.append(now)\n",
    "        \n",
    "        for i in graph[now]:\n",
    "            indegree[i] -= 1\n",
    "            if indegree[i] == 0:\n",
    "                q.append(i)\n",
    "                \n",
    "    for i in result:\n",
    "        print(i, end=' ')\n",
    "        \n",
    "topology_sort()        "
   ]
  },
  {
   "cell_type": "code",
   "execution_count": 7,
   "metadata": {},
   "outputs": [
    {
     "name": "stdout",
     "output_type": "stream",
     "text": [
      "[0, 1, 2, 3, 4, 5, 6, 7]\n",
      "NO\n",
      "NO\n",
      "YES\n"
     ]
    }
   ],
   "source": [
    "# 298 팀 결정\n",
    "n, m = 7,8\n",
    "oper = [0,1,0,1,0,0,0,1]\n",
    "a = [1,1,7,7,3,4,1,1]\n",
    "b = [3,7,6,1,7,2,1,1]\n",
    "\n",
    "parent = [0] *(n+1)\n",
    "\n",
    "for i in range(0, n+1):\n",
    "    parent[i] = i\n",
    "print(parent)    \n",
    "\n",
    "for i in range(m):\n",
    "    if oper[i] == 0:\n",
    "        union_parent(parent, a[i], b[i])\n",
    "    else:\n",
    "        if find_parent(parent, a[i]) == find_parent(parent, b[i]):\n",
    "            print('YES')\n",
    "        else:\n",
    "            print('NO')"
   ]
  },
  {
   "cell_type": "code",
   "execution_count": 8,
   "metadata": {},
   "outputs": [
    {
     "name": "stdout",
     "output_type": "stream",
     "text": [
      "[0, 1, 2, 3, 4, 5, 6, 7]\n",
      "[]\n",
      "[(3, 1, 2)]\n",
      "[(3, 1, 2), (2, 1, 3)]\n",
      "[(3, 1, 2), (2, 1, 3), (1, 3, 2)]\n",
      "[(3, 1, 2), (2, 1, 3), (1, 3, 2), (2, 2, 5)]\n",
      "[(3, 1, 2), (2, 1, 3), (1, 3, 2), (2, 2, 5), (4, 3, 4)]\n",
      "[(3, 1, 2), (2, 1, 3), (1, 3, 2), (2, 2, 5), (4, 3, 4), (6, 7, 3)]\n",
      "[(3, 1, 2), (2, 1, 3), (1, 3, 2), (2, 2, 5), (4, 3, 4), (6, 7, 3), (5, 5, 1)]\n",
      "[(3, 1, 2), (2, 1, 3), (1, 3, 2), (2, 2, 5), (4, 3, 4), (6, 7, 3), (5, 5, 1), (2, 1, 6)]\n",
      "[(3, 1, 2), (2, 1, 3), (1, 3, 2), (2, 2, 5), (4, 3, 4), (6, 7, 3), (5, 5, 1), (2, 1, 6), (1, 6, 4)]\n",
      "[(3, 1, 2), (2, 1, 3), (1, 3, 2), (2, 2, 5), (4, 3, 4), (6, 7, 3), (5, 5, 1), (2, 1, 6), (1, 6, 4), (3, 6, 5)]\n",
      "[(3, 1, 2), (2, 1, 3), (1, 3, 2), (2, 2, 5), (4, 3, 4), (6, 7, 3), (5, 5, 1), (2, 1, 6), (1, 6, 4), (3, 6, 5), (3, 4, 5)]\n",
      "8\n"
     ]
    }
   ],
   "source": [
    "# 300 도시 분할 계획\n",
    "\n",
    "from collections import deque\n",
    "\n",
    "v, e = 7,12\n",
    "parent = [0] *(v+1)\n",
    "\n",
    "for i in range(0, n+1):\n",
    "    parent[i] = i\n",
    "print(parent)    \n",
    "\n",
    "edges = []\n",
    "result = 0\n",
    "\n",
    "a = [1,1,3,2,3,7,5,1,6,6,4,6]\n",
    "b = [2,3,2,5,4,3,1,6,4,5,5,7]\n",
    "cost = [3,2,1,2,4,6,5,2,1,3,3,4]\n",
    "\n",
    "for i in range(e):\n",
    "    print(edges)  \n",
    "    edges.append((cost[i], a[i], b[i]))\n",
    "    \n",
    "edges.sort()\n",
    "\n",
    "last = 0\n",
    "\n",
    "for edge in edges:\n",
    "    cost, a, b = edge\n",
    "    if find_parent(parent, a) != find_parent(parent, b) :\n",
    "        union_parent(parent, a, b)\n",
    "        result += cost\n",
    "        last = cost\n",
    "        \n",
    "print(result - last)        "
   ]
  },
  {
   "cell_type": "code",
   "execution_count": 9,
   "metadata": {},
   "outputs": [
    {
     "name": "stdout",
     "output_type": "stream",
     "text": [
      "10 -1\n",
      "data [10, -1]\n",
      "time [0, 10, 0, 0, 0, 0]\n",
      "graph [[], [], [], [], [], []]\n",
      "10 1 -1\n",
      "data [10, 1, -1]\n",
      "time [0, 10, 10, 0, 0, 0]\n",
      "graph [[], [], [], [], [], []]\n",
      "4 1 -1\n",
      "data [4, 1, -1]\n",
      "time [0, 10, 10, 4, 0, 0]\n",
      "graph [[], [2], [], [], [], []]\n",
      "4 3 1 -1\n",
      "data [4, 3, 1, -1]\n",
      "time [0, 10, 10, 4, 4, 0]\n",
      "graph [[], [2, 3], [], [], [], []]\n",
      "3 3 -1\n",
      "data [3, 3, -1]\n",
      "time [0, 10, 10, 4, 4, 3]\n",
      "graph [[], [2, 3, 4], [], [4], [], []]\n",
      "10\n",
      "10\n",
      "4\n",
      "4\n",
      "3\n"
     ]
    }
   ],
   "source": [
    "# 303 커리큘럼 \n",
    "import copy\n",
    "\n",
    "v = 5\n",
    "\n",
    "indegree = [0] * (v+1)\n",
    "graph = [[] for i in range(v+1)]\n",
    "\n",
    "time = [0] *(v+1)\n",
    "\n",
    "for i in range(1,v+1):\n",
    "    data = list(map(int, input().split()))\n",
    "    time[i] = data[0]\n",
    "    print('data',data)\n",
    "    print('time',time)\n",
    "    print('graph',graph)\n",
    "    for x in data[1:-1]:\n",
    "        indegree[i] += -1\n",
    "        graph[x].append(i)\n",
    "    \n",
    "def topology_sort():\n",
    "    result = copy.deepcopy(time)\n",
    "    q = deque()\n",
    "    \n",
    "    for i in range(1, v+1):\n",
    "        if indegree[i] == 0:\n",
    "            q.append(i)\n",
    "            \n",
    "    while q:\n",
    "        now = q.popleft()\n",
    "        \n",
    "        for i in graph[now]:\n",
    "            indegree[i] -= 1\n",
    "            if indegree[i] == 0:\n",
    "                q.append(i)\n",
    "                \n",
    "    for i in range(1, v+1):\n",
    "        print(result[i])\n",
    "        \n",
    "topology_sort()     "
   ]
  }
 ],
 "metadata": {
  "kernelspec": {
   "display_name": "Python 3",
   "language": "python",
   "name": "python3"
  },
  "language_info": {
   "codemirror_mode": {
    "name": "ipython",
    "version": 3
   },
   "file_extension": ".py",
   "mimetype": "text/x-python",
   "name": "python",
   "nbconvert_exporter": "python",
   "pygments_lexer": "ipython3",
   "version": "3.7.6"
  }
 },
 "nbformat": 4,
 "nbformat_minor": 4
}
