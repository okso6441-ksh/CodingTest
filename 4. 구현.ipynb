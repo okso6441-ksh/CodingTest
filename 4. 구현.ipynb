{
 "cells": [
  {
   "cell_type": "code",
   "execution_count": 1,
   "metadata": {},
   "outputs": [],
   "source": [
    "# 111 상하좌우\n",
    "n = 5\n",
    "plans = 'RRRUDD'\n",
    "x, y = 1, 1\n",
    "\n",
    "dx = [0, 0, -1, 1]\n",
    "dy = [-1, 1, 0, 0]\n",
    "move_types = ['L', 'R', 'U', 'D']\n",
    "\n",
    "for plan in plans:\n",
    "    for i in range(len(move_types)):\n",
    "        if plan == move_types[i]:\n",
    "            nx = x + dx[i]\n",
    "            ny = y + dy[i]\n",
    "    if nx < 1 or ny < 1 or nx > n or ny > n:\n",
    "        continue\n",
    "    x, y = nx, ny        \n",
    "print(x, y)            "
   ]
  },
  {
   "cell_type": "code",
   "execution_count": 2,
   "metadata": {
    "scrolled": true
   },
   "outputs": [
    {
     "name": "stdout",
     "output_type": "stream",
     "text": [
      "11475\n"
     ]
    }
   ],
   "source": [
    "# 113 시각\n",
    "n = 5\n",
    "count = 0\n",
    "for h in range(n+1):\n",
    "    for m in range(60):\n",
    "        for s in range(60):\n",
    "            #if '3' in str(h)+str(m)+str(s):\n",
    "            if((str(h)+str(m)+str(s)).find('3') >= 0):\n",
    "                count += 1\n",
    "\n",
    "\n",
    "print(count)                "
   ]
  },
  {
   "cell_type": "code",
   "execution_count": 3,
   "metadata": {},
   "outputs": [
    {
     "name": "stdout",
     "output_type": "stream",
     "text": [
      "2\n"
     ]
    }
   ],
   "source": [
    "# 115 왕실 나이트\n",
    "x, y = 1,1\n",
    "steps = [(-2,-1), (-1,-2), (1,-2), (2,-1), (2,1), (1,2), (-1,2), (-2,1)]\n",
    "count = 0\n",
    "for step in steps:\n",
    "    new_x = x + step[0]\n",
    "    new_y = y + step[1]\n",
    "    if (new_x > 0) & (new_y > 0) & (new_x < 8) & (new_y < 8):\n",
    "        count += 1\n",
    "    \n",
    "print(count)"
   ]
  },
  {
   "cell_type": "code",
   "execution_count": 4,
   "metadata": {},
   "outputs": [
    {
     "name": "stdout",
     "output_type": "stream",
     "text": [
      "ABCKK7\n"
     ]
    }
   ],
   "source": [
    "# 문자열 재정렬 \n",
    "# 문자 숫자 혼합해서 들어올때 문자는 오름차순으로 뒤에 숫자의 합을 붙여서 출력\n",
    "data = 'K1KA5CB7'\n",
    "alpha = []\n",
    "num = 0\n",
    "for c in data:\n",
    "    if c.isalpha():\n",
    "        alpha.append(c)\n",
    "    else:\n",
    "        num += int(c)\n",
    "alpha.sort()\n",
    "\n",
    "print(''.join(alpha)+str(c))"
   ]
  },
  {
   "cell_type": "code",
   "execution_count": 5,
   "metadata": {},
   "outputs": [
    {
     "name": "stdout",
     "output_type": "stream",
     "text": [
      "[[0, 0, 0, 0], [0, 1, 0, 0], [0, 0, 0, 0], [0, 0, 0, 0]]\n",
      "[[1, 1, 1, 1], [1, 0, 0, 1], [1, 1, 0, 1], [1, 1, 1, 1]]\n",
      "3\n"
     ]
    }
   ],
   "source": [
    "# 119 게임문제\n",
    "n, m = 4, 4 # N*M 매트릭스\n",
    "d = [[0]*m for _ in range(n)]\n",
    "x, y, direction = 1, 1, 0 # 현재 위치 방향\n",
    "d[x][y] = 1 # 현재 위치 방문처리\n",
    "print(d)\n",
    "\n",
    "# 맵 정보\n",
    "array = [[1,1,1,1],[1,0,0,1],[1,1,0,1],[1,1,1,1]]\n",
    "print(array)\n",
    "\n",
    "# 동서남북\n",
    "dx = [-1,0,1,0]\n",
    "dy = [0,1,0,-1]\n",
    "\n",
    "# 왼쪽 회전 \n",
    "def turn_left():\n",
    "    global direction\n",
    "    direction -= 1\n",
    "    if direction == -1:\n",
    "        direction = 3\n",
    "        \n",
    "count = 1\n",
    "turn_time = 0\n",
    "\n",
    "while True:\n",
    "    turn_left()\n",
    "    nx = x + dx[direction]\n",
    "    ny = y + dy[direction]\n",
    "    \n",
    "    if d[nx][ny] == 0 and array[nx][ny] == 0:\n",
    "        d[nx][ny] = 1\n",
    "        x = nx\n",
    "        y = ny\n",
    "        count += 1\n",
    "        turn_time = 0\n",
    "        continue\n",
    "    else:\n",
    "        turn_time += 1\n",
    "        \n",
    "    if turn_time == 4: # 4방향 모두 X\n",
    "        nx = x - dx[direction]\n",
    "        ny = y - dy[direction]\n",
    "        \n",
    "        if array[nx][ny] == 0: # 뒤로 이동 \n",
    "            x = nx\n",
    "            y = ny\n",
    "        else: # 이동 불가\n",
    "            break\n",
    "        turn_time = 0\n",
    "        \n",
    "print(count)        "
   ]
  }
 ],
 "metadata": {
  "kernelspec": {
   "display_name": "Python 3",
   "language": "python",
   "name": "python3"
  },
  "language_info": {
   "codemirror_mode": {
    "name": "ipython",
    "version": 3
   },
   "file_extension": ".py",
   "mimetype": "text/x-python",
   "name": "python",
   "nbconvert_exporter": "python",
   "pygments_lexer": "ipython3",
   "version": "3.7.6"
  }
 },
 "nbformat": 4,
 "nbformat_minor": 4
}
