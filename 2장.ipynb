{
 "cells": [
  {
   "cell_type": "markdown",
   "metadata": {},
   "source": [
    "그리디"
   ]
  },
  {
   "cell_type": "code",
   "execution_count": 5,
   "metadata": {},
   "outputs": [
    {
     "name": "stdout",
     "output_type": "stream",
     "text": [
      "6\n"
     ]
    }
   ],
   "source": [
    "# 90 거스름돈 \n",
    "n = 1260\n",
    "coin_types = [500, 100, 50, 10]\n",
    "count = 0\n",
    "for coin in coin_types:\n",
    "    count += n // coin\n",
    "    n%=coin\n",
    "    \n",
    "print(count)    "
   ]
  },
  {
   "cell_type": "markdown",
   "metadata": {},
   "source": [
    "# 복습 겸 92 96 페이지 문제 풀고 구현으로 들어가기"
   ]
  },
  {
   "cell_type": "code",
   "execution_count": null,
   "metadata": {},
   "outputs": [],
   "source": [
    "# 92 큰 수의 법칙"
   ]
  },
  {
   "cell_type": "code",
   "execution_count": null,
   "metadata": {},
   "outputs": [],
   "source": [
    "# 96 숫자 카드 게임 "
   ]
  },
  {
   "cell_type": "code",
   "execution_count": 45,
   "metadata": {},
   "outputs": [
    {
     "name": "stdout",
     "output_type": "stream",
     "text": [
      "0 26\n",
      "1 25\n",
      "2 24\n",
      "3 8.0\n",
      "4 7.0\n",
      "5 6.0\n",
      "7 1.0\n",
      "7\n"
     ]
    }
   ],
   "source": [
    "# 99 1이 될때까지\n",
    "n = 26\n",
    "k = 3\n",
    "count = 0\n",
    "\n",
    "while n >= k:\n",
    "    print(count, n)\n",
    "    while(n % k != 0):\n",
    "        n -= 1\n",
    "        count += 1    \n",
    "        print(count, n)\n",
    "    n /= k\n",
    "    count += 1    \n",
    "    \n",
    "\n",
    "while n > 1:\n",
    "    n -= 1\n",
    "    count += 1    \n",
    "    print(count, n)\n",
    "    \n",
    "print(count)    "
   ]
  },
  {
   "cell_type": "code",
   "execution_count": 48,
   "metadata": {},
   "outputs": [
    {
     "name": "stdout",
     "output_type": "stream",
     "text": [
      "7\n"
     ]
    }
   ],
   "source": [
    "# 99 1이 될때까지 + 시간복잡도 개선\n",
    "\n",
    "#n, k = map(int, input().split())\n",
    "n = 26\n",
    "k = 3\n",
    "count = 0\n",
    "\n",
    "while True:\n",
    "    target = (n//k)*k\n",
    "    count += (n - target)\n",
    "    n = target\n",
    "    \n",
    "    if n < k:\n",
    "        break\n",
    "\n",
    "    count += 1\n",
    "    n //= k\n",
    "count += (n-1)\n",
    "print(count)"
   ]
  },
  {
   "cell_type": "code",
   "execution_count": null,
   "metadata": {},
   "outputs": [],
   "source": []
  },
  {
   "cell_type": "code",
   "execution_count": 75,
   "metadata": {},
   "outputs": [
    {
     "name": "stdout",
     "output_type": "stream",
     "text": [
      "576\n"
     ]
    }
   ],
   "source": [
    "# 곱하기 혹은 더하기: +/* 연산만으로 가장 큰 숫자 만들기\n",
    "n = '02984'\n",
    "\n",
    "result = int(n[0])\n",
    "\n",
    "for i in range(1, len(n)):\n",
    "    num = int(n[i])\n",
    "    if num <= 1 or result <= 1:        \n",
    "        result = result + num\n",
    "    else:\n",
    "        result *= num\n",
    "print(result)        "
   ]
  },
  {
   "cell_type": "code",
   "execution_count": 94,
   "metadata": {},
   "outputs": [
    {
     "name": "stdout",
     "output_type": "stream",
     "text": [
      "2\n"
     ]
    }
   ],
   "source": [
    "# 모험가 길드: 모험가 N명 '공포도'\n",
    "#  공포도 X 모험가는 X명 이상 구성되야 참가 가능, 최대한 많은 그룹수의 최댓값\n",
    "#  모든 모험가가 그룹에 들어가야 할 필요는 없음\n",
    "\n",
    "N = 5\n",
    "s = [2,3,1,2,2]\n",
    "s.sort()\n",
    "\n",
    "group = 0\n",
    "count = 0 # 현 그룹 인원 \n",
    "\n",
    "for i in s:\n",
    "    count += 1\n",
    "    if count >= i:\n",
    "        group += 1\n",
    "        count = 0\n",
    "        \n",
    "print(group)   "
   ]
  },
  {
   "cell_type": "code",
   "execution_count": null,
   "metadata": {},
   "outputs": [],
   "source": []
  }
 ],
 "metadata": {
  "kernelspec": {
   "display_name": "Python 3",
   "language": "python",
   "name": "python3"
  },
  "language_info": {
   "codemirror_mode": {
    "name": "ipython",
    "version": 3
   },
   "file_extension": ".py",
   "mimetype": "text/x-python",
   "name": "python",
   "nbconvert_exporter": "python",
   "pygments_lexer": "ipython3",
   "version": "3.7.6"
  }
 },
 "nbformat": 4,
 "nbformat_minor": 4
}
