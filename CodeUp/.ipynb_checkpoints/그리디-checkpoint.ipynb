{
 "cells": [
  {
   "cell_type": "code",
   "execution_count": 1,
   "metadata": {},
   "outputs": [
    {
     "name": "stdout",
     "output_type": "stream",
     "text": [
      "987.8\n"
     ]
    }
   ],
   "source": [
    "# 2001 최소대금\n",
    "data = [800,700,900,198,330]\n",
    "'''\n",
    "data = []\n",
    "for _ in range(5):\n",
    "    data.append(int(input()))\n",
    "'''\n",
    "print(round((min(data[0:3])+min(data[3:]))*1.1,2))"
   ]
  },
  {
   "cell_type": "code",
   "execution_count": 2,
   "metadata": {},
   "outputs": [
    {
     "name": "stdout",
     "output_type": "stream",
     "text": [
      "3\n"
     ]
    }
   ],
   "source": [
    "# 3120 리모컨\n",
    "\n",
    "# a, b = map(int, input().split())\n",
    "#a, b = 7, 34\n",
    "a, b = 3, 22\n",
    "case = [10,5,1]\n",
    "cnt = 0\n",
    "\n",
    "if a > b: \n",
    "    a, b = b, a\n",
    "    \n",
    "num = b-a    \n",
    "\n",
    "while True:\n",
    "    if num > 7:\n",
    "        num -= 10\n",
    "    elif num > 3:\n",
    "        num -= 5\n",
    "    elif num >= 1:\n",
    "        num -= 1\n",
    "    elif num < 0:\n",
    "        num *= (-1)\n",
    "        cnt -= 1\n",
    "    elif num == 0:\n",
    "        break\n",
    "        \n",
    "    cnt += 1\n",
    "    \n",
    "print(cnt)"
   ]
  },
  {
   "cell_type": "code",
   "execution_count": 3,
   "metadata": {},
   "outputs": [
    {
     "name": "stdout",
     "output_type": "stream",
     "text": [
      "8\n"
     ]
    }
   ],
   "source": [
    "# 3301 거스름돈\n",
    "\n",
    "#n = int(input())\n",
    "n = 54520\n",
    "coin_type = [50000, 10000, 5000, 1000, 500, 100, 50, 10]\n",
    "\n",
    "cnt = 0\n",
    "\n",
    "for coin in coin_type:\n",
    "    cnt += n//coin\n",
    "    n %= coin\n",
    "print(cnt)   "
   ]
  },
  {
   "cell_type": "code",
   "execution_count": 4,
   "metadata": {},
   "outputs": [
    {
     "name": "stdout",
     "output_type": "stream",
     "text": [
      "37\n"
     ]
    }
   ],
   "source": [
    "# 3321 최고의 피자\n",
    "n = 3 # 토핑 종류 수 \n",
    "a, b = 12, 2 # 도우 가격, 토핑 가격\n",
    "c = 200 # 도우 칼로리\n",
    "'''\n",
    "n = int(input())\n",
    "a, b = map(int, input().split())\n",
    "c = int(input())\n",
    "\n",
    "data = []\n",
    "for _ in range(n):\n",
    "    data.append(int(input()))\n",
    "'''    \n",
    "data = [50, 300, 100] # 토핑 칼로리\n",
    "data.sort(reverse=True)\n",
    "\n",
    "total = []\n",
    "datas = []\n",
    "for i in data:\n",
    "    datas.append(i)\n",
    "    total.append( int( (c + sum(datas)) / (a + len(datas)*b)) )\n",
    "\n",
    "print(max(total))"
   ]
  },
  {
   "cell_type": "code",
   "execution_count": 5,
   "metadata": {},
   "outputs": [],
   "source": [
    "# 4040 펜션"
   ]
  },
  {
   "cell_type": "code",
   "execution_count": 6,
   "metadata": {},
   "outputs": [],
   "source": [
    "# 4684 자물쇠"
   ]
  },
  {
   "cell_type": "code",
   "execution_count": 7,
   "metadata": {},
   "outputs": [],
   "source": [
    "# 4713 공주의 정원"
   ]
  },
  {
   "cell_type": "code",
   "execution_count": 8,
   "metadata": {},
   "outputs": [],
   "source": [
    "# 4763 원숭이"
   ]
  },
  {
   "cell_type": "code",
   "execution_count": 9,
   "metadata": {},
   "outputs": [],
   "source": [
    "# 4787 택배"
   ]
  }
 ],
 "metadata": {
  "kernelspec": {
   "display_name": "Python 3",
   "language": "python",
   "name": "python3"
  },
  "language_info": {
   "codemirror_mode": {
    "name": "ipython",
    "version": 3
   },
   "file_extension": ".py",
   "mimetype": "text/x-python",
   "name": "python",
   "nbconvert_exporter": "python",
   "pygments_lexer": "ipython3",
   "version": "3.7.6"
  }
 },
 "nbformat": 4,
 "nbformat_minor": 4
}
