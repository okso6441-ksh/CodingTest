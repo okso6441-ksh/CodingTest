{
 "cells": [
  {
   "cell_type": "code",
   "execution_count": 1,
   "metadata": {},
   "outputs": [
    {
     "name": "stdout",
     "output_type": "stream",
     "text": [
      "1\n",
      "2\n",
      "3\n",
      "4\n",
      "5\n"
     ]
    }
   ],
   "source": [
    "# 1442 : 선택 정렬\n",
    "'''\n",
    "n = int(input())\n",
    "array = []\n",
    "for _ in range(n):\n",
    "    array.append(int(input()))\n",
    "'''\n",
    "n=5\n",
    "array = [1, 3, 2, 5, 4]\n",
    "for i in range(len(array)):\n",
    "    min_index = i\n",
    "    \n",
    "    for j in range(i+1, len(array)):\n",
    "        if array[min_index] > array[j]:\n",
    "            min_index = j\n",
    "    array[i], array[min_index] = array[min_index], array[i]\n",
    "    print(array[i])"
   ]
  },
  {
   "cell_type": "code",
   "execution_count": 2,
   "metadata": {},
   "outputs": [
    {
     "name": "stdout",
     "output_type": "stream",
     "text": [
      "1\n",
      "2\n",
      "3\n",
      "4\n",
      "5\n"
     ]
    }
   ],
   "source": [
    "# 1443 : 삽입 정렬\n",
    "    \n",
    "'''\n",
    "n = int(input())\n",
    "array = []\n",
    "for _ in range(n):\n",
    "    array.append(int(input()))\n",
    "'''\n",
    "n=5\n",
    "array = [1, 3, 2, 5, 4]    \n",
    "\n",
    "for i in range(1, len(array)):\n",
    "    for j in range(i, 0, -1):\n",
    "        \n",
    "        if array[j] < array[j-1]:\n",
    "            array[j], array[j-1] = array[j-1], array[j]\n",
    "        else:\n",
    "            break\n",
    "                \n",
    "for i in array:\n",
    "    print(i)  "
   ]
  },
  {
   "cell_type": "code",
   "execution_count": 3,
   "metadata": {},
   "outputs": [
    {
     "name": "stdout",
     "output_type": "stream",
     "text": [
      "81 51 44 25 12 9 1\n"
     ]
    }
   ],
   "source": [
    "#1709 : 내림차순 정렬\n",
    "\n",
    "n = 7\n",
    "array = [51, 44, 81, 1, 9, 12, 25]\n",
    "'''\n",
    "n = int(input())\n",
    "array = list(map(int,input().split()))\n",
    "'''\n",
    "print(*sorted(array, reverse=True), sep=' ')"
   ]
  },
  {
   "cell_type": "code",
   "execution_count": 4,
   "metadata": {},
   "outputs": [
    {
     "name": "stdout",
     "output_type": "stream",
     "text": [
      "95\n",
      "88\n"
     ]
    }
   ],
   "source": [
    "# 4501 : 백설공주와 난장이\n",
    "'''\n",
    "array = []\n",
    "for _ in range(7):\n",
    "    array.append(int(input()))\n",
    "'''\n",
    "array = [79,57,88,72,95,88,64]\n",
    "array.sort()\n",
    "print(array[-1], array[-2], sep='\\n')"
   ]
  },
  {
   "cell_type": "code",
   "execution_count": 5,
   "metadata": {},
   "outputs": [
    {
     "name": "stdout",
     "output_type": "stream",
     "text": [
      "1\n",
      "2\n",
      "3\n",
      "7\n",
      "10\n"
     ]
    }
   ],
   "source": [
    "# 1451 : 데이터 정렬 (small)\n",
    "'''\n",
    "n = int(input())\n",
    "array = []\n",
    "for _ in range(n):\n",
    "    array.append(int(input()))\n",
    "'''\n",
    "n = 5\n",
    "array = [7, 3, 10, 2, 1]\n",
    "array.sort()\n",
    "print(*array, sep='\\n')"
   ]
  },
  {
   "cell_type": "code",
   "execution_count": 6,
   "metadata": {},
   "outputs": [
    {
     "name": "stdout",
     "output_type": "stream",
     "text": [
      "minsu\n"
     ]
    }
   ],
   "source": [
    "# 1420 : 3등 찾기\n",
    "array={}\n",
    "'''\n",
    "n = int(input())\n",
    "for _ in range(n):\n",
    "    a, b = input().split()\n",
    "    array[str(a)] = int(b)\n",
    "'''\n",
    "array['minsu'] = 78\n",
    "array['gunho'] = 64\n",
    "array['sumin'] = 84\n",
    "array['jiwon'] = 96\n",
    "array['woosung'] = 55\n",
    "\n",
    "import operator\n",
    "print(sorted(array.items(), key=operator.itemgetter(1), reverse=True)[2][0])"
   ]
  },
  {
   "cell_type": "code",
   "execution_count": 7,
   "metadata": {},
   "outputs": [
    {
     "name": "stdout",
     "output_type": "stream",
     "text": [
      "1 100 90\n",
      "2 90 100\n",
      "3 80 90\n",
      "4 80 80\n",
      "5 60 50\n"
     ]
    }
   ],
   "source": [
    "# 3017 : 정렬 기준\n",
    "n = 5\n",
    "array = {\n",
    "(100, 90),\n",
    "(90, 100),\n",
    "(80, 80),\n",
    "(80, 90),\n",
    "(60, 50)}\n",
    "\n",
    "for i, v in enumerate(sorted(array, reverse=True)):\n",
    "    print((i+1), v[0], v[1])"
   ]
  },
  {
   "cell_type": "code",
   "execution_count": null,
   "metadata": {},
   "outputs": [],
   "source": []
  }
 ],
 "metadata": {
  "kernelspec": {
   "display_name": "Python 3",
   "language": "python",
   "name": "python3"
  },
  "language_info": {
   "codemirror_mode": {
    "name": "ipython",
    "version": 3
   },
   "file_extension": ".py",
   "mimetype": "text/x-python",
   "name": "python",
   "nbconvert_exporter": "python",
   "pygments_lexer": "ipython3",
   "version": "3.7.6"
  }
 },
 "nbformat": 4,
 "nbformat_minor": 4
}
