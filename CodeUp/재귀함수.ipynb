{
 "cells": [
  {
   "cell_type": "code",
   "execution_count": 1,
   "metadata": {},
   "outputs": [
    {
     "name": "stdout",
     "output_type": "stream",
     "text": [
      "13\n"
     ]
    }
   ],
   "source": [
    "# 1915 피보나치 수열 \n",
    "\n",
    "#n = int(input())\n",
    "\n",
    "n = 7\n",
    "result = []\n",
    "\n",
    "def re(i):\n",
    "    global n, result\n",
    "\n",
    "    if (i==1 or i ==2):\n",
    "        result.append(1)\n",
    "    else:\n",
    "        result.append(result[i-3]+result[i-2])\n",
    "        \n",
    "    if i == n:\n",
    "        return result\n",
    "    \n",
    "    re(i+1)\n",
    "        \n",
    "re(1)\n",
    "print(result[n-1])"
   ]
  },
  {
   "cell_type": "code",
   "execution_count": 2,
   "metadata": {},
   "outputs": [
    {
     "name": "stdout",
     "output_type": "stream",
     "text": [
      "13\n"
     ]
    }
   ],
   "source": [
    "# 1915 피보나치 수열 \n",
    "\n",
    "#n = int(input())\n",
    "\n",
    "n = 7\n",
    "result = {1:1, 2:1}\n",
    "\n",
    "def re(i):\n",
    "    if i in result:\n",
    "        return result[i]\n",
    "    result[i] = re(i-1) + re(i-2)\n",
    "    return result[i]\n",
    "\n",
    "print(re(n))"
   ]
  },
  {
   "cell_type": "code",
   "execution_count": 3,
   "metadata": {},
   "outputs": [
    {
     "name": "stdout",
     "output_type": "stream",
     "text": [
      "*\n",
      "**\n",
      "***\n"
     ]
    }
   ],
   "source": [
    "# 1953 삼각형 출력하기 1\n",
    "\n",
    "#n = int(input())\n",
    "n = 3\n",
    "\n",
    "def re(i):\n",
    "    if i == n:\n",
    "        return print('*'*i)\n",
    "    print('*'*i)\n",
    "    re(i+1)\n",
    "    return \n",
    "\n",
    "re(1)"
   ]
  },
  {
   "cell_type": "code",
   "execution_count": 4,
   "metadata": {},
   "outputs": [
    {
     "name": "stdout",
     "output_type": "stream",
     "text": [
      "3\n",
      "2\n",
      "1\n"
     ]
    }
   ],
   "source": [
    "# 1902 : (재귀 함수) 1부터 n까지 역순으로 출력하기\n",
    "\n",
    "#n = int(input())\n",
    "n = 3\n",
    "\n",
    "def re(i):\n",
    "    if i==1:\n",
    "        print(i)\n",
    "        return \n",
    "    print(i)\n",
    "    re(i-1)\n",
    "    \n",
    "re(n)"
   ]
  },
  {
   "cell_type": "code",
   "execution_count": 5,
   "metadata": {},
   "outputs": [
    {
     "name": "stdout",
     "output_type": "stream",
     "text": [
      "55\n"
     ]
    }
   ],
   "source": [
    "# 1905 : (재귀함수) 1부터 n까지 합 구하기\n",
    "'''\n",
    "import sys\n",
    "sys.setrecursionlimit(10**4)\n",
    "\n",
    "#n = int(input())\n",
    "'''\n",
    "n = 10\n",
    "total = 0\n",
    "\n",
    "def re(i):\n",
    "    global total\n",
    "    \n",
    "    if i == int(n/2)+1:\n",
    "        return\n",
    "    total += (i + ((n+1)-i))\n",
    "    re(i+1)\n",
    "        \n",
    "re(1)\n",
    "\n",
    "if n%2 == 0:\n",
    "    print(total)\n",
    "else:\n",
    "    print(total + (int(n/2)+1))"
   ]
  },
  {
   "cell_type": "code",
   "execution_count": 6,
   "metadata": {},
   "outputs": [
    {
     "name": "stdout",
     "output_type": "stream",
     "text": [
      "120\n"
     ]
    }
   ],
   "source": [
    "# 1912 : (재귀함수) 팩토리얼 계산\n",
    "\n",
    "#n = int(input())\n",
    "n = 5\n",
    "total = 1\n",
    "\n",
    "def re(i):\n",
    "    global total\n",
    "    \n",
    "    if i==1:\n",
    "        return 1\n",
    "    \n",
    "    total = total * i\n",
    "    \n",
    "    return re(i-1)\n",
    "\n",
    "re(n)    \n",
    "print(total)    "
   ]
  },
  {
   "cell_type": "code",
   "execution_count": 7,
   "metadata": {},
   "outputs": [
    {
     "name": "stdout",
     "output_type": "stream",
     "text": [
      "120\n"
     ]
    }
   ],
   "source": [
    "# 1912 : (재귀함수) 팩토리얼 계산\n",
    "\n",
    "#n = int(input())\n",
    "n = 5\n",
    "\n",
    "def re(i):\n",
    "    if i==1:\n",
    "        return 1\n",
    "    else:\n",
    "        return i*re(i-1)\n",
    "print(re(n))"
   ]
  },
  {
   "cell_type": "code",
   "execution_count": 8,
   "metadata": {},
   "outputs": [
    {
     "name": "stdout",
     "output_type": "stream",
     "text": [
      "1\n",
      "2\n",
      "4\n",
      "8\n",
      "16\n",
      "5\n"
     ]
    }
   ],
   "source": [
    "# 1929 : (재귀함수) 우박수 (3n+1) (reverse)\n",
    "\n",
    "#n = int(input())\n",
    "n = 5\n",
    "result = []\n",
    "\n",
    "def re(n):\n",
    "    \n",
    "    result.append(str(n))\n",
    "    if n==1:\n",
    "        result.reverse()\n",
    "        \n",
    "        print('\\n'.join(result))\n",
    "        return \n",
    "\n",
    "    if n%2 == 0:\n",
    "        re(n//2)\n",
    "    else:\n",
    "        re(3*n+1)\n",
    "        \n",
    "re(n)"
   ]
  },
  {
   "cell_type": "code",
   "execution_count": 9,
   "metadata": {},
   "outputs": [
    {
     "name": "stdout",
     "output_type": "stream",
     "text": [
      "1\n",
      "2\n",
      "4\n",
      "8\n",
      "16\n",
      "5\n"
     ]
    }
   ],
   "source": [
    "# 1929 : (재귀함수) 우박수 (3n+1) (reverse)\n",
    "\n",
    "#n = int(input())\n",
    "n = 5\n",
    "\n",
    "def re(n):\n",
    "    if n==1:\n",
    "        return print(n)\n",
    "    elif n%2: \n",
    "        re(3*n+1)\n",
    "    else: \n",
    "        re(n//2)\n",
    "    return print(n)\n",
    "re(n)        "
   ]
  },
  {
   "cell_type": "code",
   "execution_count": 10,
   "metadata": {},
   "outputs": [
    {
     "name": "stdout",
     "output_type": "stream",
     "text": [
      "5\n",
      "16\n",
      "8\n",
      "4\n",
      "2\n",
      "1\n"
     ]
    }
   ],
   "source": [
    "# 1928 : (재귀함수) 우박수 (3n+1) (basic)\n",
    "\n",
    "#n = int(input())\n",
    "n = 5\n",
    "\n",
    "def re(n):\n",
    "    print(n)\n",
    "    if n==1:\n",
    "        return\n",
    "    elif n%2: \n",
    "        re(3*n+1)\n",
    "    else: \n",
    "        re(n//2)\n",
    "    return \n",
    "re(n)      "
   ]
  },
  {
   "cell_type": "code",
   "execution_count": 11,
   "metadata": {},
   "outputs": [
    {
     "name": "stdout",
     "output_type": "stream",
     "text": [
      "1\n",
      "2\n",
      "3\n",
      "4\n",
      "5\n"
     ]
    }
   ],
   "source": [
    "# 1901 : (재귀 함수) 1부터 n까지 출력하기\n",
    "\n",
    "#n = int(input())\n",
    "n = 5\n",
    "\n",
    "def re(i):\n",
    "    print(i)\n",
    "    \n",
    "    if i==n:\n",
    "        return\n",
    "    re(i+1)\n",
    "re(1)"
   ]
  },
  {
   "cell_type": "code",
   "execution_count": 12,
   "metadata": {},
   "outputs": [
    {
     "name": "stdout",
     "output_type": "stream",
     "text": [
      "1\n",
      "2\n",
      "3\n",
      "4\n",
      "5\n"
     ]
    }
   ],
   "source": [
    "# 1901 : (재귀 함수) 1부터 n까지 출력하기\n",
    "\n",
    "#n = int(input())\n",
    "n = 5\n",
    "\n",
    "def re(i):\n",
    "    \n",
    "    if i==0:\n",
    "        return\n",
    "    re(i-1)\n",
    "    \n",
    "    return print(i)\n",
    "    \n",
    "re(n)"
   ]
  },
  {
   "cell_type": "code",
   "execution_count": 13,
   "metadata": {},
   "outputs": [
    {
     "name": "stdout",
     "output_type": "stream",
     "text": [
      "3 5 7 "
     ]
    }
   ],
   "source": [
    "# 1930 : SuperSum\n",
    "#a, b = map(int, input().split())\n",
    "a, b = 2, 7\n",
    "\n",
    "def re(i):\n",
    "    if i%2==1: print(i, end=' ')\n",
    "    if i==b:\n",
    "        return\n",
    "    re(i+1)\n",
    "    \n",
    "re(a)    \n",
    " "
   ]
  },
  {
   "cell_type": "code",
   "execution_count": 14,
   "metadata": {},
   "outputs": [
    {
     "name": "stdout",
     "output_type": "stream",
     "text": [
      "1"
     ]
    }
   ],
   "source": [
    "# 1920 : (재귀함수) 2진수 변환\n",
    "\n",
    "#n = int(input())\n",
    "n = 1\n",
    "\n",
    "def re(n):\n",
    "    \n",
    "    o = n//2\n",
    "\n",
    "    if o<=1:\n",
    "        return print(o, end='')\n",
    "    \n",
    "    re(o)\n",
    "    \n",
    "    print(o%2, end='')\n",
    "            \n",
    "if n >= 2: re(n)    \n",
    "print(n%2, end='')"
   ]
  },
  {
   "cell_type": "code",
   "execution_count": 15,
   "metadata": {},
   "outputs": [
    {
     "name": "stdout",
     "output_type": "stream",
     "text": [
      "1000\n"
     ]
    }
   ],
   "source": [
    "#n = int(input())\n",
    "n = 8\n",
    "\n",
    "def re(n):\n",
    "    if n<1:\n",
    "        return '0'\n",
    "    elif n==1:\n",
    "        return '1'\n",
    "    \n",
    "    if n%2==0:\n",
    "        return re(int(n/2))+'0'\n",
    "    elif n%2==1:\n",
    "        return re(int(n/2))+'1'\n",
    "    \n",
    "print(re(n))"
   ]
  },
  {
   "cell_type": "code",
   "execution_count": 16,
   "metadata": {},
   "outputs": [
    {
     "name": "stdout",
     "output_type": "stream",
     "text": [
      "13\n"
     ]
    }
   ],
   "source": [
    "# 1916 : (재귀함수) 피보나치 수열 (Large)\n",
    "\n",
    "#n = int(input())\n",
    "n = 7\n",
    "data = [1, 1]\n",
    "def re(i):\n",
    "    \n",
    "    data.append(data[i-2]+data[i-1])\n",
    "    if i==n:\n",
    "        return\n",
    "    re(i+1)\n",
    "    \n",
    "\n",
    "if n > 2: re(3-1) \n",
    "print(data[n-1]%10009)"
   ]
  },
  {
   "cell_type": "code",
   "execution_count": null,
   "metadata": {},
   "outputs": [],
   "source": []
  }
 ],
 "metadata": {
  "kernelspec": {
   "display_name": "Python 3",
   "language": "python",
   "name": "python3"
  },
  "language_info": {
   "codemirror_mode": {
    "name": "ipython",
    "version": 3
   },
   "file_extension": ".py",
   "mimetype": "text/x-python",
   "name": "python",
   "nbconvert_exporter": "python",
   "pygments_lexer": "ipython3",
   "version": "3.7.6"
  }
 },
 "nbformat": 4,
 "nbformat_minor": 4
}
