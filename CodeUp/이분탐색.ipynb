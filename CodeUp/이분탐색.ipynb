{
 "cells": [
  {
   "cell_type": "code",
   "execution_count": 1,
   "metadata": {},
   "outputs": [
    {
     "name": "stdout",
     "output_type": "stream",
     "text": [
      "-5.0000\n"
     ]
    }
   ],
   "source": [
    "# 2655 : 1차 함수의 x절편 구하기\n",
    "#a, b = map(float, input().split())\n",
    "a, b = 1, 5\n",
    "\n",
    "print(\"{:.4f}\".format(-b/a))"
   ]
  },
  {
   "cell_type": "code",
   "execution_count": 2,
   "metadata": {},
   "outputs": [
    {
     "name": "stdout",
     "output_type": "stream",
     "text": [
      "127\n"
     ]
    }
   ],
   "source": [
    "# 4766 : 예산\n",
    "array = []\n",
    "'''\n",
    "n = int(input())\n",
    "array = list(map(int, input().split()))\n",
    "limit = int(input())\n",
    "'''\n",
    "n = 4\n",
    "array = [120, 110, 140, 150]\n",
    "limit = 485\n",
    "\n",
    "array.sort()\n",
    "\n",
    "std = int((array[0]+array[len(array)-1])/2)\n",
    "gap_old, gap_new = 0, 0\n",
    "\n",
    "while gap_old >= gap_new:\n",
    "        \n",
    "    total = 0    \n",
    "    for i in array:    \n",
    "        if i >= std:\n",
    "            total += std\n",
    "        else:\n",
    "            total += i\n",
    "    gap_old = abs(total-limit)      \n",
    "    gap_new = abs(total-limit)\n",
    "\n",
    "    if total > limit:\n",
    "        std -= 1\n",
    "    elif total < limit:\n",
    "        std += 1\n",
    "    elif total == limit:\n",
    "        break\n",
    "        \n",
    "    total = 0    \n",
    "    for i in array:    \n",
    "        if i >= std:\n",
    "            total += std\n",
    "        else:\n",
    "            total += i\n",
    "            \n",
    "    gap_new = abs(total-limit)\n",
    "    \n",
    "    if gap_old == gap_new:\n",
    "        break\n",
    "\n",
    "print(min(std, max(array)))"
   ]
  },
  {
   "cell_type": "code",
   "execution_count": 3,
   "metadata": {},
   "outputs": [
    {
     "name": "stdout",
     "output_type": "stream",
     "text": [
      "1\n"
     ]
    }
   ],
   "source": [
    "# 2633 : Lower Bound\n",
    "'''\n",
    "n, k = map(int, input().split())\n",
    "array = list(map(int, input().split()))\n",
    "'''\n",
    "n, k = 5, 3\n",
    "array = [4, 4, 4, 4, 4]\n",
    "\n",
    "from bisect import bisect_left\n",
    "\n",
    "print(bisect_left(array, k)+1)"
   ]
  }
 ],
 "metadata": {
  "kernelspec": {
   "display_name": "Python 3",
   "language": "python",
   "name": "python3"
  },
  "language_info": {
   "codemirror_mode": {
    "name": "ipython",
    "version": 3
   },
   "file_extension": ".py",
   "mimetype": "text/x-python",
   "name": "python",
   "nbconvert_exporter": "python",
   "pygments_lexer": "ipython3",
   "version": "3.7.6"
  }
 },
 "nbformat": 4,
 "nbformat_minor": 4
}
