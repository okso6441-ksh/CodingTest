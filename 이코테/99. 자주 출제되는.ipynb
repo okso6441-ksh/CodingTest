{
 "cells": [
  {
   "cell_type": "code",
   "execution_count": 1,
   "metadata": {
    "scrolled": true
   },
   "outputs": [
    {
     "name": "stdout",
     "output_type": "stream",
     "text": [
      "False\n",
      "True\n"
     ]
    }
   ],
   "source": [
    "# 소수 판별\n",
    "def is_prime_number(x):\n",
    "    for i in range(2, x):\n",
    "        if x % i == 0:\n",
    "            return False\n",
    "    return True\n",
    "\n",
    "print(is_prime_number(4))\n",
    "print(is_prime_number(7))"
   ]
  },
  {
   "cell_type": "code",
   "execution_count": 2,
   "metadata": {},
   "outputs": [
    {
     "name": "stdout",
     "output_type": "stream",
     "text": [
      "False\n",
      "True\n"
     ]
    }
   ],
   "source": [
    "# 약수의 성질 - 가운데 약수를 기준으로 곱셈 연산에 대칭\n",
    "## 1 2 <4> 8 16 - 가운데 약수(제곱근) 까지만 확인하면 됨\n",
    "\n",
    "import math\n",
    "\n",
    "def is_prime_number(x):\n",
    "    for i in range(2, int(math.sqrt(x))+1):\n",
    "        if x % i == 0:\n",
    "            return False\n",
    "    return True\n",
    "\n",
    "print(is_prime_number(4))\n",
    "print(is_prime_number(7))"
   ]
  },
  {
   "cell_type": "code",
   "execution_count": 3,
   "metadata": {},
   "outputs": [
    {
     "name": "stdout",
     "output_type": "stream",
     "text": [
      "2 3 5 7 11 13 17 19 23 "
     ]
    }
   ],
   "source": [
    "# 다수의 소수 판별 - 특정한 수의 범위 안에 존재하는 모든 소수 찾을때\n",
    "'''\n",
    "# 에라토스테네스의 체 알고리즘\n",
    "1. 2부터 N까지 모든 자연수 나열\n",
    "2. 남은 수 중 아직 처리하지 않은 가장 작은 수 i 찾음\n",
    "3. 남은 수 중 i의 배수를 모두 제거(i는 제거하지 않음)\n",
    "4. 더 이상 반복할 수 없을 때까지 2, 3번 과정 반복 \n",
    "'''\n",
    "n = 26\n",
    "array = [True for i in range(n+1)]\n",
    "\n",
    "for i in range(2,int(math.sqrt(n))+1):\n",
    "    if array[i] == True: \n",
    "        j = 2\n",
    "        while i*j <= n:\n",
    "            array[i*j] = False\n",
    "            j = j+1\n",
    "            \n",
    "for i in range(2, n+1)            :\n",
    "    if array[i]:\n",
    "        print(i, end=' ')"
   ]
  },
  {
   "cell_type": "code",
   "execution_count": 4,
   "metadata": {},
   "outputs": [
    {
     "name": "stdout",
     "output_type": "stream",
     "text": [
      "3\n"
     ]
    }
   ],
   "source": [
    "# 투 포인터 알고리즘: 리스트에 순차적으로 접근해야 할때 시작점과 끝점 2개의 점의 위치를 기록하면서 처리하는 알고리즘\n",
    "'''\n",
    "## 특정한 합을 가지는 부분 연속 수열 찾기\n",
    "합이 5인 부분 연속 수열의 개수?\n",
    "[1,2,3,2,5] -> 2,3 / 3,2 / 5 => 3개 \n",
    "시간 제한 O(N)\n",
    "\n",
    "1. 시작점/끝점이 첫 번째 원소의 인덱스(0)를 가르키도록 한다\n",
    "2. 현재 부분합이 M과 같다면, 카운트\n",
    "3.                보다 작다면, end 1 증가\n",
    "4.                보다 크거나 같다면, start 1 증가\n",
    "5. 모든 경우 확인할때까지 2~4 과정 반복\n",
    "'''\n",
    "n = 5 # 데이터 개수\n",
    "m = 5 # 찾고자 하는 부분합\n",
    "data  = [1,2,3,2,5]\n",
    "\n",
    "count = 0\n",
    "interval_sum = 0\n",
    "end = 0\n",
    "\n",
    "for start in range(n):\n",
    "    while interval_sum < m and end < n:\n",
    "        interval_sum += data[end]\n",
    "        end += 1\n",
    "    if interval_sum == m:\n",
    "        count += 1\n",
    "    interval_sum -= data[start]\n",
    "\n",
    "print(count)    "
   ]
  },
  {
   "cell_type": "code",
   "execution_count": 5,
   "metadata": {},
   "outputs": [
    {
     "name": "stdout",
     "output_type": "stream",
     "text": [
      "[0, 10, 30, 60, 100, 150]\n",
      "70\n"
     ]
    }
   ],
   "source": [
    "# 구간합: 특정 구간의 모든 수를 합한 값을 계산하는 문제\n",
    "'''\n",
    "구간이 하나일때) {10,20,30,40,50}\n",
    "2~4합: 20+30+40 = 90\n",
    "\n",
    "구간이 여러개일때)\n",
    "N개의 정수 수열\n",
    "M개의 쿼리([left, right]) 구간에 포함된 데이터 합\n",
    "시간 제한 O(N+M)\n",
    "'''\n",
    "# 접두사 합(Prefix Sum): 배열의 맨 앞부터 특정 위치까지 합 미리 구해 놓은 것\n",
    "'''\n",
    "[  10,20,30, 40, 50] -> prefix sum\n",
    "[0,10,30,60,100,150]\n",
    "\n",
    "1) left=1, right = 3 => p[3] - p[0] = 60\n",
    "2) left=2, right = 5 => p[5] - p[1] = 140\n",
    "3) left=3, right = 4 => p[4] - p[2] = 70\n",
    "'''\n",
    "n = 5\n",
    "data = [10,20,30,40,50]\n",
    "\n",
    "sum_value = 0\n",
    "prefix_sum = [0]\n",
    "for i in data:\n",
    "    sum_value += i\n",
    "    prefix_sum.append(sum_value)\n",
    "print(prefix_sum)    \n",
    "\n",
    "left = 3\n",
    "right = 4\n",
    "print(prefix_sum[right] - prefix_sum[left-1])"
   ]
  }
 ],
 "metadata": {
  "kernelspec": {
   "display_name": "Python 3",
   "language": "python",
   "name": "python3"
  },
  "language_info": {
   "codemirror_mode": {
    "name": "ipython",
    "version": 3
   },
   "file_extension": ".py",
   "mimetype": "text/x-python",
   "name": "python",
   "nbconvert_exporter": "python",
   "pygments_lexer": "ipython3",
   "version": "3.7.6"
  }
 },
 "nbformat": 4,
 "nbformat_minor": 4
}
