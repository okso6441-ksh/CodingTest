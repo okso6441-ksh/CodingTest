{
 "cells": [
  {
   "cell_type": "code",
   "execution_count": 1,
   "metadata": {},
   "outputs": [
    {
     "name": "stdout",
     "output_type": "stream",
     "text": [
      "3\n"
     ]
    }
   ],
   "source": [
    "# 210 피보나치 함수\n",
    "def fibo(x):\n",
    "    if x == 1 or x == 2:\n",
    "        return 1\n",
    "    return fibo(x-1) + fibo(x-2)\n",
    "\n",
    "print(fibo(4))"
   ]
  },
  {
   "cell_type": "code",
   "execution_count": 2,
   "metadata": {},
   "outputs": [
    {
     "name": "stdout",
     "output_type": "stream",
     "text": [
      "34\n"
     ]
    }
   ],
   "source": [
    "# 212 피보나치 수열(재귀적)\n",
    "d = [0]*10\n",
    "def fibi(x):\n",
    "    if x==1 or x==2:\n",
    "        return 1\n",
    "    if d[x] != 0:\n",
    "        return d[x]\n",
    "    d[x] = fibo(x-1) + fibo(x-2)\n",
    "    return d[x]\n",
    "\n",
    "print(fibo(9))"
   ]
  },
  {
   "cell_type": "code",
   "execution_count": 3,
   "metadata": {},
   "outputs": [
    {
     "name": "stdout",
     "output_type": "stream",
     "text": [
      "f(6) f(5) f(4) f(3) f(2) f(1) f(2) f(3) f(4) "
     ]
    },
    {
     "data": {
      "text/plain": [
       "8"
      ]
     },
     "execution_count": 3,
     "metadata": {},
     "output_type": "execute_result"
    }
   ],
   "source": [
    "# 214 피보나치 - 호출되는 함수 확인\n",
    "d = [0]*9\n",
    "\n",
    "def pibo(x):\n",
    "    print('f('+ str(x) +')', end= ' ')\n",
    "    if x==1 or x==2:\n",
    "        return 1\n",
    "    if d[x] != 0:\n",
    "        return d[x]\n",
    "    d[x] = pibo(x-1) + pibo(x-2)\n",
    "    return d[x]\n",
    "\n",
    "pibo(6)"
   ]
  },
  {
   "cell_type": "code",
   "execution_count": 4,
   "metadata": {},
   "outputs": [
    {
     "name": "stdout",
     "output_type": "stream",
     "text": [
      "34\n"
     ]
    }
   ],
   "source": [
    "# 피보나치 수열(반복문) - 더 빠름 \n",
    "d = [0]*10\n",
    "d[1] = 1\n",
    "d[2] = 1\n",
    "n = 9\n",
    "\n",
    "for i in range(3, n+1):\n",
    "    d[i] = d[i-1] + d[i-2]\n",
    "    \n",
    "print(d[9])    "
   ]
  },
  {
   "cell_type": "code",
   "execution_count": 5,
   "metadata": {},
   "outputs": [
    {
     "name": "stdout",
     "output_type": "stream",
     "text": [
      "[0, 0, 1, 1, 2, 1, 2, 3, 3, 2, 2, 3, 3, 4, 4, 2, 3, 4, 3, 4, 3, 4, 4, 5, 4, 2, 3, 0, 0, 0]\n",
      "3\n"
     ]
    }
   ],
   "source": [
    "# 217 1로 만들기\n",
    "d = [0] * 30\n",
    "x = 26\n",
    "for i in range(2, x+1):\n",
    "    d[i]= d[i-1] + 1\n",
    "    if i % 2 == 0:\n",
    "        d[i] = min(d[i], d[i//2]+1)\n",
    "    if i % 3 == 0:\n",
    "        d[i] = min(d[i], d[i//3]+1)    \n",
    "    if i % 5 == 0:\n",
    "        d[i] = min(d[i], d[i//5]+1)    \n",
    "\n",
    "print(d)\n",
    "print(d[x])"
   ]
  },
  {
   "cell_type": "code",
   "execution_count": 6,
   "metadata": {},
   "outputs": [
    {
     "name": "stdout",
     "output_type": "stream",
     "text": [
      "[0, 0, 1, 2, 2, 3, 3, 4, 3, 4, 4, 5, 4, 5, 5, 6, 4, 5, 5, 6, 5, 6, 6, 7, 5, 6, 6, 0, 0, 0]\n",
      "6\n"
     ]
    }
   ],
   "source": [
    "# 217 1로 만들기\n",
    "d = [0] * 30\n",
    "x = 26\n",
    "for i in range(2, x+1):\n",
    "    d[i]= d[i-1] + 1\n",
    "    if i % 2 == 0:\n",
    "        d[i] = min(d[i], d[i//2]+1)\n",
    "\n",
    "print(d)\n",
    "print(d[x])"
   ]
  },
  {
   "cell_type": "code",
   "execution_count": 7,
   "metadata": {},
   "outputs": [
    {
     "name": "stdout",
     "output_type": "stream",
     "text": [
      "[0, 0, 1, 1, 2, 3, 2, 3, 4, 2, 3, 4, 3, 4, 5, 4, 5, 6, 3, 4, 5, 4, 5, 6, 5, 6, 7, 0, 0, 0]\n",
      "7\n"
     ]
    }
   ],
   "source": [
    "# 217 1로 만들기\n",
    "d = [0] * 30\n",
    "x = 26\n",
    "for i in range(2, x+1):\n",
    "    d[i]= d[i-1] + 1\n",
    "    if i % 3 == 0:\n",
    "        d[i] = min(d[i], d[i//3]+1)    \n",
    "\n",
    "print(d)\n",
    "print(d[x])"
   ]
  },
  {
   "cell_type": "code",
   "execution_count": 8,
   "metadata": {},
   "outputs": [
    {
     "name": "stdout",
     "output_type": "stream",
     "text": [
      "[0, 0, 1, 2, 3, 1, 2, 3, 4, 5, 2, 3, 4, 5, 6, 3, 4, 5, 6, 7, 4, 5, 6, 7, 8, 2, 3, 0, 0, 0]\n",
      "3\n"
     ]
    }
   ],
   "source": [
    "# 217 1로 만들기\n",
    "d = [0] * 30\n",
    "x = 26\n",
    "for i in range(2, x+1):\n",
    "    d[i]= d[i-1] + 1\n",
    "    if i % 5 == 0:\n",
    "        d[i] = min(d[i], d[i//5]+1)    \n",
    "\n",
    "print(d)\n",
    "print(d[x])"
   ]
  },
  {
   "cell_type": "code",
   "execution_count": 9,
   "metadata": {},
   "outputs": [
    {
     "name": "stdout",
     "output_type": "stream",
     "text": [
      "8\n"
     ]
    }
   ],
   "source": [
    "# 220 개미전사\n",
    "n=4\n",
    "a = [1,3,1,5]\n",
    "\n",
    "d = [0]*100\n",
    "\n",
    "d[0] = a[0]\n",
    "d[1] = max(a[0],a[1])\n",
    "\n",
    "for i in range(2, n):\n",
    "    d[i] = max(d[i-1],d[i-2]+a[i])\n",
    "    \n",
    "print(d[n-1])    "
   ]
  },
  {
   "cell_type": "code",
   "execution_count": 10,
   "metadata": {},
   "outputs": [
    {
     "name": "stdout",
     "output_type": "stream",
     "text": [
      "5\n"
     ]
    }
   ],
   "source": [
    "# 223 바닥공사\n",
    "n = 3\n",
    "d = [0]*1001\n",
    "\n",
    "d[1] = 1\n",
    "d[2] = 3\n",
    "\n",
    "for i in range(3, n+1):\n",
    "    d[i] = (d[i-1] + 2 * d[i-2])\n",
    "    \n",
    "print(d[n])    "
   ]
  },
  {
   "cell_type": "code",
   "execution_count": 11,
   "metadata": {},
   "outputs": [
    {
     "name": "stdout",
     "output_type": "stream",
     "text": [
      "5\n"
     ]
    }
   ],
   "source": [
    "# 226 화폐 \n",
    "n, m = 2, 15\n",
    "a = [2, 3]\n",
    "\n",
    "d = [10001]*(m+1)\n",
    "\n",
    "d[0] = 0\n",
    "\n",
    "for i in range(n):\n",
    "    for j in range(a[i], m+1):\n",
    "        if d[j - a[i]] != 10001:\n",
    "            d[j] = min(d[j], d[j - a[i]] + 1)\n",
    "            \n",
    "if d[m] == 10001:\n",
    "    print(-1)\n",
    "else:\n",
    "    print(d[m])"
   ]
  },
  {
   "cell_type": "code",
   "execution_count": 12,
   "metadata": {},
   "outputs": [
    {
     "name": "stdout",
     "output_type": "stream",
     "text": [
      "[[1, 3, 3, 2], [2, 1, 4, 1], [0, 6, 4, 7]]\n",
      "[[1, 5, 8, 14], [2, 3, 12, 13], [0, 8, 12, 19]]\n",
      "19\n"
     ]
    }
   ],
   "source": [
    "# 금광\n",
    "# n x m 크기 금광, 각 칸에 금 \n",
    "# 1번 열 어느 행에서 출발, m-1 번 오/왼/위 이동 가능, 최대 금 크기\n",
    "\n",
    "n, m = 3,4\n",
    "a = [1,3,3,2,2,1,4,1,0,6,4,7]\n",
    "\n",
    "dp = []\n",
    "index = 0\n",
    "\n",
    "for i in range(n):\n",
    "    dp.append(a[index:index+m])\n",
    "    index += m\n",
    "    \n",
    "print(dp)    \n",
    "\n",
    "for j in range(1, m):\n",
    "    for i in range(n):\n",
    "        # 왼 위에서 오는 경우\n",
    "        if i == 0: left_up = 0\n",
    "        else: left_up = dp[i-1][j-1]\n",
    "        # 왼 아래에서 오는 경우\n",
    "        if i == n-1: left_down = 0\n",
    "        else: left_down = dp[i+1][j-1]\n",
    "        # 왼쪽에서 오는 경우\n",
    "        left = dp[i][j-1]        \n",
    "        dp[i][j] = dp[i][j] + max(left_up, left_down, left)\n",
    "result = 0\n",
    "for i in range(n):\n",
    "    result = max(result, dp[i][m-1])\n",
    "print(dp)\n",
    "print(result)"
   ]
  },
  {
   "cell_type": "code",
   "execution_count": 13,
   "metadata": {},
   "outputs": [
    {
     "name": "stdout",
     "output_type": "stream",
     "text": [
      "[[1, 3, 1, 5], [2, 2, 4, 1], [5, 0, 2, 3], [0, 6, 1, 2]]\n",
      "[[1, 5, 8, 16], [2, 7, 11, 14], [5, 5, 13, 16], [0, 11, 12, 15]]\n",
      "16\n"
     ]
    }
   ],
   "source": [
    "n, m = 4,4\n",
    "a = [1,3,1,5,2,2,4,1,5,0,2,3,0,6,1,2]\n",
    "\n",
    "dp = []\n",
    "index = 0\n",
    "\n",
    "for i in range(n):\n",
    "    dp.append(a[index:index+m])\n",
    "    index += m\n",
    "    \n",
    "print(dp)    \n",
    "\n",
    "for j in range(1, m):\n",
    "    for i in range(n):\n",
    "        # 왼 위에서 오는 경우\n",
    "        if i == 0: left_up = 0\n",
    "        else: left_up = dp[i-1][j-1]\n",
    "        # 왼 아래에서 오는 경우\n",
    "        if i == n-1: left_down = 0\n",
    "        else: left_down = dp[i+1][j-1]\n",
    "        # 왼쪽에서 오는 경우\n",
    "        left = dp[i][j-1]        \n",
    "        dp[i][j] = dp[i][j] + max(left_up, left_down, left)\n",
    "result = 0\n",
    "for i in range(n):\n",
    "    result = max(result, dp[i][m-1])\n",
    "print(dp)\n",
    "print(result)"
   ]
  },
  {
   "cell_type": "code",
   "execution_count": 14,
   "metadata": {},
   "outputs": [
    {
     "name": "stdout",
     "output_type": "stream",
     "text": [
      "[1, 1, 2, 3, 2, 4, 5]\n",
      "2\n"
     ]
    }
   ],
   "source": [
    "# 병사 배치하기\n",
    "# n 명의 병사, 전투력 보유(내림차순 배치) \n",
    "# 특정 위치 병사는 열외가능\n",
    "# 남아 있는 병사 수 가 최대가 되도록 열외 병사의 수는?\n",
    "\n",
    "# 가장 긴 증가하는 부분 수열(LIS: Longest Increasing Subsequence)\n",
    "# array = {4,2,5,8,4,11,15} -> LIS {4,5,8,11,15}\n",
    "# 모든 0<=j<i에 대하여, D[i] = max(D[i], D[j]+1) if array [j] < array[i]\n",
    "\n",
    "n = 7\n",
    "a = [15,11,4,8,5,2,4]\n",
    "\n",
    "a.reverse()\n",
    "\n",
    "dp = [1] * n\n",
    "\n",
    "for i in range(1,n):\n",
    "    for j in range(0, i):\n",
    "        if a[j] < a[i]:\n",
    "            dp[i] = max(dp[i], dp[j]+1)\n",
    "            \n",
    "print(dp)\n",
    "print(n-max(dp))            "
   ]
  },
  {
   "cell_type": "markdown",
   "metadata": {},
   "source": [
    "![8-1](image\\8-1.png)"
   ]
  }
 ],
 "metadata": {
  "kernelspec": {
   "display_name": "Python 3",
   "language": "python",
   "name": "python3"
  },
  "language_info": {
   "codemirror_mode": {
    "name": "ipython",
    "version": 3
   },
   "file_extension": ".py",
   "mimetype": "text/x-python",
   "name": "python",
   "nbconvert_exporter": "python",
   "pygments_lexer": "ipython3",
   "version": "3.7.6"
  }
 },
 "nbformat": 4,
 "nbformat_minor": 4
}
