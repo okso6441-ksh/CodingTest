{
 "cells": [
  {
   "cell_type": "markdown",
   "metadata": {},
   "source": [
    "## 다익스트라 - 1. 구현은 쉽지만 느리게 동작하는 코드 \n",
    "* 노드 10,000개 넘어가면 어려움 "
   ]
  },
  {
   "cell_type": "code",
   "execution_count": 1,
   "metadata": {},
   "outputs": [
    {
     "name": "stdout",
     "output_type": "stream",
     "text": [
      "graph [[], [], [], [], [], [], []]\n",
      "visited [False, False, False, False, False, False, False]\n",
      "distance [1000000000, 1000000000, 1000000000, 1000000000, 1000000000, 1000000000, 1000000000]\n",
      "graph [[], [(2, 2), (3, 5), (4, 1)], [(3, 3), (4, 2)], [(2, 3), (6, 5)], [(3, 3), (5, 1)], [(3, 1), (6, 2)], []]\n",
      "j (2, 2)\n",
      "j (3, 5)\n",
      "j (4, 1)\n",
      "distance [1000000000, 0, 2, 5, 1, 1000000000, 1000000000] <초기화 끝>\n",
      "0\n",
      "2\n",
      "3\n",
      "1\n",
      "2\n",
      "4\n"
     ]
    }
   ],
   "source": [
    "import sys\n",
    "input = sys.stdin.readline\n",
    "INF = int(1e9)\n",
    "\n",
    "#n, m = map(int, input().split())\n",
    "n, m = 6, 11\n",
    "#start = int(input())\n",
    "start = 1\n",
    "\n",
    "graph = [[] for i in range(n+1)]\n",
    "visited = [False] * (n+1)\n",
    "distance = [INF] * (n+1)\n",
    "\n",
    "print('graph',graph)\n",
    "print('visited',visited)\n",
    "print('distance',distance)\n",
    "\n",
    "\"\"\"\n",
    "for _ in range(m):\n",
    "    a, b, c = map(int, input().split())\n",
    "    graph[a].append((b, c))\n",
    "\"\"\"\n",
    "graph[1].append((2,2))\n",
    "graph[1].append((3,5))\n",
    "graph[1].append((4,1))\n",
    "graph[2].append((3,3))\n",
    "graph[2].append((4,2))\n",
    "graph[3].append((2,3))\n",
    "graph[3].append((6,5))\n",
    "graph[4].append((3,3))\n",
    "graph[4].append((5,1))\n",
    "graph[5].append((3,1))\n",
    "graph[5].append((6,2))\n",
    "print('graph',graph) # 1 2 2 : 1 -> 2로 가는 거리 2\n",
    "\n",
    "def get_smallest_node():\n",
    "    min_value = INF\n",
    "    index = 0\n",
    "    for i in range(1, n+1):\n",
    "        if distance[i] < min_value and not visited[i]:\n",
    "            min_value = distance[i]\n",
    "            index = i\n",
    "    return index\n",
    "\n",
    "def dijkstra(start):\n",
    "    # 시작 노드 초기화 \n",
    "    distance[start] = 0\n",
    "    visited[start] = True\n",
    "    for j in graph[start]:\n",
    "        print('j', j)\n",
    "        distance[j[0]] = j[1]\n",
    "    print('distance',distance, '<초기화 끝>')    \n",
    "        \n",
    "    for i in range(n-1):\n",
    "        now = get_smallest_node()\n",
    "        visited[now] = True\n",
    "        for j in graph[now]:\n",
    "            cost = distance[now] + j[1]\n",
    "            if cost < distance[j[0]]:\n",
    "                distance[j[0]] = cost\n",
    "                \n",
    "dijkstra(start)                \n",
    "\n",
    "for i in range(1, n+1):\n",
    "    if distance[i] == INF:\n",
    "        print('INF')\n",
    "    else:\n",
    "        print(distance[i])"
   ]
  },
  {
   "cell_type": "markdown",
   "metadata": {},
   "source": [
    "## 다익스트라 - 2. 구현은 더 까다롭지만 빠른 코드 "
   ]
  },
  {
   "cell_type": "markdown",
   "metadata": {},
   "source": [
    "### 최소 힙"
   ]
  },
  {
   "cell_type": "code",
   "execution_count": 2,
   "metadata": {},
   "outputs": [
    {
     "name": "stdout",
     "output_type": "stream",
     "text": [
      "[0, 1, 2, 3, 4, 5, 6, 7, 8, 9]\n"
     ]
    }
   ],
   "source": [
    "import heapq\n",
    "\n",
    "def heapsort(iterable):\n",
    "    h = []\n",
    "    result = []\n",
    "    \n",
    "    for value in iterable:\n",
    "        heapq.heappush(h, value)\n",
    "        \n",
    "    for i in range(len(h)):\n",
    "        result.append(heapq.heappop(h))\n",
    "    \n",
    "    return result \n",
    "\n",
    "result = heapsort([1,3,5,7,9,2,4,6,8,0])\n",
    "print(result)"
   ]
  },
  {
   "cell_type": "markdown",
   "metadata": {},
   "source": [
    "### 최대 힙"
   ]
  },
  {
   "cell_type": "code",
   "execution_count": 3,
   "metadata": {},
   "outputs": [
    {
     "name": "stdout",
     "output_type": "stream",
     "text": [
      "[9, 8, 7, 6, 5, 4, 3, 2, 1, 0]\n"
     ]
    }
   ],
   "source": [
    "import heapq\n",
    "\n",
    "def heapsort(iterable):\n",
    "    h = []\n",
    "    result = []\n",
    "    \n",
    "    for value in iterable:\n",
    "        heapq.heappush(h, -value)\n",
    "        \n",
    "    for i in range(len(h)):\n",
    "        result.append(-heapq.heappop(h))\n",
    "    \n",
    "    return result \n",
    "\n",
    "result = heapsort([1,3,5,7,9,2,4,6,8,0])\n",
    "print(result)"
   ]
  },
  {
   "cell_type": "code",
   "execution_count": 4,
   "metadata": {},
   "outputs": [
    {
     "name": "stdout",
     "output_type": "stream",
     "text": [
      "graph [[], [], [], [], [], [], []]\n",
      "distance [1000000000, 1000000000, 1000000000, 1000000000, 1000000000, 1000000000, 1000000000]\n",
      "graph [[], [(2, 2), (3, 5), (4, 1)], [(3, 3), (4, 2)], [(2, 3), (6, 5)], [(3, 3), (5, 1)], [(3, 1), (6, 2)], []]\n",
      "q: [(0, 1)]\n",
      "q: []\n",
      "distance[now], dist: 0 0\n",
      "q: [(2, 2)]\n",
      "q: [(2, 2), (5, 3)]\n",
      "q: [(1, 4), (5, 3), (2, 2)]\n",
      "q: [(2, 2), (5, 3)]\n",
      "distance[now], dist: 1 1\n",
      "q: [(2, 2), (5, 3), (4, 3)]\n",
      "q: [(2, 2), (2, 5), (4, 3), (5, 3)]\n",
      "q: [(2, 5), (5, 3), (4, 3)]\n",
      "distance[now], dist: 2 2\n",
      "q: [(4, 3), (5, 3)]\n",
      "distance[now], dist: 2 2\n",
      "q: [(3, 3), (5, 3), (4, 3)]\n",
      "q: [(3, 3), (4, 6), (4, 3), (5, 3)]\n",
      "q: [(4, 3), (4, 6), (5, 3)]\n",
      "distance[now], dist: 3 3\n",
      "q: [(4, 6), (5, 3)]\n",
      "distance[now], dist: 3 4\n",
      "q: [(5, 3)]\n",
      "distance[now], dist: 4 4\n",
      "q: []\n",
      "distance[now], dist: 3 5\n",
      "0\n",
      "2\n",
      "3\n",
      "1\n",
      "2\n",
      "4\n"
     ]
    }
   ],
   "source": [
    "import sys\n",
    "input = sys.stdin.readline\n",
    "INF = int(1e9)\n",
    "\n",
    "#n, m = map(int, input().split())\n",
    "n, m = 6, 11\n",
    "#start = int(input())\n",
    "start = 1\n",
    "\n",
    "graph = [[] for i in range(n+1)]\n",
    "distance = [INF] * (n+1)\n",
    "\n",
    "print('graph',graph)\n",
    "print('distance',distance)\n",
    "\n",
    "\"\"\"\n",
    "for _ in range(m):\n",
    "    a, b, c = map(int, input().split())\n",
    "    graph[a].append((b, c))\n",
    "\"\"\"\n",
    "graph[1].append((2,2))\n",
    "graph[1].append((3,5))\n",
    "graph[1].append((4,1))\n",
    "graph[2].append((3,3))\n",
    "graph[2].append((4,2))\n",
    "graph[3].append((2,3))\n",
    "graph[3].append((6,5))\n",
    "graph[4].append((3,3))\n",
    "graph[4].append((5,1))\n",
    "graph[5].append((3,1))\n",
    "graph[5].append((6,2))\n",
    "print('graph',graph) # 1 2 2 : 1 -> 2로 가는 거리 2\n",
    "\n",
    "def dijkstra(start):\n",
    "    \n",
    "    q = []\n",
    "    \n",
    "    # 시작 노드 \n",
    "    heapq.heappush(q, (0, start))\n",
    "    print('q:',q)\n",
    "    distance[start] = 0\n",
    "    \n",
    "    while q:\n",
    "        dist, now = heapq.heappop(q)\n",
    "        print('q:',q)\n",
    "        print('distance[now], dist:',distance[now], dist)\n",
    "        if distance[now] < dist:\n",
    "            continue\n",
    "        for i in graph[now]:\n",
    "            cost = dist + i[1]\n",
    "            \n",
    "            if cost < distance[i[0]]:\n",
    "                distance[i[0]] = cost\n",
    "                heapq.heappush(q, (cost, i[0]))\n",
    "                print('q:',q)\n",
    "            \n",
    "dijkstra(start)                \n",
    "\n",
    "for i in range(1, n+1):\n",
    "    if distance[i] == INF:\n",
    "        print('INF')\n",
    "    else:\n",
    "        print(distance[i])"
   ]
  },
  {
   "cell_type": "code",
   "execution_count": 5,
   "metadata": {},
   "outputs": [
    {
     "name": "stdout",
     "output_type": "stream",
     "text": [
      "[[1000000000, 1000000000, 1000000000, 1000000000, 1000000000], [1000000000, 0, 4, 1000000000, 6], [1000000000, 3, 0, 7, 1000000000], [1000000000, 5, 1000000000, 0, 4], [1000000000, 1000000000, 1000000000, 2, 0]]\n",
      "0 4 8 6 \n",
      "3 0 7 9 \n",
      "5 9 0 4 \n",
      "7 11 2 0 \n"
     ]
    }
   ],
   "source": [
    "# 플로이드 워셜 알고리즘\n",
    "\n",
    "INF = int(1e9)\n",
    "\n",
    "n, m = 4, 7\n",
    "graph = [[INF] * (n+1) for _ in range(n+1)]\n",
    "\n",
    "for a in range(1, n+1):\n",
    "    for b in range(1, n+1):\n",
    "        if a==b:\n",
    "            graph[a][b] = 0\n",
    "            \n",
    "graph[1][2] = 4\n",
    "graph[1][4] = 6\n",
    "graph[2][1] = 3\n",
    "graph[2][3] = 7\n",
    "graph[3][1] = 5\n",
    "graph[3][4] = 4\n",
    "graph[4][3] = 2\n",
    "\n",
    "print(graph)\n",
    "\n",
    "for k in range(1, n+1):\n",
    "    for a in range(1,n+1):\n",
    "        for b in range(1,n+1):\n",
    "            graph[a][b] = min(graph[a][b], graph[a][k] + graph[k][b])\n",
    "            \n",
    "for a in range(1, n+1)            :\n",
    "    for b in range(1, n+1):\n",
    "        if graph[a][b] == INF:\n",
    "            print(\"INF\", end=' ')\n",
    "        else:\n",
    "            print(graph[a][b], end=' ')\n",
    "    print()"
   ]
  },
  {
   "cell_type": "code",
   "execution_count": 6,
   "metadata": {},
   "outputs": [
    {
     "name": "stdout",
     "output_type": "stream",
     "text": [
      "[[1000000000, 1000000000, 1000000000, 1000000000, 1000000000, 1000000000], [1000000000, 0, 1, 1, 1, 1000000000], [1000000000, 1, 0, 1000000000, 1, 1000000000], [1000000000, 1, 1000000000, 0, 1, 1], [1000000000, 1, 1, 1, 0, 1], [1000000000, 1000000000, 1000000000, 1, 1, 0]]\n",
      "3\n"
     ]
    }
   ],
   "source": [
    "# 259 미래도시\n",
    "\n",
    "n, m = 5, 7\n",
    "\n",
    "graph = [[INF] * (n+1) for _ in range(n+1)]\n",
    "\n",
    "for a in range(1, n+1):\n",
    "    for b in range(1, n+1):\n",
    "        if a==b:\n",
    "            graph[a][b] = 0\n",
    "            \n",
    "graph[1][2] = 1\n",
    "graph[1][3] = 1\n",
    "graph[1][4] = 1\n",
    "graph[2][4] = 1\n",
    "graph[3][4] = 1\n",
    "graph[3][5] = 1\n",
    "graph[4][5] = 1\n",
    "\n",
    "graph[2][1] = 1\n",
    "graph[3][1] = 1\n",
    "graph[4][1] = 1\n",
    "graph[4][2] = 1\n",
    "graph[4][3] = 1\n",
    "graph[5][3] = 1\n",
    "graph[5][4] = 1\n",
    "\n",
    "x, k = 4, 5\n",
    "\n",
    "print(graph)\n",
    "\n",
    "for k in range(1, n+1):\n",
    "    for a in range(1,n+1):\n",
    "        for b in range(1,n+1):\n",
    "            graph[a][b] = min(graph[a][b], graph[a][k] + graph[k][b])\n",
    "            \n",
    "\n",
    "distance = graph[1][k] + graph[k][x]\n",
    "            \n",
    "if graph[a][b] == INF:\n",
    "    print(\"-1\")\n",
    "else:\n",
    "    print(distance)"
   ]
  },
  {
   "cell_type": "code",
   "execution_count": 7,
   "metadata": {},
   "outputs": [
    {
     "name": "stdout",
     "output_type": "stream",
     "text": [
      "[[], [(2, 4), (3, 2)], [], []]\n",
      "q: [(0, 1)]\n",
      "q: []\n",
      "distance[now], dist: 0 0\n",
      "q: [(4, 2)]\n",
      "q: [(2, 3), (4, 2)]\n",
      "q: [(4, 2)]\n",
      "distance[now], dist: 2 2\n",
      "q: []\n",
      "distance[now], dist: 4 4\n",
      "2 4\n"
     ]
    }
   ],
   "source": [
    "# 262 전보\n",
    "\n",
    "n, m, start = 3,2,1\n",
    "\n",
    "graph = [[] for i in range(n+1)]\n",
    "distance = [INF] * (n+1)\n",
    "\n",
    "graph[1].append((2, 4))\n",
    "graph[1].append((3, 2))\n",
    "print(graph)\n",
    "\n",
    "dijkstra(start)\n",
    "\n",
    "count = 0\n",
    "max_distance = 0\n",
    "\n",
    "for d in distance:\n",
    "    if d != INF:\n",
    "        count += 1\n",
    "        max_distance = max(max_distance, d)\n",
    "        \n",
    "print(count-1, max_distance)        "
   ]
  }
 ],
 "metadata": {
  "kernelspec": {
   "display_name": "Python 3",
   "language": "python",
   "name": "python3"
  },
  "language_info": {
   "codemirror_mode": {
    "name": "ipython",
    "version": 3
   },
   "file_extension": ".py",
   "mimetype": "text/x-python",
   "name": "python",
   "nbconvert_exporter": "python",
   "pygments_lexer": "ipython3",
   "version": "3.7.6"
  }
 },
 "nbformat": 4,
 "nbformat_minor": 4
}
