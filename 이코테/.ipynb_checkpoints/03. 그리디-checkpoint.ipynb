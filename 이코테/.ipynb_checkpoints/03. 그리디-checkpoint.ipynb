{
 "cells": [
  {
   "cell_type": "markdown",
   "metadata": {},
   "source": [
    "w"
   ]
  },
  {
   "cell_type": "code",
   "execution_count": 1,
   "metadata": {},
   "outputs": [
    {
     "name": "stdout",
     "output_type": "stream",
     "text": [
      "6\n"
     ]
    }
   ],
   "source": [
    "# 90 거스름돈 \n",
    "n = 1260\n",
    "coin_types = [500, 100, 50, 10]\n",
    "count = 0\n",
    "for coin in coin_types:\n",
    "    count += n // coin\n",
    "    n%=coin\n",
    "    \n",
    "print(count)    "
   ]
  },
  {
   "cell_type": "code",
   "execution_count": 2,
   "metadata": {},
   "outputs": [
    {
     "name": "stdout",
     "output_type": "stream",
     "text": [
      "[6, 6, 6, 5, 5, 5, 4, 4]\n"
     ]
    }
   ],
   "source": [
    "# 92 큰 수의 법칙\n",
    "#N, M, K = map(int, input().split())\n",
    "#n = list(map(int, input().split()))\n",
    "N, M, K = 5, 8, 3\n",
    "n = [2,4,5,4,6]\n",
    "result = []\n",
    "n.sort(reverse=True)\n",
    "j = 0\n",
    "for i in range(M):\n",
    "    if i < K:\n",
    "        result.append(n[0])\n",
    "    else:\n",
    "        if i % K == 0:\n",
    "            j += 1\n",
    "        result.append(n[j])\n",
    "    \n",
    "print(result)    "
   ]
  },
  {
   "cell_type": "code",
   "execution_count": 3,
   "metadata": {},
   "outputs": [
    {
     "name": "stdout",
     "output_type": "stream",
     "text": [
      "46 [6, 6, 6, 5, 6, 6, 6, 5]\n"
     ]
    }
   ],
   "source": [
    "# 아 k 한번만 지키면 됨;;\n",
    "\n",
    "N, M, K = 5, 8, 3\n",
    "n = [2,4,5,4,6]\n",
    "result = []\n",
    "n.sort(reverse=True)\n",
    "\n",
    "n1 = n[0]\n",
    "n2 = n[1]\n",
    "\n",
    "i = 0\n",
    "\n",
    "while (len(result) < M):\n",
    "    result.append(n1)\n",
    "        \n",
    "    if i%K == (K-1):\n",
    "        result.append(n2)\n",
    "    i += 1            \n",
    "        \n",
    "print(sum(result), result)"
   ]
  },
  {
   "cell_type": "code",
   "execution_count": 4,
   "metadata": {},
   "outputs": [
    {
     "name": "stdout",
     "output_type": "stream",
     "text": [
      "6\n",
      "46\n"
     ]
    }
   ],
   "source": [
    "# 수열로 {6 6 6 5} 가 반복됨 \n",
    "\n",
    "N, M, K = 5, 8, 3\n",
    "n = [2,4,5,4,6]\n",
    "result = 0\n",
    "n.sort(reverse=True)\n",
    "\n",
    "n1 = n[0]\n",
    "n2 = n[1]\n",
    "\n",
    "# 횟수\n",
    "count = int(M/(K+1))*K\n",
    "count += M % (K+1)\n",
    "print(count)\n",
    "\n",
    "result += count * n1\n",
    "result += (M-count) * n2\n",
    "\n",
    "print(result)"
   ]
  },
  {
   "cell_type": "code",
   "execution_count": null,
   "metadata": {},
   "outputs": [],
   "source": []
  },
  {
   "cell_type": "code",
   "execution_count": 5,
   "metadata": {},
   "outputs": [],
   "source": [
    "# 96 숫자 카드 게임 "
   ]
  },
  {
   "cell_type": "code",
   "execution_count": 6,
   "metadata": {},
   "outputs": [
    {
     "name": "stdout",
     "output_type": "stream",
     "text": [
      "0 26\n",
      "1 25\n",
      "2 24\n",
      "3 8.0\n",
      "4 7.0\n",
      "5 6.0\n",
      "7 1.0\n",
      "7\n"
     ]
    }
   ],
   "source": [
    "# 99 1이 될때까지\n",
    "n = 26\n",
    "k = 3\n",
    "count = 0\n",
    "\n",
    "while n >= k:\n",
    "    print(count, n)\n",
    "    while(n % k != 0):\n",
    "        n -= 1\n",
    "        count += 1    \n",
    "        print(count, n)\n",
    "    n /= k\n",
    "    count += 1    \n",
    "    \n",
    "\n",
    "while n > 1:\n",
    "    n -= 1\n",
    "    count += 1    \n",
    "    print(count, n)\n",
    "    \n",
    "print(count)    "
   ]
  },
  {
   "cell_type": "code",
   "execution_count": 7,
   "metadata": {},
   "outputs": [
    {
     "name": "stdout",
     "output_type": "stream",
     "text": [
      "7\n"
     ]
    }
   ],
   "source": [
    "# 99 1이 될때까지 + 시간복잡도 개선\n",
    "\n",
    "#n, k = map(int, input().split())\n",
    "n = 26\n",
    "k = 3\n",
    "count = 0\n",
    "\n",
    "while True:\n",
    "    target = (n//k)*k\n",
    "    count += (n - target)\n",
    "    n = target\n",
    "    \n",
    "    if n < k:\n",
    "        break\n",
    "\n",
    "    count += 1\n",
    "    n //= k\n",
    "count += (n-1)\n",
    "print(count)"
   ]
  },
  {
   "cell_type": "code",
   "execution_count": null,
   "metadata": {},
   "outputs": [],
   "source": []
  },
  {
   "cell_type": "code",
   "execution_count": 8,
   "metadata": {},
   "outputs": [
    {
     "name": "stdout",
     "output_type": "stream",
     "text": [
      "576\n"
     ]
    }
   ],
   "source": [
    "# 곱하기 혹은 더하기: +/* 연산만으로 가장 큰 숫자 만들기\n",
    "n = '02984'\n",
    "\n",
    "result = int(n[0])\n",
    "\n",
    "for i in range(1, len(n)):\n",
    "    num = int(n[i])\n",
    "    if num <= 1 or result <= 1: # 0, 1 일땐 더하기         \n",
    "        result = result + num\n",
    "    else:\n",
    "        result *= num\n",
    "print(result)        "
   ]
  },
  {
   "cell_type": "code",
   "execution_count": 9,
   "metadata": {},
   "outputs": [
    {
     "name": "stdout",
     "output_type": "stream",
     "text": [
      "2\n"
     ]
    }
   ],
   "source": [
    "# 모험가 길드: 모험가 N명 '공포도'\n",
    "#  공포도 X 모험가는 X명 이상 구성되야 참가 가능, 최대한 많은 그룹수의 최댓값\n",
    "#  모든 모험가가 그룹에 들어가야 할 필요는 없음\n",
    "\n",
    "N = 5\n",
    "s = [2,3,1,2,2]\n",
    "s.sort()\n",
    "\n",
    "group = 0\n",
    "count = 0 # 현 그룹 인원 \n",
    "\n",
    "for i in s:\n",
    "    count += 1\n",
    "    if count >= i:\n",
    "        group += 1\n",
    "        count = 0\n",
    "        \n",
    "print(group)   "
   ]
  },
  {
   "cell_type": "code",
   "execution_count": null,
   "metadata": {},
   "outputs": [],
   "source": []
  }
 ],
 "metadata": {
  "kernelspec": {
   "display_name": "Python 3",
   "language": "python",
   "name": "python3"
  },
  "language_info": {
   "codemirror_mode": {
    "name": "ipython",
    "version": 3
   },
   "file_extension": ".py",
   "mimetype": "text/x-python",
   "name": "python",
   "nbconvert_exporter": "python",
   "pygments_lexer": "ipython3",
   "version": "3.7.6"
  }
 },
 "nbformat": 4,
 "nbformat_minor": 4
}
